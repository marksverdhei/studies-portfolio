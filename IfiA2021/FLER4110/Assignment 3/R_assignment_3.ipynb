{
 "cells": [
  {
   "cell_type": "markdown",
   "id": "worst-series",
   "metadata": {},
   "source": [
    "# FLER4110 - Assignment 3\n",
    "\n",
    "Markus Sverdvik Heiervang - markuhei\n",
    "\n",
    "***\n",
    "\n",
    "## Part 1 - Exploring chips-language connection\n",
    "\n",
    "\n",
    "dataset <- read.csv(file = 'chips_df.csv')\n",
    "dataset\n",
    "\n",
    "mean(dataset[[\"chips\"]])\n",
    "\n",
    "sd(dataset[[\"chips\"]])\n",
    "\n",
    "mean(dataset[[\"languages\"]])\n",
    "\n",
    "sd(dataset[[\"languages\"]])\n",
    "\n",
    "hist(dataset[[\"chips\"]])\n",
    "\n",
    "hist(dataset[[\"languages\"]])\n",
    "\n",
    "## Part 2 - My R journey so far  \n",
    "\n",
    "To be honest, I must admit that I am not quite the target audience for this course. This course is aimed at language students, but I have my background from informatics and computer science. Since I had very little prior experience with R, I think it is safe to say that my true R journey started with this course. Computational statistics on the other hand, is something I have much experience with from studies and work, as I'm writing my masters thesis in language technology. I have used R once before starting this course, in a data science project when we needed to apply Logistic PCA: a function that had no implementation in python. In other words, a couple lines of code.\n",
    "\n",
    "I think my prior experience with programming and computational statistics has made my experience with R so far has been very forgiving. That is, the little experience I have had solving the mandatory exercises so far. Mainly, the journey has consisted of learning the R syntax and using Rstudio.  \n",
    "\n",
    "Nothing that I have done so far have I considered challenging, but I do not have the expectations of being challenged this early in the course, considering that I have taken similar courses before. I think I will learn much more later in the course when the obligatory assignments increase in difficulty and work, and by the end of the course become a confident, or at least comfortable R programmer. To be completely honest I have not attended many of the classes yet and have an insufficient amount of data to give helpful feedback on. But I look forward to get more training in applying computational statistics to different use cases, primarily with language data. I do however think that the use of mandatory (weekly) assignment is an excellent way to help students learn programming and the curriculum well. I am a big fan of practical exercises.\n",
    "\n",
    "So to conclude, as I am at the very start of my R journey, it is only natural that my experience has been very forgiving given my prior knowledge and I look forward to learn more as the assignments increase in difficulty and finally become a comfortable R programmer. "
   ]
  }
 ],
 "metadata": {
  "kernelspec": {
   "display_name": "R",
   "language": "R",
   "name": "ir"
  },
  "language_info": {
   "codemirror_mode": "r",
   "file_extension": ".r",
   "mimetype": "text/x-r-source",
   "name": "R",
   "pygments_lexer": "r",
   "version": "3.6.3"
  }
 },
 "nbformat": 4,
 "nbformat_minor": 5
}
