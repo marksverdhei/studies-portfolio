{
 "cells": [
  {
   "cell_type": "code",
   "execution_count": 15,
   "id": "fifteen-things",
   "metadata": {},
   "outputs": [
    {
     "data": {
      "text/html": [
       "<table>\n",
       "<caption>A data.frame: 6 × 8</caption>\n",
       "<thead>\n",
       "\t<tr><th></th><th scope=col>Word</th><th scope=col>POS</th><th scope=col>SER</th><th scope=col>CorteseImag</th><th scope=col>Conc</th><th scope=col>Syst</th><th scope=col>Freq</th><th scope=col>Iconicity</th></tr>\n",
       "\t<tr><th></th><th scope=col>&lt;fct&gt;</th><th scope=col>&lt;fct&gt;</th><th scope=col>&lt;dbl&gt;</th><th scope=col>&lt;dbl&gt;</th><th scope=col>&lt;dbl&gt;</th><th scope=col>&lt;dbl&gt;</th><th scope=col>&lt;int&gt;</th><th scope=col>&lt;dbl&gt;</th></tr>\n",
       "</thead>\n",
       "<tbody>\n",
       "\t<tr><th scope=row>1</th><td>a       </td><td>Grammatical</td><td>  NA</td><td>NA</td><td>1.46</td><td>NA</td><td>1041179</td><td> 0.4615385</td></tr>\n",
       "\t<tr><th scope=row>2</th><td>abide   </td><td>Verb       </td><td>  NA</td><td>NA</td><td>1.68</td><td>NA</td><td>    138</td><td> 0.2500000</td></tr>\n",
       "\t<tr><th scope=row>3</th><td>able    </td><td>Adjective  </td><td>1.73</td><td>NA</td><td>2.38</td><td>NA</td><td>   8155</td><td> 0.4666667</td></tr>\n",
       "\t<tr><th scope=row>4</th><td>about   </td><td>Grammatical</td><td>1.20</td><td>NA</td><td>1.77</td><td>NA</td><td> 185206</td><td>-0.1000000</td></tr>\n",
       "\t<tr><th scope=row>5</th><td>above   </td><td>Grammatical</td><td>2.91</td><td>NA</td><td>3.33</td><td>NA</td><td>   2493</td><td> 1.0625000</td></tr>\n",
       "\t<tr><th scope=row>6</th><td>abrasive</td><td>Adjective  </td><td>  NA</td><td>NA</td><td>3.03</td><td>NA</td><td>     23</td><td> 1.3125000</td></tr>\n",
       "</tbody>\n",
       "</table>\n"
      ],
      "text/latex": [
       "A data.frame: 6 × 8\n",
       "\\begin{tabular}{r|llllllll}\n",
       "  & Word & POS & SER & CorteseImag & Conc & Syst & Freq & Iconicity\\\\\n",
       "  & <fct> & <fct> & <dbl> & <dbl> & <dbl> & <dbl> & <int> & <dbl>\\\\\n",
       "\\hline\n",
       "\t1 & a        & Grammatical &   NA & NA & 1.46 & NA & 1041179 &  0.4615385\\\\\n",
       "\t2 & abide    & Verb        &   NA & NA & 1.68 & NA &     138 &  0.2500000\\\\\n",
       "\t3 & able     & Adjective   & 1.73 & NA & 2.38 & NA &    8155 &  0.4666667\\\\\n",
       "\t4 & about    & Grammatical & 1.20 & NA & 1.77 & NA &  185206 & -0.1000000\\\\\n",
       "\t5 & above    & Grammatical & 2.91 & NA & 3.33 & NA &    2493 &  1.0625000\\\\\n",
       "\t6 & abrasive & Adjective   &   NA & NA & 3.03 & NA &      23 &  1.3125000\\\\\n",
       "\\end{tabular}\n"
      ],
      "text/markdown": [
       "\n",
       "A data.frame: 6 × 8\n",
       "\n",
       "| <!--/--> | Word &lt;fct&gt; | POS &lt;fct&gt; | SER &lt;dbl&gt; | CorteseImag &lt;dbl&gt; | Conc &lt;dbl&gt; | Syst &lt;dbl&gt; | Freq &lt;int&gt; | Iconicity &lt;dbl&gt; |\n",
       "|---|---|---|---|---|---|---|---|---|\n",
       "| 1 | a        | Grammatical |   NA | NA | 1.46 | NA | 1041179 |  0.4615385 |\n",
       "| 2 | abide    | Verb        |   NA | NA | 1.68 | NA |     138 |  0.2500000 |\n",
       "| 3 | able     | Adjective   | 1.73 | NA | 2.38 | NA |    8155 |  0.4666667 |\n",
       "| 4 | about    | Grammatical | 1.20 | NA | 1.77 | NA |  185206 | -0.1000000 |\n",
       "| 5 | above    | Grammatical | 2.91 | NA | 3.33 | NA |    2493 |  1.0625000 |\n",
       "| 6 | abrasive | Adjective   |   NA | NA | 3.03 | NA |      23 |  1.3125000 |\n",
       "\n"
      ],
      "text/plain": [
       "  Word     POS         SER  CorteseImag Conc Syst Freq    Iconicity \n",
       "1 a        Grammatical   NA NA          1.46 NA   1041179  0.4615385\n",
       "2 abide    Verb          NA NA          1.68 NA       138  0.2500000\n",
       "3 able     Adjective   1.73 NA          2.38 NA      8155  0.4666667\n",
       "4 about    Grammatical 1.20 NA          1.77 NA    185206 -0.1000000\n",
       "5 above    Grammatical 2.91 NA          3.33 NA      2493  1.0625000\n",
       "6 abrasive Adjective     NA NA          3.03 NA        23  1.3125000"
      ]
     },
     "metadata": {},
     "output_type": "display_data"
    }
   ],
   "source": [
    "# Read dataset\n",
    "dataset = read.csv(file='perry_winter_2017_iconicity.csv')\n",
    "head(dataset)"
   ]
  },
  {
   "cell_type": "code",
   "execution_count": 16,
   "id": "indirect-lloyd",
   "metadata": {},
   "outputs": [
    {
     "data": {
      "text/html": [
       "<table>\n",
       "<caption>A data.frame: 7 × 2</caption>\n",
       "<thead>\n",
       "\t<tr><th scope=col>POS</th><th scope=col>x</th></tr>\n",
       "\t<tr><th scope=col>&lt;fct&gt;</th><th scope=col>&lt;int&gt;</th></tr>\n",
       "</thead>\n",
       "<tbody>\n",
       "\t<tr><td>Adjective   </td><td> 1119904</td></tr>\n",
       "\t<tr><td>Adverb      </td><td> 2428839</td></tr>\n",
       "\t<tr><td>Grammatical </td><td>19668115</td></tr>\n",
       "\t<tr><td>Interjection</td><td>  484953</td></tr>\n",
       "\t<tr><td>Name        </td><td>    7057</td></tr>\n",
       "\t<tr><td>Noun        </td><td> 3098789</td></tr>\n",
       "\t<tr><td>Verb        </td><td> 5867256</td></tr>\n",
       "</tbody>\n",
       "</table>\n"
      ],
      "text/latex": [
       "A data.frame: 7 × 2\n",
       "\\begin{tabular}{ll}\n",
       " POS & x\\\\\n",
       " <fct> & <int>\\\\\n",
       "\\hline\n",
       "\t Adjective    &  1119904\\\\\n",
       "\t Adverb       &  2428839\\\\\n",
       "\t Grammatical  & 19668115\\\\\n",
       "\t Interjection &   484953\\\\\n",
       "\t Name         &     7057\\\\\n",
       "\t Noun         &  3098789\\\\\n",
       "\t Verb         &  5867256\\\\\n",
       "\\end{tabular}\n"
      ],
      "text/markdown": [
       "\n",
       "A data.frame: 7 × 2\n",
       "\n",
       "| POS &lt;fct&gt; | x &lt;int&gt; |\n",
       "|---|---|\n",
       "| Adjective    |  1119904 |\n",
       "| Adverb       |  2428839 |\n",
       "| Grammatical  | 19668115 |\n",
       "| Interjection |   484953 |\n",
       "| Name         |     7057 |\n",
       "| Noun         |  3098789 |\n",
       "| Verb         |  5867256 |\n",
       "\n"
      ],
      "text/plain": [
       "  POS          x       \n",
       "1 Adjective     1119904\n",
       "2 Adverb        2428839\n",
       "3 Grammatical  19668115\n",
       "4 Interjection   484953\n",
       "5 Name             7057\n",
       "6 Noun          3098789\n",
       "7 Verb          5867256"
      ]
     },
     "metadata": {},
     "output_type": "display_data"
    }
   ],
   "source": [
    "# Group by POS and sum across frequency\n",
    "frequencies = aggregate(dataset$Freq, by=list(POS=dataset$POS), FUN=sum)\n",
    "frequencies"
   ]
  },
  {
   "cell_type": "code",
   "execution_count": 35,
   "id": "modern-archives",
   "metadata": {},
   "outputs": [
    {
     "data": {
      "image/png": "[encoded data removed]",
      "text/plain": [
       "Plot with title “Grammatical is by far the most frequent part of speech”"
      ]
     },
     "metadata": {
      "image/png": {
       "height": 420,
       "width": 420
      }
     },
     "output_type": "display_data"
    }
   ],
   "source": [
    "# Add plot\n",
    "barplot(\n",
    "    frequencies$x, \n",
    "    names.arg = frequencies$POS, \n",
    "    horiz = T, \n",
    "    las = 2, \n",
    "    cex.names = 0.7, \n",
    "    col = 7,\n",
    "    main = \"Grammatical is by far the most frequent part of speech\"\n",
    ")\n",
    "\n",
    "# Add vertical grid\n",
    "grid(nx = NULL, ny = NA,\n",
    "     lty = 1,      # Grid line type\n",
    "     col = \"gray\", # Grid line color\n",
    "     lwd = 2)"
   ]
  }
 ],
 "metadata": {
  "kernelspec": {
   "display_name": "R",
   "language": "R",
   "name": "ir"
  },
  "language_info": {
   "codemirror_mode": "r",
   "file_extension": ".r",
   "mimetype": "text/x-r-source",
   "name": "R",
   "pygments_lexer": "r",
   "version": "3.6.3"
  }
 },
 "nbformat": 4,
 "nbformat_minor": 5
}
