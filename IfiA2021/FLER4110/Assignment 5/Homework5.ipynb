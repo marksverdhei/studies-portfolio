{
 "cells": [
  {
   "cell_type": "code",
   "execution_count": 1,
   "metadata": {},
   "outputs": [],
   "source": [
    "# knitr::opts_chunk$set(echo = TRUE)"
   ]
  },
  {
   "cell_type": "code",
   "execution_count": 2,
   "metadata": {},
   "outputs": [],
   "source": [
    "# nifty code using the pacman package\n",
    "# it checks if the packages specified below are installed, if not, they will be installed, if yes, they will be loaded\n",
    "# if (!require(\"pacman\")) install.packages(\"pacman\")\n",
    "# pacman::p_load(rstudioapi, tidyverse)\n",
    "\n",
    "# set the current working directory to the one where this file is\n",
    "# current_working_dir <- dirname(rstudioapi::getActiveDocumentContext()$path)\n",
    "# setwd(current_working_dir)"
   ]
  },
  {
   "cell_type": "markdown",
   "metadata": {},
   "source": [
    "# Homework (in book: 4.10.1) \n",
    "In this exercise, you will perform the analysis corresponding to Figure 4.1 on page 70. \n",
    "\n",
    "1. Load in the data set `ELP_frequency.csv` into your R session. "
   ]
  },
  {
   "cell_type": "code",
   "execution_count": 3,
   "metadata": {},
   "outputs": [
    {
     "name": "stderr",
     "output_type": "stream",
     "text": [
      "\n",
      "Attaching package: ‘dplyr’\n",
      "\n",
      "\n",
      "The following objects are masked from ‘package:stats’:\n",
      "\n",
      "    filter, lag\n",
      "\n",
      "\n",
      "The following objects are masked from ‘package:base’:\n",
      "\n",
      "    intersect, setdiff, setequal, union\n",
      "\n",
      "\n"
     ]
    },
    {
     "data": {
      "text/html": [
       "<table>\n",
       "<caption>A data.frame: 12 × 3</caption>\n",
       "<thead>\n",
       "\t<tr><th scope=col>Word</th><th scope=col>Freq</th><th scope=col>RT</th></tr>\n",
       "\t<tr><th scope=col>&lt;fct&gt;</th><th scope=col>&lt;int&gt;</th><th scope=col>&lt;dbl&gt;</th></tr>\n",
       "</thead>\n",
       "<tbody>\n",
       "\t<tr><td>thing   </td><td>55522</td><td>621.77</td></tr>\n",
       "\t<tr><td>life    </td><td>40629</td><td>519.56</td></tr>\n",
       "\t<tr><td>door    </td><td>14895</td><td>507.38</td></tr>\n",
       "\t<tr><td>angel   </td><td> 3992</td><td>636.56</td></tr>\n",
       "\t<tr><td>beer    </td><td> 3850</td><td>587.18</td></tr>\n",
       "\t<tr><td>disgrace</td><td>  409</td><td>705.00</td></tr>\n",
       "\t<tr><td>kitten  </td><td>  241</td><td>611.26</td></tr>\n",
       "\t<tr><td>bloke   </td><td>  238</td><td>794.35</td></tr>\n",
       "\t<tr><td>mocha   </td><td>   66</td><td>725.04</td></tr>\n",
       "\t<tr><td>gnome   </td><td>   32</td><td>809.87</td></tr>\n",
       "\t<tr><td>nihilism</td><td>    4</td><td>763.50</td></tr>\n",
       "\t<tr><td>puffball</td><td>    4</td><td>877.53</td></tr>\n",
       "</tbody>\n",
       "</table>\n"
      ],
      "text/latex": [
       "A data.frame: 12 × 3\n",
       "\\begin{tabular}{lll}\n",
       " Word & Freq & RT\\\\\n",
       " <fct> & <int> & <dbl>\\\\\n",
       "\\hline\n",
       "\t thing    & 55522 & 621.77\\\\\n",
       "\t life     & 40629 & 519.56\\\\\n",
       "\t door     & 14895 & 507.38\\\\\n",
       "\t angel    &  3992 & 636.56\\\\\n",
       "\t beer     &  3850 & 587.18\\\\\n",
       "\t disgrace &   409 & 705.00\\\\\n",
       "\t kitten   &   241 & 611.26\\\\\n",
       "\t bloke    &   238 & 794.35\\\\\n",
       "\t mocha    &    66 & 725.04\\\\\n",
       "\t gnome    &    32 & 809.87\\\\\n",
       "\t nihilism &     4 & 763.50\\\\\n",
       "\t puffball &     4 & 877.53\\\\\n",
       "\\end{tabular}\n"
      ],
      "text/markdown": [
       "\n",
       "A data.frame: 12 × 3\n",
       "\n",
       "| Word &lt;fct&gt; | Freq &lt;int&gt; | RT &lt;dbl&gt; |\n",
       "|---|---|---|\n",
       "| thing    | 55522 | 621.77 |\n",
       "| life     | 40629 | 519.56 |\n",
       "| door     | 14895 | 507.38 |\n",
       "| angel    |  3992 | 636.56 |\n",
       "| beer     |  3850 | 587.18 |\n",
       "| disgrace |   409 | 705.00 |\n",
       "| kitten   |   241 | 611.26 |\n",
       "| bloke    |   238 | 794.35 |\n",
       "| mocha    |    66 | 725.04 |\n",
       "| gnome    |    32 | 809.87 |\n",
       "| nihilism |     4 | 763.50 |\n",
       "| puffball |     4 | 877.53 |\n",
       "\n"
      ],
      "text/plain": [
       "   Word     Freq  RT    \n",
       "1  thing    55522 621.77\n",
       "2  life     40629 519.56\n",
       "3  door     14895 507.38\n",
       "4  angel     3992 636.56\n",
       "5  beer      3850 587.18\n",
       "6  disgrace   409 705.00\n",
       "7  kitten     241 611.26\n",
       "8  bloke      238 794.35\n",
       "9  mocha       66 725.04\n",
       "10 gnome       32 809.87\n",
       "11 nihilism     4 763.50\n",
       "12 puffball     4 877.53"
      ]
     },
     "metadata": {},
     "output_type": "display_data"
    }
   ],
   "source": [
    "library(\"dplyr\")\n",
    "library(\"ggplot2\")\n",
    "df = read.csv(\"ELP_frequency.csv\")\n",
    "df"
   ]
  },
  {
   "cell_type": "markdown",
   "metadata": {},
   "source": [
    "2. Use `mutate()` to apply the `log10()` function to the frequency column (`Freq`) (logarithms will be explained in Chapter 5)."
   ]
  },
  {
   "cell_type": "code",
   "execution_count": 4,
   "metadata": {
    "scrolled": false
   },
   "outputs": [
    {
     "data": {
      "text/html": [
       "<table>\n",
       "<caption>A data.frame: 12 × 3</caption>\n",
       "<thead>\n",
       "\t<tr><th scope=col>Word</th><th scope=col>Freq</th><th scope=col>RT</th></tr>\n",
       "\t<tr><th scope=col>&lt;fct&gt;</th><th scope=col>&lt;dbl&gt;</th><th scope=col>&lt;dbl&gt;</th></tr>\n",
       "</thead>\n",
       "<tbody>\n",
       "\t<tr><td>thing   </td><td>4.744465</td><td>621.77</td></tr>\n",
       "\t<tr><td>life    </td><td>4.608836</td><td>519.56</td></tr>\n",
       "\t<tr><td>door    </td><td>4.173041</td><td>507.38</td></tr>\n",
       "\t<tr><td>angel   </td><td>3.601191</td><td>636.56</td></tr>\n",
       "\t<tr><td>beer    </td><td>3.585461</td><td>587.18</td></tr>\n",
       "\t<tr><td>disgrace</td><td>2.611723</td><td>705.00</td></tr>\n",
       "\t<tr><td>kitten  </td><td>2.382017</td><td>611.26</td></tr>\n",
       "\t<tr><td>bloke   </td><td>2.376577</td><td>794.35</td></tr>\n",
       "\t<tr><td>mocha   </td><td>1.819544</td><td>725.04</td></tr>\n",
       "\t<tr><td>gnome   </td><td>1.505150</td><td>809.87</td></tr>\n",
       "\t<tr><td>nihilism</td><td>0.602060</td><td>763.50</td></tr>\n",
       "\t<tr><td>puffball</td><td>0.602060</td><td>877.53</td></tr>\n",
       "</tbody>\n",
       "</table>\n"
      ],
      "text/latex": [
       "A data.frame: 12 × 3\n",
       "\\begin{tabular}{lll}\n",
       " Word & Freq & RT\\\\\n",
       " <fct> & <dbl> & <dbl>\\\\\n",
       "\\hline\n",
       "\t thing    & 4.744465 & 621.77\\\\\n",
       "\t life     & 4.608836 & 519.56\\\\\n",
       "\t door     & 4.173041 & 507.38\\\\\n",
       "\t angel    & 3.601191 & 636.56\\\\\n",
       "\t beer     & 3.585461 & 587.18\\\\\n",
       "\t disgrace & 2.611723 & 705.00\\\\\n",
       "\t kitten   & 2.382017 & 611.26\\\\\n",
       "\t bloke    & 2.376577 & 794.35\\\\\n",
       "\t mocha    & 1.819544 & 725.04\\\\\n",
       "\t gnome    & 1.505150 & 809.87\\\\\n",
       "\t nihilism & 0.602060 & 763.50\\\\\n",
       "\t puffball & 0.602060 & 877.53\\\\\n",
       "\\end{tabular}\n"
      ],
      "text/markdown": [
       "\n",
       "A data.frame: 12 × 3\n",
       "\n",
       "| Word &lt;fct&gt; | Freq &lt;dbl&gt; | RT &lt;dbl&gt; |\n",
       "|---|---|---|\n",
       "| thing    | 4.744465 | 621.77 |\n",
       "| life     | 4.608836 | 519.56 |\n",
       "| door     | 4.173041 | 507.38 |\n",
       "| angel    | 3.601191 | 636.56 |\n",
       "| beer     | 3.585461 | 587.18 |\n",
       "| disgrace | 2.611723 | 705.00 |\n",
       "| kitten   | 2.382017 | 611.26 |\n",
       "| bloke    | 2.376577 | 794.35 |\n",
       "| mocha    | 1.819544 | 725.04 |\n",
       "| gnome    | 1.505150 | 809.87 |\n",
       "| nihilism | 0.602060 | 763.50 |\n",
       "| puffball | 0.602060 | 877.53 |\n",
       "\n"
      ],
      "text/plain": [
       "   Word     Freq     RT    \n",
       "1  thing    4.744465 621.77\n",
       "2  life     4.608836 519.56\n",
       "3  door     4.173041 507.38\n",
       "4  angel    3.601191 636.56\n",
       "5  beer     3.585461 587.18\n",
       "6  disgrace 2.611723 705.00\n",
       "7  kitten   2.382017 611.26\n",
       "8  bloke    2.376577 794.35\n",
       "9  mocha    1.819544 725.04\n",
       "10 gnome    1.505150 809.87\n",
       "11 nihilism 0.602060 763.50\n",
       "12 puffball 0.602060 877.53"
      ]
     },
     "metadata": {},
     "output_type": "display_data"
    }
   ],
   "source": [
    "df = mutate(df, Freq=log10(Freq))\n",
    "df"
   ]
  },
  {
   "cell_type": "markdown",
   "metadata": {},
   "source": [
    "3. Fit a linear model in which response time (`RT`) are modeled as a function of log frequencies. "
   ]
  },
  {
   "cell_type": "code",
   "execution_count": 5,
   "metadata": {},
   "outputs": [],
   "source": [
    "# The log10 function is already applied in-place on the dataframe\n",
    "# So we dont need ot apply it again\n",
    "model = lm(df$RT ~ df$Freq, data=df)"
   ]
  },
  {
   "cell_type": "markdown",
   "metadata": {},
   "source": [
    "4. Create a plot for the relationship between these two variables. "
   ]
  },
  {
   "cell_type": "code",
   "execution_count": 6,
   "metadata": {
    "scrolled": true
   },
   "outputs": [
    {
     "data": {
      "image/png": "[encoded data removed]",
      "text/plain": [
       "plot without title"
      ]
     },
     "metadata": {
      "image/png": {
       "height": 420,
       "width": 420
      }
     },
     "output_type": "display_data"
    }
   ],
   "source": [
    "ggplot(df, aes(x=Freq, y=RT)) + geom_point()"
   ]
  },
  {
   "cell_type": "markdown",
   "metadata": {},
   "source": [
    "5. Can you add a horizontal line showing the mean response duration using `geom_hline()` and the `yintercept` aesthetic?"
   ]
  },
  {
   "cell_type": "code",
   "execution_count": 7,
   "metadata": {},
   "outputs": [
    {
     "data": {
      "image/png": "[encoded data removed]",
      "text/plain": [
       "plot without title"
      ]
     },
     "metadata": {
      "image/png": {
       "height": 420,
       "width": 420
      }
     },
     "output_type": "display_data"
    }
   ],
   "source": [
    "ggplot(df, aes(x=Freq, y=RT)) + geom_point() + geom_hline(yintercept=mean(df$RT))"
   ]
  },
  {
   "cell_type": "markdown",
   "metadata": {},
   "source": [
    "6. Can you add the regression line from your model?"
   ]
  },
  {
   "cell_type": "code",
   "execution_count": 9,
   "metadata": {},
   "outputs": [
    {
     "data": {
      "image/png": "[encoded data removed]",
      "text/plain": [
       "plot without title"
      ]
     },
     "metadata": {
      "image/png": {
       "height": 420,
       "width": 420
      }
     },
     "output_type": "display_data"
    }
   ],
   "source": [
    "coefs = coefficients(model)\n",
    "intercept = coefs[[\"(Intercept)\"]]\n",
    "slope = coefs[[\"df$Freq\"]]\n",
    "\n",
    "ggplot(df, aes(x=Freq, y=RT)) + geom_point(colour=\"blue\") + \n",
    "geom_hline(yintercept=mean(df$RT), color=\"red\") + \n",
    "geom_abline(intercept=intercept, slope=slope)"
   ]
  },
  {
   "cell_type": "markdown",
   "metadata": {},
   "source": [
    "(7. Upload your Rmarkdown file (`.Rmd`) and a knitted document (`.html` or `.pdf`) to Canvas. (deadline: 19.10.2021, 23.59h CET))"
   ]
  }
 ],
 "metadata": {
  "kernelspec": {
   "display_name": "R",
   "language": "R",
   "name": "ir"
  },
  "language_info": {
   "codemirror_mode": "r",
   "file_extension": ".r",
   "mimetype": "text/x-r-source",
   "name": "R",
   "pygments_lexer": "r",
   "version": "3.6.3"
  }
 },
 "nbformat": 4,
 "nbformat_minor": 4
}
