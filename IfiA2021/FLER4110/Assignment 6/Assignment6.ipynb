{
 "cells": [
  {
   "cell_type": "markdown",
   "metadata": {},
   "source": [
    "## HOMEWORK (Winter 7.12.2)\n",
    "Let’s assess the degree to which perceptual words differ in terms of iconicity as a function of sensory modality, as explored in Winter et al. (2017) (see Chapter 2). \n",
    "The following code loads in the Lynott and Connell (2009) modality ratings for adjectives and our iconicity ratings. \n",
    "The two tibbles are then merged, and a subset of the columns is extracted using `select()`."
   ]
  },
  {
   "cell_type": "code",
   "execution_count": 1,
   "metadata": {},
   "outputs": [
    {
     "name": "stderr",
     "output_type": "stream",
     "text": [
      "Loading required package: pacman\n",
      "\n"
     ]
    }
   ],
   "source": [
    "\n",
    "# nifty code using the pacman package\n",
    "# it checks if the packages specified below are installed, if not, they will be installed, if yes, they will be loaded\n",
    "if (!require(\"pacman\")) install.packages(\"pacman\")\n",
    "pacman::p_load(rstudioapi, tidyverse, broom)\n",
    "\n",
    "# set the current working directory to the one where this file is\n",
    "# current_working_dir <- dirname(rstudioapi::getActiveDocumentContext()$path)\n",
    "# setwd(current_working_dir)\n"
   ]
  },
  {
   "cell_type": "code",
   "execution_count": 2,
   "metadata": {
    "scrolled": true
   },
   "outputs": [
    {
     "name": "stderr",
     "output_type": "stream",
     "text": [
      "\u001b[1m\u001b[1mRows: \u001b[1m\u001b[22m\u001b[34m\u001b[34m423\u001b[34m\u001b[39m \u001b[1m\u001b[1mColumns: \u001b[1m\u001b[22m\u001b[34m\u001b[34m9\u001b[34m\u001b[39m\n",
      "\n",
      "\u001b[36m──\u001b[39m \u001b[1m\u001b[1mColumn specification\u001b[1m\u001b[22m \u001b[36m────────────────────────────────────────────────────────\u001b[39m\n",
      "\u001b[1mDelimiter:\u001b[22m \",\"\n",
      "\u001b[31mchr\u001b[39m (3): PropertyBritish, Word, DominantModality\n",
      "\u001b[32mdbl\u001b[39m (6): Sight, Touch, Sound, Taste, Smell, ModalityExclusivity\n",
      "\n",
      "\n",
      "\u001b[36mℹ\u001b[39m Use \u001b[30m\u001b[47m\u001b[30m\u001b[47m`spec()`\u001b[47m\u001b[30m\u001b[49m\u001b[39m to retrieve the full column specification for this data.\n",
      "\u001b[36mℹ\u001b[39m Specify the column types or set \u001b[30m\u001b[47m\u001b[30m\u001b[47m`show_col_types = FALSE`\u001b[47m\u001b[30m\u001b[49m\u001b[39m to quiet this message.\n",
      "\n",
      "\u001b[1m\u001b[1mRows: \u001b[1m\u001b[22m\u001b[34m\u001b[34m3001\u001b[34m\u001b[39m \u001b[1m\u001b[1mColumns: \u001b[1m\u001b[22m\u001b[34m\u001b[34m8\u001b[34m\u001b[39m\n",
      "\n",
      "\u001b[36m──\u001b[39m \u001b[1m\u001b[1mColumn specification\u001b[1m\u001b[22m \u001b[36m────────────────────────────────────────────────────────\u001b[39m\n",
      "\u001b[1mDelimiter:\u001b[22m \",\"\n",
      "\u001b[31mchr\u001b[39m (2): Word, POS\n",
      "\u001b[32mdbl\u001b[39m (6): SER, CorteseImag, Conc, Syst, Freq, Iconicity\n",
      "\n",
      "\n",
      "\u001b[36mℹ\u001b[39m Use \u001b[30m\u001b[47m\u001b[30m\u001b[47m`spec()`\u001b[47m\u001b[30m\u001b[49m\u001b[39m to retrieve the full column specification for this data.\n",
      "\u001b[36mℹ\u001b[39m Specify the column types or set \u001b[30m\u001b[47m\u001b[30m\u001b[47m`show_col_types = FALSE`\u001b[47m\u001b[30m\u001b[49m\u001b[39m to quiet this message.\n",
      "\n",
      "Joining, by = \"Word\"\n",
      "\n"
     ]
    },
    {
     "data": {
      "text/html": [
       "<table class=\"dataframe\">\n",
       "<caption>A tibble: 6 × 3</caption>\n",
       "<thead>\n",
       "\t<tr><th scope=col>Word</th><th scope=col>DominantModality</th><th scope=col>Iconicity</th></tr>\n",
       "\t<tr><th scope=col>&lt;chr&gt;</th><th scope=col>&lt;chr&gt;</th><th scope=col>&lt;dbl&gt;</th></tr>\n",
       "</thead>\n",
       "<tbody>\n",
       "\t<tr><td>abrasive </td><td>Haptic   </td><td>1.3125000</td></tr>\n",
       "\t<tr><td>absorbent</td><td>Visual   </td><td>0.9230769</td></tr>\n",
       "\t<tr><td>aching   </td><td>Haptic   </td><td>0.2500000</td></tr>\n",
       "\t<tr><td>acidic   </td><td>Gustatory</td><td>1.0000000</td></tr>\n",
       "\t<tr><td>acrid    </td><td>Olfactory</td><td>0.6153846</td></tr>\n",
       "\t<tr><td>adhesive </td><td>Haptic   </td><td>1.3333333</td></tr>\n",
       "</tbody>\n",
       "</table>\n"
      ],
      "text/latex": [
       "A tibble: 6 × 3\n",
       "\\begin{tabular}{lll}\n",
       " Word & DominantModality & Iconicity\\\\\n",
       " <chr> & <chr> & <dbl>\\\\\n",
       "\\hline\n",
       "\t abrasive  & Haptic    & 1.3125000\\\\\n",
       "\t absorbent & Visual    & 0.9230769\\\\\n",
       "\t aching    & Haptic    & 0.2500000\\\\\n",
       "\t acidic    & Gustatory & 1.0000000\\\\\n",
       "\t acrid     & Olfactory & 0.6153846\\\\\n",
       "\t adhesive  & Haptic    & 1.3333333\\\\\n",
       "\\end{tabular}\n"
      ],
      "text/markdown": [
       "\n",
       "A tibble: 6 × 3\n",
       "\n",
       "| Word &lt;chr&gt; | DominantModality &lt;chr&gt; | Iconicity &lt;dbl&gt; |\n",
       "|---|---|---|\n",
       "| abrasive  | Haptic    | 1.3125000 |\n",
       "| absorbent | Visual    | 0.9230769 |\n",
       "| aching    | Haptic    | 0.2500000 |\n",
       "| acidic    | Gustatory | 1.0000000 |\n",
       "| acrid     | Olfactory | 0.6153846 |\n",
       "| adhesive  | Haptic    | 1.3333333 |\n",
       "\n"
      ],
      "text/plain": [
       "  Word      DominantModality Iconicity\n",
       "1 abrasive  Haptic           1.3125000\n",
       "2 absorbent Visual           0.9230769\n",
       "3 aching    Haptic           0.2500000\n",
       "4 acidic    Gustatory        1.0000000\n",
       "5 acrid     Olfactory        0.6153846\n",
       "6 adhesive  Haptic           1.3333333"
      ]
     },
     "metadata": {},
     "output_type": "display_data"
    }
   ],
   "source": [
    "# load in data\n",
    "lyn <- read_csv(\"lynott_connell_2009_modality.csv\")\n",
    "icon <- read_csv('perry_winter_2017_iconicity.csv')\n",
    "\n",
    "# Merge data\n",
    "both <- \n",
    "  left_join(lyn, icon) %>% \n",
    "  select(Word, DominantModality, Iconicity)\n",
    "\n",
    "head(both)"
   ]
  },
  {
   "cell_type": "code",
   "execution_count": 3,
   "metadata": {},
   "outputs": [
    {
     "data": {
      "text/html": [
       "1"
      ],
      "text/latex": [
       "1"
      ],
      "text/markdown": [
       "1"
      ],
      "text/plain": [
       "[1] 1"
      ]
     },
     "metadata": {},
     "output_type": "display_data"
    }
   ],
   "source": [
    "sum(is.na(both))"
   ]
  },
  {
   "cell_type": "code",
   "execution_count": 4,
   "metadata": {},
   "outputs": [],
   "source": [
    "both = drop_na(both)"
   ]
  },
  {
   "cell_type": "markdown",
   "metadata": {},
   "source": [
    "Fit a linear model where `Iconicity` is modeled as a function of the categorical predictor `DominantModality`. Write a little summary of what the output of the model means.\n",
    "Can you use the coefficients to derive predictions for all five categories?\n",
    "Compare your results against the descriptive means, for which you can use `group_by()` and `summarize()`.\n"
   ]
  },
  {
   "cell_type": "code",
   "execution_count": 5,
   "metadata": {},
   "outputs": [
    {
     "data": {
      "text/plain": [
       "\n",
       "Call:\n",
       "lm(formula = Iconicity ~ DominantModality, data = both, singular.ok = FALSE)\n",
       "\n",
       "Coefficients:\n",
       "              (Intercept)  DominantModalityGustatory  \n",
       "                   2.2561                    -1.4506  \n",
       "   DominantModalityHaptic  DominantModalityOlfactory  \n",
       "                  -0.4436                    -1.2445  \n",
       "   DominantModalityVisual  \n",
       "                  -1.0330  \n"
      ]
     },
     "metadata": {},
     "output_type": "display_data"
    }
   ],
   "source": [
    "lm(Iconicity ~ DominantModality, data=both, singular.ok=FALSE)"
   ]
  },
  {
   "cell_type": "markdown",
   "metadata": {},
   "source": [
    "The intercept resembles Auditory modalities with respect to iconicity, while the \n",
    "other coefficients resemble the differences between each other"
   ]
  },
  {
   "cell_type": "code",
   "execution_count": 6,
   "metadata": {
    "scrolled": false
   },
   "outputs": [
    {
     "data": {
      "text/html": [
       "<table class=\"dataframe\">\n",
       "<caption>A matrix: 5 × 4 of type dbl</caption>\n",
       "<thead>\n",
       "\t<tr><th></th><th scope=col>Estimate</th><th scope=col>Std. Error</th><th scope=col>t value</th><th scope=col>Pr(&gt;|t|)</th></tr>\n",
       "</thead>\n",
       "<tbody>\n",
       "\t<tr><th scope=row>(Intercept)</th><td> 2.2561066</td><td>0.1249354</td><td>18.058190</td><td>2.846922e-54</td></tr>\n",
       "\t<tr><th scope=row>DominantModalityGustatory</th><td>-1.4505511</td><td>0.1877883</td><td>-7.724397</td><td>8.443882e-14</td></tr>\n",
       "\t<tr><th scope=row>DominantModalityHaptic</th><td>-0.4435719</td><td>0.1754187</td><td>-2.528646</td><td>1.181826e-02</td></tr>\n",
       "\t<tr><th scope=row>DominantModalityOlfactory</th><td>-1.2445142</td><td>0.2375542</td><td>-5.238865</td><td>2.569915e-07</td></tr>\n",
       "\t<tr><th scope=row>DominantModalityVisual</th><td>-1.0329595</td><td>0.1442629</td><td>-7.160255</td><td>3.663521e-12</td></tr>\n",
       "</tbody>\n",
       "</table>\n"
      ],
      "text/latex": [
       "A matrix: 5 × 4 of type dbl\n",
       "\\begin{tabular}{r|llll}\n",
       "  & Estimate & Std. Error & t value & Pr(>\\textbar{}t\\textbar{})\\\\\n",
       "\\hline\n",
       "\t(Intercept) &  2.2561066 & 0.1249354 & 18.058190 & 2.846922e-54\\\\\n",
       "\tDominantModalityGustatory & -1.4505511 & 0.1877883 & -7.724397 & 8.443882e-14\\\\\n",
       "\tDominantModalityHaptic & -0.4435719 & 0.1754187 & -2.528646 & 1.181826e-02\\\\\n",
       "\tDominantModalityOlfactory & -1.2445142 & 0.2375542 & -5.238865 & 2.569915e-07\\\\\n",
       "\tDominantModalityVisual & -1.0329595 & 0.1442629 & -7.160255 & 3.663521e-12\\\\\n",
       "\\end{tabular}\n"
      ],
      "text/markdown": [
       "\n",
       "A matrix: 5 × 4 of type dbl\n",
       "\n",
       "| <!--/--> | Estimate | Std. Error | t value | Pr(&gt;|t|) |\n",
       "|---|---|---|---|---|\n",
       "| (Intercept) |  2.2561066 | 0.1249354 | 18.058190 | 2.846922e-54 |\n",
       "| DominantModalityGustatory | -1.4505511 | 0.1877883 | -7.724397 | 8.443882e-14 |\n",
       "| DominantModalityHaptic | -0.4435719 | 0.1754187 | -2.528646 | 1.181826e-02 |\n",
       "| DominantModalityOlfactory | -1.2445142 | 0.2375542 | -5.238865 | 2.569915e-07 |\n",
       "| DominantModalityVisual | -1.0329595 | 0.1442629 | -7.160255 | 3.663521e-12 |\n",
       "\n"
      ],
      "text/plain": [
       "                          Estimate   Std. Error t value   Pr(>|t|)    \n",
       "(Intercept)                2.2561066 0.1249354  18.058190 2.846922e-54\n",
       "DominantModalityGustatory -1.4505511 0.1877883  -7.724397 8.443882e-14\n",
       "DominantModalityHaptic    -0.4435719 0.1754187  -2.528646 1.181826e-02\n",
       "DominantModalityOlfactory -1.2445142 0.2375542  -5.238865 2.569915e-07\n",
       "DominantModalityVisual    -1.0329595 0.1442629  -7.160255 3.663521e-12"
      ]
     },
     "metadata": {},
     "output_type": "display_data"
    }
   ],
   "source": [
    "model = lm(Iconicity ~ DominantModality, data=both, singular.ok=FALSE)\n",
    "model_summary = summary(model)\n",
    "coefs = coef(model_summary)\n",
    "coefs"
   ]
  },
  {
   "cell_type": "code",
   "execution_count": 7,
   "metadata": {
    "scrolled": true
   },
   "outputs": [],
   "source": [
    "intercept = coefs[1, 1]"
   ]
  },
  {
   "cell_type": "markdown",
   "metadata": {},
   "source": [
    "From the model parameters, we can see which categorical variable that has the most and least iconicity. Essentially, the prediction is the dot product between the input vector and the coefficient summed with the intercept. We can consider the categorical variable as a one-hot encoded vector where there is one entry for each category:  \n",
    "\n",
    "A vector representing the Gustatory category can thus be represented as the following: [1 0 0 0]\n",
    "\n",
    "An Visual would then be [0 0 0 1]\n",
    "\n",
    "Example:\n",
    "\n",
    "Iconicity for visual gets predicted as \n",
    "\n",
    "[0 0 0 1] * [-1.45 -0.44 -1.25 -1.03] + 2.256 = \n",
    "-1.03 + 2.256 = 1.226\n",
    "\n",
    "Since the word only can have a single category, the formula simply becomes the coefficient for the category plus the intercept."
   ]
  },
  {
   "cell_type": "code",
   "execution_count": 8,
   "metadata": {},
   "outputs": [
    {
     "data": {
      "text/html": [
       "<table class=\"dataframe\">\n",
       "<caption>A matrix: 4 × 1 of type dbl</caption>\n",
       "<tbody>\n",
       "\t<tr><th scope=row>DominantModalityGustatory</th><td>0.8055556</td></tr>\n",
       "\t<tr><th scope=row>DominantModalityHaptic</th><td>1.8125347</td></tr>\n",
       "\t<tr><th scope=row>DominantModalityOlfactory</th><td>1.0115925</td></tr>\n",
       "\t<tr><th scope=row>DominantModalityVisual</th><td>1.2231472</td></tr>\n",
       "</tbody>\n",
       "</table>\n"
      ],
      "text/latex": [
       "A matrix: 4 × 1 of type dbl\n",
       "\\begin{tabular}{r|l}\n",
       "\tDominantModalityGustatory & 0.8055556\\\\\n",
       "\tDominantModalityHaptic & 1.8125347\\\\\n",
       "\tDominantModalityOlfactory & 1.0115925\\\\\n",
       "\tDominantModalityVisual & 1.2231472\\\\\n",
       "\\end{tabular}\n"
      ],
      "text/markdown": [
       "\n",
       "A matrix: 4 × 1 of type dbl\n",
       "\n",
       "| DominantModalityGustatory | 0.8055556 |\n",
       "| DominantModalityHaptic | 1.8125347 |\n",
       "| DominantModalityOlfactory | 1.0115925 |\n",
       "| DominantModalityVisual | 1.2231472 |\n",
       "\n"
      ],
      "text/plain": [
       "                          [,1]     \n",
       "DominantModalityGustatory 0.8055556\n",
       "DominantModalityHaptic    1.8125347\n",
       "DominantModalityOlfactory 1.0115925\n",
       "DominantModalityVisual    1.2231472"
      ]
     },
     "metadata": {},
     "output_type": "display_data"
    }
   ],
   "source": [
    "as.matrix(coefs[2:5,0:1] + intercept)"
   ]
  },
  {
   "cell_type": "markdown",
   "metadata": {},
   "source": [
    "We can ensure that these are the correct predictions by using the predict function and comparing"
   ]
  },
  {
   "cell_type": "code",
   "execution_count": 13,
   "metadata": {},
   "outputs": [
    {
     "data": {
      "text/html": [
       "<table class=\"dataframe\">\n",
       "<caption>A tibble: 5 × 2</caption>\n",
       "<thead>\n",
       "\t<tr><th scope=col>DominantModality</th><th scope=col>PredictedIconicity</th></tr>\n",
       "\t<tr><th scope=col>&lt;chr&gt;</th><th scope=col>&lt;dbl&gt;</th></tr>\n",
       "</thead>\n",
       "<tbody>\n",
       "\t<tr><td>Auditory </td><td>2.2561066</td></tr>\n",
       "\t<tr><td>Gustatory</td><td>0.8055556</td></tr>\n",
       "\t<tr><td>Haptic   </td><td>1.8125347</td></tr>\n",
       "\t<tr><td>Olfactory</td><td>1.0115925</td></tr>\n",
       "\t<tr><td>Visual   </td><td>1.2231472</td></tr>\n",
       "</tbody>\n",
       "</table>\n"
      ],
      "text/latex": [
       "A tibble: 5 × 2\n",
       "\\begin{tabular}{ll}\n",
       " DominantModality & PredictedIconicity\\\\\n",
       " <chr> & <dbl>\\\\\n",
       "\\hline\n",
       "\t Auditory  & 2.2561066\\\\\n",
       "\t Gustatory & 0.8055556\\\\\n",
       "\t Haptic    & 1.8125347\\\\\n",
       "\t Olfactory & 1.0115925\\\\\n",
       "\t Visual    & 1.2231472\\\\\n",
       "\\end{tabular}\n"
      ],
      "text/markdown": [
       "\n",
       "A tibble: 5 × 2\n",
       "\n",
       "| DominantModality &lt;chr&gt; | PredictedIconicity &lt;dbl&gt; |\n",
       "|---|---|\n",
       "| Auditory  | 2.2561066 |\n",
       "| Gustatory | 0.8055556 |\n",
       "| Haptic    | 1.8125347 |\n",
       "| Olfactory | 1.0115925 |\n",
       "| Visual    | 1.2231472 |\n",
       "\n"
      ],
      "text/plain": [
       "  DominantModality PredictedIconicity\n",
       "1 Auditory         2.2561066         \n",
       "2 Gustatory        0.8055556         \n",
       "3 Haptic           1.8125347         \n",
       "4 Olfactory        1.0115925         \n",
       "5 Visual           1.2231472         "
      ]
     },
     "metadata": {},
     "output_type": "display_data"
    }
   ],
   "source": [
    "x = tibble(DominantModality=sort(unique(both$DominantModality)))\n",
    "x$PredictedIconicity = predict(model, x)\n",
    "x"
   ]
  },
  {
   "cell_type": "code",
   "execution_count": 14,
   "metadata": {
    "scrolled": false
   },
   "outputs": [
    {
     "data": {
      "text/html": [
       "<table class=\"dataframe\">\n",
       "<caption>A tibble: 5 × 3</caption>\n",
       "<thead>\n",
       "\t<tr><th scope=col>DominantModality</th><th scope=col>PredictedIconicity</th><th scope=col>Means</th></tr>\n",
       "\t<tr><th scope=col>&lt;chr&gt;</th><th scope=col>&lt;dbl&gt;</th><th scope=col>&lt;dbl&gt;</th></tr>\n",
       "</thead>\n",
       "<tbody>\n",
       "\t<tr><td>Auditory </td><td>2.2561066</td><td>2.2561066</td></tr>\n",
       "\t<tr><td>Gustatory</td><td>0.8055556</td><td>0.8055556</td></tr>\n",
       "\t<tr><td>Haptic   </td><td>1.8125347</td><td>1.8125347</td></tr>\n",
       "\t<tr><td>Olfactory</td><td>1.0115925</td><td>1.0115925</td></tr>\n",
       "\t<tr><td>Visual   </td><td>1.2231472</td><td>1.2231472</td></tr>\n",
       "</tbody>\n",
       "</table>\n"
      ],
      "text/latex": [
       "A tibble: 5 × 3\n",
       "\\begin{tabular}{lll}\n",
       " DominantModality & PredictedIconicity & Means\\\\\n",
       " <chr> & <dbl> & <dbl>\\\\\n",
       "\\hline\n",
       "\t Auditory  & 2.2561066 & 2.2561066\\\\\n",
       "\t Gustatory & 0.8055556 & 0.8055556\\\\\n",
       "\t Haptic    & 1.8125347 & 1.8125347\\\\\n",
       "\t Olfactory & 1.0115925 & 1.0115925\\\\\n",
       "\t Visual    & 1.2231472 & 1.2231472\\\\\n",
       "\\end{tabular}\n"
      ],
      "text/markdown": [
       "\n",
       "A tibble: 5 × 3\n",
       "\n",
       "| DominantModality &lt;chr&gt; | PredictedIconicity &lt;dbl&gt; | Means &lt;dbl&gt; |\n",
       "|---|---|---|\n",
       "| Auditory  | 2.2561066 | 2.2561066 |\n",
       "| Gustatory | 0.8055556 | 0.8055556 |\n",
       "| Haptic    | 1.8125347 | 1.8125347 |\n",
       "| Olfactory | 1.0115925 | 1.0115925 |\n",
       "| Visual    | 1.2231472 | 1.2231472 |\n",
       "\n"
      ],
      "text/plain": [
       "  DominantModality PredictedIconicity Means    \n",
       "1 Auditory         2.2561066          2.2561066\n",
       "2 Gustatory        0.8055556          0.8055556\n",
       "3 Haptic           1.8125347          1.8125347\n",
       "4 Olfactory        1.0115925          1.0115925\n",
       "5 Visual           1.2231472          1.2231472"
      ]
     },
     "metadata": {},
     "output_type": "display_data"
    }
   ],
   "source": [
    "means = both %>% group_by(DominantModality) %>% summarize(mean(Iconicity))\n",
    "x$Means = means[[\"mean(Iconicity)\"]]\n",
    "x"
   ]
  },
  {
   "cell_type": "markdown",
   "metadata": {},
   "source": [
    "Turns out the results are identical"
   ]
  },
  {
   "cell_type": "code",
   "execution_count": 12,
   "metadata": {
    "scrolled": true
   },
   "outputs": [],
   "source": [
    "# This part is for one-hot encoding the categorical variables, but I decided to not include it \n",
    "\n",
    "# for (i in categories) {\n",
    "#     new_df[[i]] = as.factor(dominant_modality == i)\n",
    "# }\n",
    "\n",
    "# model <- lm(both$Iconicity ~ (Haptic + Visual + Auditory + Gustatory + Olfactory), data=new_df)\n",
    "\n",
    "# auditory_df = filter(both, DominantModality == \"Auditory\")\n",
    "# predict(model, auditory_df)"
   ]
  }
 ],
 "metadata": {
  "kernelspec": {
   "display_name": "R",
   "language": "R",
   "name": "ir"
  },
  "language_info": {
   "codemirror_mode": "r",
   "file_extension": ".r",
   "mimetype": "text/x-r-source",
   "name": "R",
   "pygments_lexer": "r",
   "version": "3.6.3"
  }
 },
 "nbformat": 4,
 "nbformat_minor": 4
}
