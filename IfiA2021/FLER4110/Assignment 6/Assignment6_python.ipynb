{
 "cells": [
  {
   "cell_type": "code",
   "execution_count": 1,
   "metadata": {
    "scrolled": false
   },
   "outputs": [
    {
     "data": {
      "text/html": [
       "<div>\n",
       "<style scoped>\n",
       "    .dataframe tbody tr th:only-of-type {\n",
       "        vertical-align: middle;\n",
       "    }\n",
       "\n",
       "    .dataframe tbody tr th {\n",
       "        vertical-align: top;\n",
       "    }\n",
       "\n",
       "    .dataframe thead th {\n",
       "        text-align: right;\n",
       "    }\n",
       "</style>\n",
       "<table border=\"1\" class=\"dataframe\">\n",
       "  <thead>\n",
       "    <tr style=\"text-align: right;\">\n",
       "      <th></th>\n",
       "      <th>PropertyBritish</th>\n",
       "      <th>Word</th>\n",
       "      <th>DominantModality</th>\n",
       "      <th>Sight</th>\n",
       "      <th>Touch</th>\n",
       "      <th>Sound</th>\n",
       "      <th>Taste</th>\n",
       "      <th>Smell</th>\n",
       "      <th>ModalityExclusivity</th>\n",
       "    </tr>\n",
       "  </thead>\n",
       "  <tbody>\n",
       "    <tr>\n",
       "      <th>0</th>\n",
       "      <td>abrasive</td>\n",
       "      <td>abrasive</td>\n",
       "      <td>Haptic</td>\n",
       "      <td>2.894737</td>\n",
       "      <td>3.684211</td>\n",
       "      <td>1.684211</td>\n",
       "      <td>0.578947</td>\n",
       "      <td>0.578947</td>\n",
       "      <td>0.329609</td>\n",
       "    </tr>\n",
       "    <tr>\n",
       "      <th>1</th>\n",
       "      <td>absorbent</td>\n",
       "      <td>absorbent</td>\n",
       "      <td>Visual</td>\n",
       "      <td>4.142857</td>\n",
       "      <td>3.142857</td>\n",
       "      <td>0.714286</td>\n",
       "      <td>0.476190</td>\n",
       "      <td>0.476190</td>\n",
       "      <td>0.409574</td>\n",
       "    </tr>\n",
       "    <tr>\n",
       "      <th>2</th>\n",
       "      <td>aching</td>\n",
       "      <td>aching</td>\n",
       "      <td>Haptic</td>\n",
       "      <td>2.047619</td>\n",
       "      <td>3.666667</td>\n",
       "      <td>0.666667</td>\n",
       "      <td>0.047619</td>\n",
       "      <td>0.095238</td>\n",
       "      <td>0.554745</td>\n",
       "    </tr>\n",
       "    <tr>\n",
       "      <th>3</th>\n",
       "      <td>acidic</td>\n",
       "      <td>acidic</td>\n",
       "      <td>Gustatory</td>\n",
       "      <td>2.190476</td>\n",
       "      <td>1.142857</td>\n",
       "      <td>0.476190</td>\n",
       "      <td>4.190476</td>\n",
       "      <td>2.904762</td>\n",
       "      <td>0.340611</td>\n",
       "    </tr>\n",
       "    <tr>\n",
       "      <th>4</th>\n",
       "      <td>acrid</td>\n",
       "      <td>acrid</td>\n",
       "      <td>Olfactory</td>\n",
       "      <td>1.125000</td>\n",
       "      <td>0.625000</td>\n",
       "      <td>0.375000</td>\n",
       "      <td>3.000000</td>\n",
       "      <td>3.500000</td>\n",
       "      <td>0.362319</td>\n",
       "    </tr>\n",
       "    <tr>\n",
       "      <th>...</th>\n",
       "      <td>...</td>\n",
       "      <td>...</td>\n",
       "      <td>...</td>\n",
       "      <td>...</td>\n",
       "      <td>...</td>\n",
       "      <td>...</td>\n",
       "      <td>...</td>\n",
       "      <td>...</td>\n",
       "      <td>...</td>\n",
       "    </tr>\n",
       "    <tr>\n",
       "      <th>418</th>\n",
       "      <td>wiry</td>\n",
       "      <td>wiry</td>\n",
       "      <td>Visual</td>\n",
       "      <td>4.190476</td>\n",
       "      <td>4.095238</td>\n",
       "      <td>1.047619</td>\n",
       "      <td>0.761905</td>\n",
       "      <td>0.285714</td>\n",
       "      <td>0.376147</td>\n",
       "    </tr>\n",
       "    <tr>\n",
       "      <th>419</th>\n",
       "      <td>wispy</td>\n",
       "      <td>wispy</td>\n",
       "      <td>Visual</td>\n",
       "      <td>4.210526</td>\n",
       "      <td>3.263158</td>\n",
       "      <td>1.631579</td>\n",
       "      <td>0.894737</td>\n",
       "      <td>0.263158</td>\n",
       "      <td>0.384615</td>\n",
       "    </tr>\n",
       "    <tr>\n",
       "      <th>420</th>\n",
       "      <td>wizened</td>\n",
       "      <td>wizened</td>\n",
       "      <td>Visual</td>\n",
       "      <td>3.100000</td>\n",
       "      <td>0.800000</td>\n",
       "      <td>2.900000</td>\n",
       "      <td>0.100000</td>\n",
       "      <td>0.300000</td>\n",
       "      <td>0.416667</td>\n",
       "    </tr>\n",
       "    <tr>\n",
       "      <th>421</th>\n",
       "      <td>woolly</td>\n",
       "      <td>woolly</td>\n",
       "      <td>Haptic</td>\n",
       "      <td>4.285714</td>\n",
       "      <td>4.428571</td>\n",
       "      <td>0.142857</td>\n",
       "      <td>0.142857</td>\n",
       "      <td>0.142857</td>\n",
       "      <td>0.468750</td>\n",
       "    </tr>\n",
       "    <tr>\n",
       "      <th>422</th>\n",
       "      <td>yellow</td>\n",
       "      <td>yellow</td>\n",
       "      <td>Visual</td>\n",
       "      <td>4.900000</td>\n",
       "      <td>0.000000</td>\n",
       "      <td>0.150000</td>\n",
       "      <td>0.050000</td>\n",
       "      <td>0.050000</td>\n",
       "      <td>0.951456</td>\n",
       "    </tr>\n",
       "  </tbody>\n",
       "</table>\n",
       "<p>423 rows × 9 columns</p>\n",
       "</div>"
      ],
      "text/plain": [
       "    PropertyBritish       Word DominantModality     Sight     Touch     Sound  \\\n",
       "0          abrasive   abrasive           Haptic  2.894737  3.684211  1.684211   \n",
       "1         absorbent  absorbent           Visual  4.142857  3.142857  0.714286   \n",
       "2            aching     aching           Haptic  2.047619  3.666667  0.666667   \n",
       "3            acidic     acidic        Gustatory  2.190476  1.142857  0.476190   \n",
       "4             acrid      acrid        Olfactory  1.125000  0.625000  0.375000   \n",
       "..              ...        ...              ...       ...       ...       ...   \n",
       "418            wiry       wiry           Visual  4.190476  4.095238  1.047619   \n",
       "419           wispy      wispy           Visual  4.210526  3.263158  1.631579   \n",
       "420         wizened    wizened           Visual  3.100000  0.800000  2.900000   \n",
       "421          woolly     woolly           Haptic  4.285714  4.428571  0.142857   \n",
       "422          yellow     yellow           Visual  4.900000  0.000000  0.150000   \n",
       "\n",
       "        Taste     Smell  ModalityExclusivity  \n",
       "0    0.578947  0.578947             0.329609  \n",
       "1    0.476190  0.476190             0.409574  \n",
       "2    0.047619  0.095238             0.554745  \n",
       "3    4.190476  2.904762             0.340611  \n",
       "4    3.000000  3.500000             0.362319  \n",
       "..        ...       ...                  ...  \n",
       "418  0.761905  0.285714             0.376147  \n",
       "419  0.894737  0.263158             0.384615  \n",
       "420  0.100000  0.300000             0.416667  \n",
       "421  0.142857  0.142857             0.468750  \n",
       "422  0.050000  0.050000             0.951456  \n",
       "\n",
       "[423 rows x 9 columns]"
      ]
     },
     "execution_count": 1,
     "metadata": {},
     "output_type": "execute_result"
    }
   ],
   "source": [
    "import pandas as pd\n",
    "modality = pd.read_csv(\"lynott_connell_2009_modality.csv\")\n",
    "modality"
   ]
  },
  {
   "cell_type": "code",
   "execution_count": 2,
   "metadata": {},
   "outputs": [
    {
     "data": {
      "text/html": [
       "<div>\n",
       "<style scoped>\n",
       "    .dataframe tbody tr th:only-of-type {\n",
       "        vertical-align: middle;\n",
       "    }\n",
       "\n",
       "    .dataframe tbody tr th {\n",
       "        vertical-align: top;\n",
       "    }\n",
       "\n",
       "    .dataframe thead th {\n",
       "        text-align: right;\n",
       "    }\n",
       "</style>\n",
       "<table border=\"1\" class=\"dataframe\">\n",
       "  <thead>\n",
       "    <tr style=\"text-align: right;\">\n",
       "      <th></th>\n",
       "      <th>Word</th>\n",
       "      <th>POS</th>\n",
       "      <th>SER</th>\n",
       "      <th>CorteseImag</th>\n",
       "      <th>Conc</th>\n",
       "      <th>Syst</th>\n",
       "      <th>Freq</th>\n",
       "      <th>Iconicity</th>\n",
       "    </tr>\n",
       "  </thead>\n",
       "  <tbody>\n",
       "    <tr>\n",
       "      <th>0</th>\n",
       "      <td>a</td>\n",
       "      <td>Grammatical</td>\n",
       "      <td>NaN</td>\n",
       "      <td>NaN</td>\n",
       "      <td>1.46</td>\n",
       "      <td>NaN</td>\n",
       "      <td>1041179.0</td>\n",
       "      <td>0.461538</td>\n",
       "    </tr>\n",
       "    <tr>\n",
       "      <th>1</th>\n",
       "      <td>abide</td>\n",
       "      <td>Verb</td>\n",
       "      <td>NaN</td>\n",
       "      <td>NaN</td>\n",
       "      <td>1.68</td>\n",
       "      <td>NaN</td>\n",
       "      <td>138.0</td>\n",
       "      <td>0.250000</td>\n",
       "    </tr>\n",
       "    <tr>\n",
       "      <th>2</th>\n",
       "      <td>able</td>\n",
       "      <td>Adjective</td>\n",
       "      <td>1.73</td>\n",
       "      <td>NaN</td>\n",
       "      <td>2.38</td>\n",
       "      <td>NaN</td>\n",
       "      <td>8155.0</td>\n",
       "      <td>0.466667</td>\n",
       "    </tr>\n",
       "    <tr>\n",
       "      <th>3</th>\n",
       "      <td>about</td>\n",
       "      <td>Grammatical</td>\n",
       "      <td>1.20</td>\n",
       "      <td>NaN</td>\n",
       "      <td>1.77</td>\n",
       "      <td>NaN</td>\n",
       "      <td>185206.0</td>\n",
       "      <td>-0.100000</td>\n",
       "    </tr>\n",
       "    <tr>\n",
       "      <th>4</th>\n",
       "      <td>above</td>\n",
       "      <td>Grammatical</td>\n",
       "      <td>2.91</td>\n",
       "      <td>NaN</td>\n",
       "      <td>3.33</td>\n",
       "      <td>NaN</td>\n",
       "      <td>2493.0</td>\n",
       "      <td>1.062500</td>\n",
       "    </tr>\n",
       "    <tr>\n",
       "      <th>...</th>\n",
       "      <td>...</td>\n",
       "      <td>...</td>\n",
       "      <td>...</td>\n",
       "      <td>...</td>\n",
       "      <td>...</td>\n",
       "      <td>...</td>\n",
       "      <td>...</td>\n",
       "      <td>...</td>\n",
       "    </tr>\n",
       "    <tr>\n",
       "      <th>2996</th>\n",
       "      <td>zippered</td>\n",
       "      <td>Verb</td>\n",
       "      <td>NaN</td>\n",
       "      <td>NaN</td>\n",
       "      <td>4.12</td>\n",
       "      <td>NaN</td>\n",
       "      <td>3.0</td>\n",
       "      <td>1.583333</td>\n",
       "    </tr>\n",
       "    <tr>\n",
       "      <th>2997</th>\n",
       "      <td>zone</td>\n",
       "      <td>Noun</td>\n",
       "      <td>NaN</td>\n",
       "      <td>4.1</td>\n",
       "      <td>3.07</td>\n",
       "      <td>0.000051</td>\n",
       "      <td>1026.0</td>\n",
       "      <td>-0.100000</td>\n",
       "    </tr>\n",
       "    <tr>\n",
       "      <th>2998</th>\n",
       "      <td>zoo</td>\n",
       "      <td>Noun</td>\n",
       "      <td>3.40</td>\n",
       "      <td>6.8</td>\n",
       "      <td>4.81</td>\n",
       "      <td>0.000015</td>\n",
       "      <td>696.0</td>\n",
       "      <td>1.538462</td>\n",
       "    </tr>\n",
       "    <tr>\n",
       "      <th>2999</th>\n",
       "      <td>zoom</td>\n",
       "      <td>Verb</td>\n",
       "      <td>3.40</td>\n",
       "      <td>3.5</td>\n",
       "      <td>3.10</td>\n",
       "      <td>0.000022</td>\n",
       "      <td>181.0</td>\n",
       "      <td>3.600000</td>\n",
       "    </tr>\n",
       "    <tr>\n",
       "      <th>3000</th>\n",
       "      <td>zucchini</td>\n",
       "      <td>Noun</td>\n",
       "      <td>NaN</td>\n",
       "      <td>NaN</td>\n",
       "      <td>4.87</td>\n",
       "      <td>NaN</td>\n",
       "      <td>49.0</td>\n",
       "      <td>0.100000</td>\n",
       "    </tr>\n",
       "  </tbody>\n",
       "</table>\n",
       "<p>3001 rows × 8 columns</p>\n",
       "</div>"
      ],
      "text/plain": [
       "          Word          POS   SER  CorteseImag  Conc      Syst       Freq  \\\n",
       "0            a  Grammatical   NaN          NaN  1.46       NaN  1041179.0   \n",
       "1        abide         Verb   NaN          NaN  1.68       NaN      138.0   \n",
       "2         able    Adjective  1.73          NaN  2.38       NaN     8155.0   \n",
       "3        about  Grammatical  1.20          NaN  1.77       NaN   185206.0   \n",
       "4        above  Grammatical  2.91          NaN  3.33       NaN     2493.0   \n",
       "...        ...          ...   ...          ...   ...       ...        ...   \n",
       "2996  zippered         Verb   NaN          NaN  4.12       NaN        3.0   \n",
       "2997      zone         Noun   NaN          4.1  3.07  0.000051     1026.0   \n",
       "2998       zoo         Noun  3.40          6.8  4.81  0.000015      696.0   \n",
       "2999      zoom         Verb  3.40          3.5  3.10  0.000022      181.0   \n",
       "3000  zucchini         Noun   NaN          NaN  4.87       NaN       49.0   \n",
       "\n",
       "      Iconicity  \n",
       "0      0.461538  \n",
       "1      0.250000  \n",
       "2      0.466667  \n",
       "3     -0.100000  \n",
       "4      1.062500  \n",
       "...         ...  \n",
       "2996   1.583333  \n",
       "2997  -0.100000  \n",
       "2998   1.538462  \n",
       "2999   3.600000  \n",
       "3000   0.100000  \n",
       "\n",
       "[3001 rows x 8 columns]"
      ]
     },
     "execution_count": 2,
     "metadata": {},
     "output_type": "execute_result"
    }
   ],
   "source": [
    "iconicity = pd.read_csv(\"perry_winter_2017_iconicity.csv\")\n",
    "iconicity"
   ]
  },
  {
   "cell_type": "code",
   "execution_count": 3,
   "metadata": {},
   "outputs": [
    {
     "data": {
      "text/html": [
       "<div>\n",
       "<style scoped>\n",
       "    .dataframe tbody tr th:only-of-type {\n",
       "        vertical-align: middle;\n",
       "    }\n",
       "\n",
       "    .dataframe tbody tr th {\n",
       "        vertical-align: top;\n",
       "    }\n",
       "\n",
       "    .dataframe thead th {\n",
       "        text-align: right;\n",
       "    }\n",
       "</style>\n",
       "<table border=\"1\" class=\"dataframe\">\n",
       "  <thead>\n",
       "    <tr style=\"text-align: right;\">\n",
       "      <th></th>\n",
       "      <th>Word</th>\n",
       "      <th>DominantModality</th>\n",
       "      <th>Iconicity</th>\n",
       "    </tr>\n",
       "  </thead>\n",
       "  <tbody>\n",
       "    <tr>\n",
       "      <th>0</th>\n",
       "      <td>abrasive</td>\n",
       "      <td>Haptic</td>\n",
       "      <td>1.312500</td>\n",
       "    </tr>\n",
       "    <tr>\n",
       "      <th>1</th>\n",
       "      <td>absorbent</td>\n",
       "      <td>Visual</td>\n",
       "      <td>0.923077</td>\n",
       "    </tr>\n",
       "    <tr>\n",
       "      <th>2</th>\n",
       "      <td>aching</td>\n",
       "      <td>Haptic</td>\n",
       "      <td>0.250000</td>\n",
       "    </tr>\n",
       "    <tr>\n",
       "      <th>3</th>\n",
       "      <td>acidic</td>\n",
       "      <td>Gustatory</td>\n",
       "      <td>1.000000</td>\n",
       "    </tr>\n",
       "    <tr>\n",
       "      <th>4</th>\n",
       "      <td>acrid</td>\n",
       "      <td>Olfactory</td>\n",
       "      <td>0.615385</td>\n",
       "    </tr>\n",
       "    <tr>\n",
       "      <th>...</th>\n",
       "      <td>...</td>\n",
       "      <td>...</td>\n",
       "      <td>...</td>\n",
       "    </tr>\n",
       "    <tr>\n",
       "      <th>417</th>\n",
       "      <td>wiry</td>\n",
       "      <td>Visual</td>\n",
       "      <td>1.500000</td>\n",
       "    </tr>\n",
       "    <tr>\n",
       "      <th>418</th>\n",
       "      <td>wispy</td>\n",
       "      <td>Visual</td>\n",
       "      <td>2.571429</td>\n",
       "    </tr>\n",
       "    <tr>\n",
       "      <th>419</th>\n",
       "      <td>wizened</td>\n",
       "      <td>Visual</td>\n",
       "      <td>-0.846154</td>\n",
       "    </tr>\n",
       "    <tr>\n",
       "      <th>420</th>\n",
       "      <td>woolly</td>\n",
       "      <td>Haptic</td>\n",
       "      <td>2.000000</td>\n",
       "    </tr>\n",
       "    <tr>\n",
       "      <th>421</th>\n",
       "      <td>yellow</td>\n",
       "      <td>Visual</td>\n",
       "      <td>0.500000</td>\n",
       "    </tr>\n",
       "  </tbody>\n",
       "</table>\n",
       "<p>422 rows × 3 columns</p>\n",
       "</div>"
      ],
      "text/plain": [
       "          Word DominantModality  Iconicity\n",
       "0     abrasive           Haptic   1.312500\n",
       "1    absorbent           Visual   0.923077\n",
       "2       aching           Haptic   0.250000\n",
       "3       acidic        Gustatory   1.000000\n",
       "4        acrid        Olfactory   0.615385\n",
       "..         ...              ...        ...\n",
       "417       wiry           Visual   1.500000\n",
       "418      wispy           Visual   2.571429\n",
       "419    wizened           Visual  -0.846154\n",
       "420     woolly           Haptic   2.000000\n",
       "421     yellow           Visual   0.500000\n",
       "\n",
       "[422 rows x 3 columns]"
      ]
     },
     "execution_count": 3,
     "metadata": {},
     "output_type": "execute_result"
    }
   ],
   "source": [
    "both = pd.merge(modality, iconicity, on=\"Word\")[[\"Word\", \"DominantModality\", \"Iconicity\"]]\n",
    "both"
   ]
  },
  {
   "cell_type": "code",
   "execution_count": 4,
   "metadata": {},
   "outputs": [],
   "source": [
    "from sklearn.linear_model import LinearRegression\n",
    "from sklearn.preprocessing import OneHotEncoder"
   ]
  },
  {
   "cell_type": "code",
   "execution_count": 5,
   "metadata": {},
   "outputs": [],
   "source": [
    "X_raw = both[\"DominantModality\"].to_numpy()[:, None]"
   ]
  },
  {
   "cell_type": "code",
   "execution_count": 6,
   "metadata": {},
   "outputs": [
    {
     "data": {
      "text/plain": [
       "array([[0., 0., 1., 0., 0.],\n",
       "       [0., 0., 0., 0., 1.],\n",
       "       [0., 0., 1., 0., 0.],\n",
       "       ...,\n",
       "       [0., 0., 0., 0., 1.],\n",
       "       [0., 0., 1., 0., 0.],\n",
       "       [0., 0., 0., 0., 1.]])"
      ]
     },
     "execution_count": 6,
     "metadata": {},
     "output_type": "execute_result"
    }
   ],
   "source": [
    "encoder = OneHotEncoder()\n",
    "X = encoder.fit_transform(X_raw).A\n",
    "X"
   ]
  },
  {
   "cell_type": "code",
   "execution_count": 7,
   "metadata": {},
   "outputs": [
    {
     "data": {
      "text/plain": [
       "LinearRegression(fit_intercept=False)"
      ]
     },
     "execution_count": 7,
     "metadata": {},
     "output_type": "execute_result"
    }
   ],
   "source": [
    "model = LinearRegression(fit_intercept=False)\n",
    "model.fit(X, both[\"Iconicity\"])\n",
    "model"
   ]
  },
  {
   "cell_type": "code",
   "execution_count": 8,
   "metadata": {},
   "outputs": [
    {
     "data": {
      "text/plain": [
       "array([0.80555556, 1.01159247, 1.22314716, 1.81253473, 2.25610664])"
      ]
     },
     "execution_count": 8,
     "metadata": {},
     "output_type": "execute_result"
    }
   ],
   "source": [
    "import numpy as np\n",
    "np.unique(model.predict(X))"
   ]
  },
  {
   "cell_type": "code",
   "execution_count": 9,
   "metadata": {},
   "outputs": [
    {
     "data": {
      "text/plain": [
       "array([2.25610664, 0.80555556, 1.81253473, 1.01159247, 1.22314716])"
      ]
     },
     "execution_count": 9,
     "metadata": {},
     "output_type": "execute_result"
    }
   ],
   "source": [
    "model.coef_"
   ]
  },
  {
   "cell_type": "code",
   "execution_count": 10,
   "metadata": {
    "scrolled": true
   },
   "outputs": [
    {
     "data": {
      "text/plain": [
       "0.0"
      ]
     },
     "execution_count": 10,
     "metadata": {},
     "output_type": "execute_result"
    }
   ],
   "source": [
    "model.intercept_"
   ]
  },
  {
   "cell_type": "code",
   "execution_count": 11,
   "metadata": {},
   "outputs": [
    {
     "data": {
      "text/plain": [
       "array([2.25610664, 0.80555556, 1.81253473, 1.01159247, 1.22314716])"
      ]
     },
     "execution_count": 11,
     "metadata": {},
     "output_type": "execute_result"
    }
   ],
   "source": [
    "model.coef_ + model.intercept_"
   ]
  },
  {
   "cell_type": "code",
   "execution_count": 12,
   "metadata": {},
   "outputs": [
    {
     "data": {
      "text/plain": [
       "Visual       204\n",
       "Haptic        70\n",
       "Auditory      68\n",
       "Gustatory     54\n",
       "Olfactory     26\n",
       "Name: DominantModality, dtype: int64"
      ]
     },
     "execution_count": 12,
     "metadata": {},
     "output_type": "execute_result"
    }
   ],
   "source": [
    "both[\"DominantModality\"].value_counts()"
   ]
  }
 ],
 "metadata": {
  "kernelspec": {
   "display_name": "Python 3",
   "language": "python",
   "name": "python3"
  },
  "language_info": {
   "codemirror_mode": {
    "name": "ipython",
    "version": 3
   },
   "file_extension": ".py",
   "mimetype": "text/x-python",
   "name": "python",
   "nbconvert_exporter": "python",
   "pygments_lexer": "ipython3",
   "version": "3.8.10"
  }
 },
 "nbformat": 4,
 "nbformat_minor": 4
}
