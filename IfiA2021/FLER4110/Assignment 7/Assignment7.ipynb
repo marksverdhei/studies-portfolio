{
 "cells": [
  {
   "cell_type": "code",
   "execution_count": 1,
   "metadata": {},
   "outputs": [
    {
     "name": "stderr",
     "output_type": "stream",
     "text": [
      "Loading required package: pacman\n",
      "\n"
     ]
    }
   ],
   "source": [
    "if (!require(\"pacman\")) install.packages(\"pacman\")\n",
    "pacman::p_load(rstudioapi, tidyverse, ggbeeswarm)"
   ]
  },
  {
   "cell_type": "markdown",
   "metadata": {},
   "source": [
    "# Walkthrough\n",
    "\n",
    "We will be looking at a familiar data set: the similarity data set from Winter and Matlock.\n",
    "\n",
    "Let's remind us on whats going on in the data."
   ]
  },
  {
   "cell_type": "code",
   "execution_count": 2,
   "metadata": {},
   "outputs": [
    {
     "name": "stderr",
     "output_type": "stream",
     "text": [
      "\u001b[1m\u001b[1mRows: \u001b[1m\u001b[22m\u001b[34m\u001b[34m364\u001b[34m\u001b[39m \u001b[1m\u001b[1mColumns: \u001b[1m\u001b[22m\u001b[34m\u001b[34m3\u001b[34m\u001b[39m\n",
      "\n",
      "\u001b[36m──\u001b[39m \u001b[1m\u001b[1mColumn specification\u001b[1m\u001b[22m \u001b[36m───────────────────────────────────────────────────────\u001b[39m\n",
      "\u001b[1mDelimiter:\u001b[22m \",\"\n",
      "\u001b[31mchr\u001b[39m (2): Sem, Phon\n",
      "\u001b[32mdbl\u001b[39m (1): Distance\n",
      "\n",
      "\n",
      "\u001b[36mℹ\u001b[39m Use \u001b[30m\u001b[47m\u001b[30m\u001b[47m`spec()`\u001b[47m\u001b[30m\u001b[49m\u001b[39m to retrieve the full column specification for this data.\n",
      "\u001b[36mℹ\u001b[39m Specify the column types or set \u001b[30m\u001b[47m\u001b[30m\u001b[47m`show_col_types = FALSE`\u001b[47m\u001b[30m\u001b[49m\u001b[39m to quiet this message.\n",
      "\n"
     ]
    },
    {
     "data": {
      "text/html": [
       "<table class=\"dataframe\">\n",
       "<caption>A tibble: 6 × 3</caption>\n",
       "<thead>\n",
       "\t<tr><th scope=col>Sem</th><th scope=col>Phon</th><th scope=col>Distance</th></tr>\n",
       "\t<tr><th scope=col>&lt;chr&gt;</th><th scope=col>&lt;chr&gt;</th><th scope=col>&lt;dbl&gt;</th></tr>\n",
       "</thead>\n",
       "<tbody>\n",
       "\t<tr><td>Different</td><td>Similar  </td><td> 76</td></tr>\n",
       "\t<tr><td>Different</td><td>Different</td><td>110</td></tr>\n",
       "\t<tr><td>Similar  </td><td>Similar  </td><td>214</td></tr>\n",
       "\t<tr><td>Different</td><td>Different</td><td> 41</td></tr>\n",
       "\t<tr><td>Different</td><td>Different</td><td> 78</td></tr>\n",
       "\t<tr><td>Different</td><td>Similar  </td><td> 87</td></tr>\n",
       "</tbody>\n",
       "</table>\n"
      ],
      "text/latex": [
       "A tibble: 6 × 3\n",
       "\\begin{tabular}{lll}\n",
       " Sem & Phon & Distance\\\\\n",
       " <chr> & <chr> & <dbl>\\\\\n",
       "\\hline\n",
       "\t Different & Similar   &  76\\\\\n",
       "\t Different & Different & 110\\\\\n",
       "\t Similar   & Similar   & 214\\\\\n",
       "\t Different & Different &  41\\\\\n",
       "\t Different & Different &  78\\\\\n",
       "\t Different & Similar   &  87\\\\\n",
       "\\end{tabular}\n"
      ],
      "text/markdown": [
       "\n",
       "A tibble: 6 × 3\n",
       "\n",
       "| Sem &lt;chr&gt; | Phon &lt;chr&gt; | Distance &lt;dbl&gt; |\n",
       "|---|---|---|\n",
       "| Different | Similar   |  76 |\n",
       "| Different | Different | 110 |\n",
       "| Similar   | Similar   | 214 |\n",
       "| Different | Different |  41 |\n",
       "| Different | Different |  78 |\n",
       "| Different | Similar   |  87 |\n",
       "\n"
      ],
      "text/plain": [
       "  Sem       Phon      Distance\n",
       "1 Different Similar    76     \n",
       "2 Different Different 110     \n",
       "3 Similar   Similar   214     \n",
       "4 Different Different  41     \n",
       "5 Different Different  78     \n",
       "6 Different Similar    87     "
      ]
     },
     "metadata": {},
     "output_type": "display_data"
    }
   ],
   "source": [
    "# Load our data set\n",
    "sim <- read_csv(\"winter_matlock_2013_similarity.csv\")\n",
    "\n",
    "head(sim)"
   ]
  },
  {
   "cell_type": "markdown",
   "metadata": {},
   "source": [
    "Participants drew fictional villages on a map solely based on what they have read about the village (relative to another village). \n",
    "The researchers measured the `Distance` of the drawn villages.\n",
    "Village descriptions and names were either similar or different with respect to their phonological form (`Phon`) or their semantic properties (`Sem`).\n",
    "\n",
    "## A simple linear model\n",
    "Let's predict `Distance` based on `Phon` and `Sem`."
   ]
  },
  {
   "cell_type": "code",
   "execution_count": 3,
   "metadata": {},
   "outputs": [
    {
     "data": {
      "text/plain": [
       "\n",
       "Call:\n",
       "lm(formula = Distance ~ Phon + Sem, data = sim)\n",
       "\n",
       "Residuals:\n",
       "    Min      1Q  Median      3Q     Max \n",
       "-79.350 -26.453  -4.167  19.536 138.833 \n",
       "\n",
       "Coefficients:\n",
       "            Estimate Std. Error t value Pr(>|t|)    \n",
       "(Intercept)   79.556      3.631  21.912   <2e-16 ***\n",
       "PhonSimilar    5.795      4.181   1.386   0.1667    \n",
       "SemSimilar   -10.184      4.181  -2.435   0.0154 *  \n",
       "---\n",
       "Signif. codes:  0 ‘***’ 0.001 ‘**’ 0.01 ‘*’ 0.05 ‘.’ 0.1 ‘ ’ 1\n",
       "\n",
       "Residual standard error: 39.81 on 360 degrees of freedom\n",
       "  (1 observation deleted due to missingness)\n",
       "Multiple R-squared:  0.02148,\tAdjusted R-squared:  0.01604 \n",
       "F-statistic: 3.951 on 2 and 360 DF,  p-value: 0.02008\n"
      ]
     },
     "metadata": {},
     "output_type": "display_data"
    }
   ],
   "source": [
    "# linear model\n",
    "xlm <- lm(Distance ~ Phon + Sem,\n",
    "          data = sim)\n",
    "\n",
    "summary(xlm)"
   ]
  },
  {
   "cell_type": "markdown",
   "metadata": {},
   "source": [
    "We get a bunch of information. \n",
    "Now that we have learned about uncertainty and significance testing, we can interpret the whole model output. \n",
    "The model estimates that phonologically similar villages are drawn 5.795 units further away than phonologically different villages (the intercept). \n",
    "This difference is statistically not significant (p = 0.1667). \n",
    "So if the null hypothesis is true, i.e. phonological similarity has no impact on distance, than the obtained t-value (t = 1.386) or more extreme t-values are too likely for us to reject the null. \n",
    "Moreover, the model estimates that semantically similar villages are drawn 10.184 units closer than semantically different villages (the intercept). \n",
    "This difference is statistically significant (p = 0.0154). \n",
    "So if the null hypothesis is true, i.e. semantically similarity has no impact on distance, than the obtained t-value (t = -2.435) or more extreme t-values are unlikely enough for us to reject the null. "
   ]
  },
  {
   "cell_type": "markdown",
   "metadata": {},
   "source": [
    "## Extract predictions\n",
    "Let's extract the models predictions for all combinations of `Phon` and `Sem`."
   ]
  },
  {
   "cell_type": "code",
   "execution_count": 4,
   "metadata": {},
   "outputs": [
    {
     "data": {
      "text/html": [
       "<table class=\"dataframe\">\n",
       "<caption>A data.frame: 4 × 5</caption>\n",
       "<thead>\n",
       "\t<tr><th></th><th scope=col>Phon</th><th scope=col>Sem</th><th scope=col>fit</th><th scope=col>lwr</th><th scope=col>upr</th></tr>\n",
       "\t<tr><th></th><th scope=col>&lt;fct&gt;</th><th scope=col>&lt;fct&gt;</th><th scope=col>&lt;dbl&gt;</th><th scope=col>&lt;dbl&gt;</th><th scope=col>&lt;dbl&gt;</th></tr>\n",
       "</thead>\n",
       "<tbody>\n",
       "\t<tr><th scope=row>1</th><td>Similar  </td><td>Different</td><td>85.35043</td><td>78.39001</td><td>92.31084</td></tr>\n",
       "\t<tr><th scope=row>2</th><td>Different</td><td>Different</td><td>79.55565</td><td>72.41572</td><td>86.69558</td></tr>\n",
       "\t<tr><th scope=row>3</th><td>Similar  </td><td>Similar  </td><td>75.16676</td><td>68.02683</td><td>82.30669</td></tr>\n",
       "\t<tr><th scope=row>4</th><td>Different</td><td>Similar  </td><td>69.37199</td><td>62.12524</td><td>76.61874</td></tr>\n",
       "</tbody>\n",
       "</table>\n"
      ],
      "text/latex": [
       "A data.frame: 4 × 5\n",
       "\\begin{tabular}{r|lllll}\n",
       "  & Phon & Sem & fit & lwr & upr\\\\\n",
       "  & <fct> & <fct> & <dbl> & <dbl> & <dbl>\\\\\n",
       "\\hline\n",
       "\t1 & Similar   & Different & 85.35043 & 78.39001 & 92.31084\\\\\n",
       "\t2 & Different & Different & 79.55565 & 72.41572 & 86.69558\\\\\n",
       "\t3 & Similar   & Similar   & 75.16676 & 68.02683 & 82.30669\\\\\n",
       "\t4 & Different & Similar   & 69.37199 & 62.12524 & 76.61874\\\\\n",
       "\\end{tabular}\n"
      ],
      "text/markdown": [
       "\n",
       "A data.frame: 4 × 5\n",
       "\n",
       "| <!--/--> | Phon &lt;fct&gt; | Sem &lt;fct&gt; | fit &lt;dbl&gt; | lwr &lt;dbl&gt; | upr &lt;dbl&gt; |\n",
       "|---|---|---|---|---|---|\n",
       "| 1 | Similar   | Different | 85.35043 | 78.39001 | 92.31084 |\n",
       "| 2 | Different | Different | 79.55565 | 72.41572 | 86.69558 |\n",
       "| 3 | Similar   | Similar   | 75.16676 | 68.02683 | 82.30669 |\n",
       "| 4 | Different | Similar   | 69.37199 | 62.12524 | 76.61874 |\n",
       "\n"
      ],
      "text/plain": [
       "  Phon      Sem       fit      lwr      upr     \n",
       "1 Similar   Different 85.35043 78.39001 92.31084\n",
       "2 Different Different 79.55565 72.41572 86.69558\n",
       "3 Similar   Similar   75.16676 68.02683 82.30669\n",
       "4 Different Similar   69.37199 62.12524 76.61874"
      ]
     },
     "metadata": {},
     "output_type": "display_data"
    }
   ],
   "source": [
    "# predict\n",
    "## new df for prediction\n",
    "newpreds <- tibble(expand.grid(Phon = unique(sim$Phon),\n",
    "                               Sem = unique(sim$Sem)))\n",
    "\n",
    "## predict based on model\n",
    "sim_preds <- predict(xlm, \n",
    "                     newpreds,\n",
    "                     interval = 'confidence')\n",
    "\n",
    "sim_predictions <- cbind(newpreds, sim_preds)\n",
    "sim_predictions"
   ]
  },
  {
   "cell_type": "markdown",
   "metadata": {},
   "source": [
    "## Plot predictions\n",
    "Now we plot the model estimates and their 95% confidence intervals."
   ]
  },
  {
   "cell_type": "code",
   "execution_count": 5,
   "metadata": {},
   "outputs": [
    {
     "data": {
      "image/png": "[encoded data removed]",
      "text/plain": [
       "plot without title"
      ]
     },
     "metadata": {
      "image/png": {
       "height": 420,
       "width": 420
      }
     },
     "output_type": "display_data"
    }
   ],
   "source": [
    "sim_predictions %>%\n",
    "  ggplot(aes(x = Phon, \n",
    "             y = fit,\n",
    "             color = Sem)) +\n",
    "  geom_point(position = position_dodge(0.3)) +\n",
    "  geom_errorbar(aes(ymin = lwr, \n",
    "                    ymax = upr),\n",
    "                position = position_dodge(0.3),\n",
    "                width = 0.2) +\n",
    "  theme_minimal()"
   ]
  },
  {
   "cell_type": "markdown",
   "metadata": {},
   "source": [
    "# Exercises\n",
    "## Excercise 1\n",
    "\n",
    "We now go back to the nettle data set introduced at early stages during the class."
   ]
  },
  {
   "cell_type": "code",
   "execution_count": 6,
   "metadata": {},
   "outputs": [
    {
     "name": "stderr",
     "output_type": "stream",
     "text": [
      "\u001b[1m\u001b[1mRows: \u001b[1m\u001b[22m\u001b[34m\u001b[34m74\u001b[34m\u001b[39m \u001b[1m\u001b[1mColumns: \u001b[1m\u001b[22m\u001b[34m\u001b[34m5\u001b[34m\u001b[39m\n",
      "\n",
      "\u001b[36m──\u001b[39m \u001b[1m\u001b[1mColumn specification\u001b[1m\u001b[22m \u001b[36m───────────────────────────────────────────────────────\u001b[39m\n",
      "\u001b[1mDelimiter:\u001b[22m \",\"\n",
      "\u001b[31mchr\u001b[39m (1): Country\n",
      "\u001b[32mdbl\u001b[39m (4): Population, Area, MGS, Langs\n",
      "\n",
      "\n",
      "\u001b[36mℹ\u001b[39m Use \u001b[30m\u001b[47m\u001b[30m\u001b[47m`spec()`\u001b[47m\u001b[30m\u001b[49m\u001b[39m to retrieve the full column specification for this data.\n",
      "\u001b[36mℹ\u001b[39m Specify the column types or set \u001b[30m\u001b[47m\u001b[30m\u001b[47m`show_col_types = FALSE`\u001b[47m\u001b[30m\u001b[49m\u001b[39m to quiet this message.\n",
      "\n"
     ]
    },
    {
     "data": {
      "text/html": [
       "<table class=\"dataframe\">\n",
       "<caption>A tibble: 6 × 5</caption>\n",
       "<thead>\n",
       "\t<tr><th scope=col>Country</th><th scope=col>Population</th><th scope=col>Area</th><th scope=col>MGS</th><th scope=col>Langs</th></tr>\n",
       "\t<tr><th scope=col>&lt;chr&gt;</th><th scope=col>&lt;dbl&gt;</th><th scope=col>&lt;dbl&gt;</th><th scope=col>&lt;dbl&gt;</th><th scope=col>&lt;dbl&gt;</th></tr>\n",
       "</thead>\n",
       "<tbody>\n",
       "\t<tr><td>Algeria   </td><td>4.41</td><td>6.38</td><td>6.60</td><td> 18</td></tr>\n",
       "\t<tr><td>Angola    </td><td>4.01</td><td>6.10</td><td>6.22</td><td> 42</td></tr>\n",
       "\t<tr><td>Australia </td><td>4.24</td><td>6.89</td><td>6.00</td><td>234</td></tr>\n",
       "\t<tr><td>Bangladesh</td><td>5.07</td><td>5.16</td><td>7.40</td><td> 37</td></tr>\n",
       "\t<tr><td>Benin     </td><td>3.69</td><td>5.05</td><td>7.14</td><td> 52</td></tr>\n",
       "\t<tr><td>Bolivia   </td><td>3.88</td><td>6.04</td><td>6.92</td><td> 38</td></tr>\n",
       "</tbody>\n",
       "</table>\n"
      ],
      "text/latex": [
       "A tibble: 6 × 5\n",
       "\\begin{tabular}{lllll}\n",
       " Country & Population & Area & MGS & Langs\\\\\n",
       " <chr> & <dbl> & <dbl> & <dbl> & <dbl>\\\\\n",
       "\\hline\n",
       "\t Algeria    & 4.41 & 6.38 & 6.60 &  18\\\\\n",
       "\t Angola     & 4.01 & 6.10 & 6.22 &  42\\\\\n",
       "\t Australia  & 4.24 & 6.89 & 6.00 & 234\\\\\n",
       "\t Bangladesh & 5.07 & 5.16 & 7.40 &  37\\\\\n",
       "\t Benin      & 3.69 & 5.05 & 7.14 &  52\\\\\n",
       "\t Bolivia    & 3.88 & 6.04 & 6.92 &  38\\\\\n",
       "\\end{tabular}\n"
      ],
      "text/markdown": [
       "\n",
       "A tibble: 6 × 5\n",
       "\n",
       "| Country &lt;chr&gt; | Population &lt;dbl&gt; | Area &lt;dbl&gt; | MGS &lt;dbl&gt; | Langs &lt;dbl&gt; |\n",
       "|---|---|---|---|---|\n",
       "| Algeria    | 4.41 | 6.38 | 6.60 |  18 |\n",
       "| Angola     | 4.01 | 6.10 | 6.22 |  42 |\n",
       "| Australia  | 4.24 | 6.89 | 6.00 | 234 |\n",
       "| Bangladesh | 5.07 | 5.16 | 7.40 |  37 |\n",
       "| Benin      | 3.69 | 5.05 | 7.14 |  52 |\n",
       "| Bolivia    | 3.88 | 6.04 | 6.92 |  38 |\n",
       "\n"
      ],
      "text/plain": [
       "  Country    Population Area MGS  Langs\n",
       "1 Algeria    4.41       6.38 6.60  18  \n",
       "2 Angola     4.01       6.10 6.22  42  \n",
       "3 Australia  4.24       6.89 6.00 234  \n",
       "4 Bangladesh 5.07       5.16 7.40  37  \n",
       "5 Benin      3.69       5.05 7.14  52  \n",
       "6 Bolivia    3.88       6.04 6.92  38  "
      ]
     },
     "metadata": {},
     "output_type": "display_data"
    }
   ],
   "source": [
    "# Load our data set\n",
    "nettle <- read_csv(\"nettle_1999_climate.csv\")\n",
    "head(nettle)"
   ]
  },
  {
   "cell_type": "markdown",
   "metadata": {},
   "source": [
    "### (a) \n",
    "Run a linear regression that predicts `Population` based on standardized `Area`.\n",
    "I standardized the predictor `Area` for you."
   ]
  },
  {
   "cell_type": "code",
   "execution_count": 7,
   "metadata": {},
   "outputs": [],
   "source": [
    "# Perhaps it should be (Area - mean(Area))/sd(Area)?\n",
    "nettle <- nettle %>% \n",
    "  mutate(Area_c = (mean(Area) - Area) / sd(Area))"
   ]
  },
  {
   "cell_type": "code",
   "execution_count": 8,
   "metadata": {
    "scrolled": false,
    "tags": []
   },
   "outputs": [
    {
     "data": {
      "text/html": [
       "<table class=\"dataframe\">\n",
       "<caption>A spec_tbl_df: 74 × 6</caption>\n",
       "<thead>\n",
       "\t<tr><th scope=col>Country</th><th scope=col>Population</th><th scope=col>Area</th><th scope=col>MGS</th><th scope=col>Langs</th><th scope=col>Area_c</th></tr>\n",
       "\t<tr><th scope=col>&lt;chr&gt;</th><th scope=col>&lt;dbl&gt;</th><th scope=col>&lt;dbl&gt;</th><th scope=col>&lt;dbl&gt;</th><th scope=col>&lt;dbl&gt;</th><th scope=col>&lt;dbl&gt;</th></tr>\n",
       "</thead>\n",
       "<tbody>\n",
       "\t<tr><td>Algeria      </td><td>4.41</td><td>6.38</td><td> 6.60</td><td> 18</td><td>-1.3784622</td></tr>\n",
       "\t<tr><td>Angola       </td><td>4.01</td><td>6.10</td><td> 6.22</td><td> 42</td><td>-0.8721382</td></tr>\n",
       "\t<tr><td>Australia    </td><td>4.24</td><td>6.89</td><td> 6.00</td><td>234</td><td>-2.3006951</td></tr>\n",
       "\t<tr><td>Bangladesh   </td><td>5.07</td><td>5.16</td><td> 7.40</td><td> 37</td><td> 0.8276638</td></tr>\n",
       "\t<tr><td>Benin        </td><td>3.69</td><td>5.05</td><td> 7.14</td><td> 52</td><td> 1.0265768</td></tr>\n",
       "\t<tr><td>Bolivia      </td><td>3.88</td><td>6.04</td><td> 6.92</td><td> 38</td><td>-0.7636402</td></tr>\n",
       "\t<tr><td>Botswana     </td><td>3.13</td><td>5.76</td><td> 4.60</td><td> 27</td><td>-0.2573162</td></tr>\n",
       "\t<tr><td>Brazil       </td><td>5.19</td><td>6.93</td><td> 9.71</td><td>209</td><td>-2.3730271</td></tr>\n",
       "\t<tr><td>Burkina Faso </td><td>3.97</td><td>5.44</td><td> 5.17</td><td> 75</td><td> 0.3213398</td></tr>\n",
       "\t<tr><td>CAR          </td><td>3.50</td><td>5.79</td><td> 8.08</td><td> 94</td><td>-0.3115652</td></tr>\n",
       "\t<tr><td>Cambodia     </td><td>3.93</td><td>5.26</td><td> 8.44</td><td> 18</td><td> 0.6468338</td></tr>\n",
       "\t<tr><td>Cameroon     </td><td>4.09</td><td>5.68</td><td> 9.17</td><td>275</td><td>-0.1126522</td></tr>\n",
       "\t<tr><td>Chad         </td><td>3.76</td><td>6.11</td><td> 4.00</td><td>126</td><td>-0.8902212</td></tr>\n",
       "\t<tr><td>Colombia     </td><td>4.53</td><td>6.06</td><td>11.37</td><td> 79</td><td>-0.7998062</td></tr>\n",
       "\t<tr><td>Congo        </td><td>3.37</td><td>5.53</td><td> 9.60</td><td> 60</td><td> 0.1585928</td></tr>\n",
       "\t<tr><td>Costa Rica   </td><td>3.49</td><td>4.71</td><td> 8.92</td><td> 10</td><td> 1.6413987</td></tr>\n",
       "\t<tr><td>Cote d'Ivoire</td><td>4.10</td><td>5.51</td><td> 8.67</td><td> 75</td><td> 0.1947588</td></tr>\n",
       "\t<tr><td>Cuba         </td><td>4.03</td><td>5.04</td><td> 7.46</td><td>  1</td><td> 1.0446598</td></tr>\n",
       "\t<tr><td>Ecuador      </td><td>4.04</td><td>5.45</td><td> 8.14</td><td> 22</td><td> 0.3032568</td></tr>\n",
       "\t<tr><td>Egypt        </td><td>4.74</td><td>6.00</td><td> 0.89</td><td> 11</td><td>-0.6913082</td></tr>\n",
       "\t<tr><td>Ethiopia     </td><td>4.73</td><td>6.09</td><td> 7.28</td><td>112</td><td>-0.8540552</td></tr>\n",
       "\t<tr><td>French Guiana</td><td>2.01</td><td>4.95</td><td>10.40</td><td> 11</td><td> 1.2074068</td></tr>\n",
       "\t<tr><td>Gabon        </td><td>3.08</td><td>5.43</td><td> 8.79</td><td> 40</td><td> 0.3394228</td></tr>\n",
       "\t<tr><td>Ghana        </td><td>4.19</td><td>5.38</td><td> 8.79</td><td> 73</td><td> 0.4298378</td></tr>\n",
       "\t<tr><td>Guatemala    </td><td>3.98</td><td>5.04</td><td> 9.31</td><td> 52</td><td> 1.0446598</td></tr>\n",
       "\t<tr><td>Guinea       </td><td>3.77</td><td>5.39</td><td> 7.38</td><td> 29</td><td> 0.4117548</td></tr>\n",
       "\t<tr><td>Guyana       </td><td>2.90</td><td>5.33</td><td>12.00</td><td> 14</td><td> 0.5202528</td></tr>\n",
       "\t<tr><td>Honduras     </td><td>3.72</td><td>5.05</td><td> 8.54</td><td>  9</td><td> 1.0265768</td></tr>\n",
       "\t<tr><td>India        </td><td>5.93</td><td>6.52</td><td> 5.32</td><td>405</td><td>-1.6316241</td></tr>\n",
       "\t<tr><td>Indonesia    </td><td>5.27</td><td>6.28</td><td>10.67</td><td>701</td><td>-1.1976322</td></tr>\n",
       "\t<tr><td>⋮</td><td>⋮</td><td>⋮</td><td>⋮</td><td>⋮</td><td>⋮</td></tr>\n",
       "\t<tr><td>Nicaragua       </td><td>3.60</td><td>5.11</td><td> 8.13</td><td>  7</td><td> 0.9180788</td></tr>\n",
       "\t<tr><td>Niger           </td><td>3.90</td><td>6.10</td><td> 2.40</td><td> 21</td><td>-0.8721382</td></tr>\n",
       "\t<tr><td>Nigeria         </td><td>5.05</td><td>5.97</td><td> 7.00</td><td>427</td><td>-0.6370592</td></tr>\n",
       "\t<tr><td>Oman            </td><td>3.19</td><td>5.33</td><td> 0.00</td><td>  8</td><td> 0.5202528</td></tr>\n",
       "\t<tr><td>Panama          </td><td>3.39</td><td>4.88</td><td> 9.20</td><td> 13</td><td> 1.3339878</td></tr>\n",
       "\t<tr><td>Papua New Guinea</td><td>3.58</td><td>5.67</td><td>10.88</td><td>862</td><td>-0.0945692</td></tr>\n",
       "\t<tr><td>Paraguay        </td><td>3.64</td><td>5.61</td><td>10.25</td><td> 21</td><td> 0.0139288</td></tr>\n",
       "\t<tr><td>Peru            </td><td>4.34</td><td>6.11</td><td> 2.65</td><td> 91</td><td>-0.8902212</td></tr>\n",
       "\t<tr><td>Philippines     </td><td>4.80</td><td>5.48</td><td>10.34</td><td>168</td><td> 0.2490078</td></tr>\n",
       "\t<tr><td>Saudi Arabia    </td><td>4.17</td><td>6.33</td><td> 0.40</td><td>  8</td><td>-1.2880472</td></tr>\n",
       "\t<tr><td>Senegal         </td><td>3.88</td><td>5.29</td><td> 3.58</td><td> 42</td><td> 0.5925848</td></tr>\n",
       "\t<tr><td>Sierra Leone    </td><td>3.63</td><td>4.86</td><td> 8.22</td><td> 23</td><td> 1.3701538</td></tr>\n",
       "\t<tr><td>Solomon Islands </td><td>3.52</td><td>4.46</td><td>12.00</td><td> 66</td><td> 2.0934737</td></tr>\n",
       "\t<tr><td>Somalia         </td><td>3.89</td><td>5.80</td><td> 3.00</td><td> 14</td><td>-0.3296482</td></tr>\n",
       "\t<tr><td>South Africa    </td><td>4.56</td><td>6.09</td><td> 6.05</td><td> 32</td><td>-0.8540552</td></tr>\n",
       "\t<tr><td>Sri Lanka       </td><td>4.24</td><td>4.82</td><td> 9.59</td><td>  7</td><td> 1.4424857</td></tr>\n",
       "\t<tr><td>Sudan           </td><td>4.41</td><td>6.40</td><td> 4.02</td><td>134</td><td>-1.4146282</td></tr>\n",
       "\t<tr><td>Suriname        </td><td>2.63</td><td>5.21</td><td>12.00</td><td> 17</td><td> 0.7372488</td></tr>\n",
       "\t<tr><td>Tanzania        </td><td>4.45</td><td>5.98</td><td> 7.02</td><td>131</td><td>-0.6551422</td></tr>\n",
       "\t<tr><td>Thailand        </td><td>4.75</td><td>5.71</td><td> 8.04</td><td> 82</td><td>-0.1669012</td></tr>\n",
       "\t<tr><td>Togo            </td><td>3.56</td><td>4.75</td><td> 7.91</td><td> 43</td><td> 1.5690667</td></tr>\n",
       "\t<tr><td>UAE             </td><td>3.21</td><td>4.92</td><td> 0.83</td><td>  9</td><td> 1.2616558</td></tr>\n",
       "\t<tr><td>Uganda          </td><td>4.29</td><td>5.37</td><td>10.14</td><td> 43</td><td> 0.4479208</td></tr>\n",
       "\t<tr><td>Vanuatu         </td><td>2.21</td><td>4.09</td><td>12.00</td><td>111</td><td> 2.7625447</td></tr>\n",
       "\t<tr><td>Venezuela       </td><td>4.31</td><td>5.96</td><td> 7.98</td><td> 40</td><td>-0.6189762</td></tr>\n",
       "\t<tr><td>Vietnam         </td><td>4.83</td><td>5.52</td><td> 8.80</td><td> 88</td><td> 0.1766758</td></tr>\n",
       "\t<tr><td>Yemen           </td><td>4.09</td><td>5.72</td><td> 0.00</td><td>  6</td><td>-0.1849842</td></tr>\n",
       "\t<tr><td>Zaire           </td><td>4.56</td><td>6.37</td><td> 9.44</td><td>219</td><td>-1.3603792</td></tr>\n",
       "\t<tr><td>Zambia          </td><td>3.94</td><td>5.88</td><td> 5.43</td><td> 38</td><td>-0.4743122</td></tr>\n",
       "\t<tr><td>Zimbabwe        </td><td>4.00</td><td>5.59</td><td> 5.29</td><td> 18</td><td> 0.0500948</td></tr>\n",
       "</tbody>\n",
       "</table>\n"
      ],
      "text/latex": [
       "A spec\\_tbl\\_df: 74 × 6\n",
       "\\begin{tabular}{llllll}\n",
       " Country & Population & Area & MGS & Langs & Area\\_c\\\\\n",
       " <chr> & <dbl> & <dbl> & <dbl> & <dbl> & <dbl>\\\\\n",
       "\\hline\n",
       "\t Algeria       & 4.41 & 6.38 &  6.60 &  18 & -1.3784622\\\\\n",
       "\t Angola        & 4.01 & 6.10 &  6.22 &  42 & -0.8721382\\\\\n",
       "\t Australia     & 4.24 & 6.89 &  6.00 & 234 & -2.3006951\\\\\n",
       "\t Bangladesh    & 5.07 & 5.16 &  7.40 &  37 &  0.8276638\\\\\n",
       "\t Benin         & 3.69 & 5.05 &  7.14 &  52 &  1.0265768\\\\\n",
       "\t Bolivia       & 3.88 & 6.04 &  6.92 &  38 & -0.7636402\\\\\n",
       "\t Botswana      & 3.13 & 5.76 &  4.60 &  27 & -0.2573162\\\\\n",
       "\t Brazil        & 5.19 & 6.93 &  9.71 & 209 & -2.3730271\\\\\n",
       "\t Burkina Faso  & 3.97 & 5.44 &  5.17 &  75 &  0.3213398\\\\\n",
       "\t CAR           & 3.50 & 5.79 &  8.08 &  94 & -0.3115652\\\\\n",
       "\t Cambodia      & 3.93 & 5.26 &  8.44 &  18 &  0.6468338\\\\\n",
       "\t Cameroon      & 4.09 & 5.68 &  9.17 & 275 & -0.1126522\\\\\n",
       "\t Chad          & 3.76 & 6.11 &  4.00 & 126 & -0.8902212\\\\\n",
       "\t Colombia      & 4.53 & 6.06 & 11.37 &  79 & -0.7998062\\\\\n",
       "\t Congo         & 3.37 & 5.53 &  9.60 &  60 &  0.1585928\\\\\n",
       "\t Costa Rica    & 3.49 & 4.71 &  8.92 &  10 &  1.6413987\\\\\n",
       "\t Cote d'Ivoire & 4.10 & 5.51 &  8.67 &  75 &  0.1947588\\\\\n",
       "\t Cuba          & 4.03 & 5.04 &  7.46 &   1 &  1.0446598\\\\\n",
       "\t Ecuador       & 4.04 & 5.45 &  8.14 &  22 &  0.3032568\\\\\n",
       "\t Egypt         & 4.74 & 6.00 &  0.89 &  11 & -0.6913082\\\\\n",
       "\t Ethiopia      & 4.73 & 6.09 &  7.28 & 112 & -0.8540552\\\\\n",
       "\t French Guiana & 2.01 & 4.95 & 10.40 &  11 &  1.2074068\\\\\n",
       "\t Gabon         & 3.08 & 5.43 &  8.79 &  40 &  0.3394228\\\\\n",
       "\t Ghana         & 4.19 & 5.38 &  8.79 &  73 &  0.4298378\\\\\n",
       "\t Guatemala     & 3.98 & 5.04 &  9.31 &  52 &  1.0446598\\\\\n",
       "\t Guinea        & 3.77 & 5.39 &  7.38 &  29 &  0.4117548\\\\\n",
       "\t Guyana        & 2.90 & 5.33 & 12.00 &  14 &  0.5202528\\\\\n",
       "\t Honduras      & 3.72 & 5.05 &  8.54 &   9 &  1.0265768\\\\\n",
       "\t India         & 5.93 & 6.52 &  5.32 & 405 & -1.6316241\\\\\n",
       "\t Indonesia     & 5.27 & 6.28 & 10.67 & 701 & -1.1976322\\\\\n",
       "\t ⋮ & ⋮ & ⋮ & ⋮ & ⋮ & ⋮\\\\\n",
       "\t Nicaragua        & 3.60 & 5.11 &  8.13 &   7 &  0.9180788\\\\\n",
       "\t Niger            & 3.90 & 6.10 &  2.40 &  21 & -0.8721382\\\\\n",
       "\t Nigeria          & 5.05 & 5.97 &  7.00 & 427 & -0.6370592\\\\\n",
       "\t Oman             & 3.19 & 5.33 &  0.00 &   8 &  0.5202528\\\\\n",
       "\t Panama           & 3.39 & 4.88 &  9.20 &  13 &  1.3339878\\\\\n",
       "\t Papua New Guinea & 3.58 & 5.67 & 10.88 & 862 & -0.0945692\\\\\n",
       "\t Paraguay         & 3.64 & 5.61 & 10.25 &  21 &  0.0139288\\\\\n",
       "\t Peru             & 4.34 & 6.11 &  2.65 &  91 & -0.8902212\\\\\n",
       "\t Philippines      & 4.80 & 5.48 & 10.34 & 168 &  0.2490078\\\\\n",
       "\t Saudi Arabia     & 4.17 & 6.33 &  0.40 &   8 & -1.2880472\\\\\n",
       "\t Senegal          & 3.88 & 5.29 &  3.58 &  42 &  0.5925848\\\\\n",
       "\t Sierra Leone     & 3.63 & 4.86 &  8.22 &  23 &  1.3701538\\\\\n",
       "\t Solomon Islands  & 3.52 & 4.46 & 12.00 &  66 &  2.0934737\\\\\n",
       "\t Somalia          & 3.89 & 5.80 &  3.00 &  14 & -0.3296482\\\\\n",
       "\t South Africa     & 4.56 & 6.09 &  6.05 &  32 & -0.8540552\\\\\n",
       "\t Sri Lanka        & 4.24 & 4.82 &  9.59 &   7 &  1.4424857\\\\\n",
       "\t Sudan            & 4.41 & 6.40 &  4.02 & 134 & -1.4146282\\\\\n",
       "\t Suriname         & 2.63 & 5.21 & 12.00 &  17 &  0.7372488\\\\\n",
       "\t Tanzania         & 4.45 & 5.98 &  7.02 & 131 & -0.6551422\\\\\n",
       "\t Thailand         & 4.75 & 5.71 &  8.04 &  82 & -0.1669012\\\\\n",
       "\t Togo             & 3.56 & 4.75 &  7.91 &  43 &  1.5690667\\\\\n",
       "\t UAE              & 3.21 & 4.92 &  0.83 &   9 &  1.2616558\\\\\n",
       "\t Uganda           & 4.29 & 5.37 & 10.14 &  43 &  0.4479208\\\\\n",
       "\t Vanuatu          & 2.21 & 4.09 & 12.00 & 111 &  2.7625447\\\\\n",
       "\t Venezuela        & 4.31 & 5.96 &  7.98 &  40 & -0.6189762\\\\\n",
       "\t Vietnam          & 4.83 & 5.52 &  8.80 &  88 &  0.1766758\\\\\n",
       "\t Yemen            & 4.09 & 5.72 &  0.00 &   6 & -0.1849842\\\\\n",
       "\t Zaire            & 4.56 & 6.37 &  9.44 & 219 & -1.3603792\\\\\n",
       "\t Zambia           & 3.94 & 5.88 &  5.43 &  38 & -0.4743122\\\\\n",
       "\t Zimbabwe         & 4.00 & 5.59 &  5.29 &  18 &  0.0500948\\\\\n",
       "\\end{tabular}\n"
      ],
      "text/markdown": [
       "\n",
       "A spec_tbl_df: 74 × 6\n",
       "\n",
       "| Country &lt;chr&gt; | Population &lt;dbl&gt; | Area &lt;dbl&gt; | MGS &lt;dbl&gt; | Langs &lt;dbl&gt; | Area_c &lt;dbl&gt; |\n",
       "|---|---|---|---|---|---|\n",
       "| Algeria       | 4.41 | 6.38 |  6.60 |  18 | -1.3784622 |\n",
       "| Angola        | 4.01 | 6.10 |  6.22 |  42 | -0.8721382 |\n",
       "| Australia     | 4.24 | 6.89 |  6.00 | 234 | -2.3006951 |\n",
       "| Bangladesh    | 5.07 | 5.16 |  7.40 |  37 |  0.8276638 |\n",
       "| Benin         | 3.69 | 5.05 |  7.14 |  52 |  1.0265768 |\n",
       "| Bolivia       | 3.88 | 6.04 |  6.92 |  38 | -0.7636402 |\n",
       "| Botswana      | 3.13 | 5.76 |  4.60 |  27 | -0.2573162 |\n",
       "| Brazil        | 5.19 | 6.93 |  9.71 | 209 | -2.3730271 |\n",
       "| Burkina Faso  | 3.97 | 5.44 |  5.17 |  75 |  0.3213398 |\n",
       "| CAR           | 3.50 | 5.79 |  8.08 |  94 | -0.3115652 |\n",
       "| Cambodia      | 3.93 | 5.26 |  8.44 |  18 |  0.6468338 |\n",
       "| Cameroon      | 4.09 | 5.68 |  9.17 | 275 | -0.1126522 |\n",
       "| Chad          | 3.76 | 6.11 |  4.00 | 126 | -0.8902212 |\n",
       "| Colombia      | 4.53 | 6.06 | 11.37 |  79 | -0.7998062 |\n",
       "| Congo         | 3.37 | 5.53 |  9.60 |  60 |  0.1585928 |\n",
       "| Costa Rica    | 3.49 | 4.71 |  8.92 |  10 |  1.6413987 |\n",
       "| Cote d'Ivoire | 4.10 | 5.51 |  8.67 |  75 |  0.1947588 |\n",
       "| Cuba          | 4.03 | 5.04 |  7.46 |   1 |  1.0446598 |\n",
       "| Ecuador       | 4.04 | 5.45 |  8.14 |  22 |  0.3032568 |\n",
       "| Egypt         | 4.74 | 6.00 |  0.89 |  11 | -0.6913082 |\n",
       "| Ethiopia      | 4.73 | 6.09 |  7.28 | 112 | -0.8540552 |\n",
       "| French Guiana | 2.01 | 4.95 | 10.40 |  11 |  1.2074068 |\n",
       "| Gabon         | 3.08 | 5.43 |  8.79 |  40 |  0.3394228 |\n",
       "| Ghana         | 4.19 | 5.38 |  8.79 |  73 |  0.4298378 |\n",
       "| Guatemala     | 3.98 | 5.04 |  9.31 |  52 |  1.0446598 |\n",
       "| Guinea        | 3.77 | 5.39 |  7.38 |  29 |  0.4117548 |\n",
       "| Guyana        | 2.90 | 5.33 | 12.00 |  14 |  0.5202528 |\n",
       "| Honduras      | 3.72 | 5.05 |  8.54 |   9 |  1.0265768 |\n",
       "| India         | 5.93 | 6.52 |  5.32 | 405 | -1.6316241 |\n",
       "| Indonesia     | 5.27 | 6.28 | 10.67 | 701 | -1.1976322 |\n",
       "| ⋮ | ⋮ | ⋮ | ⋮ | ⋮ | ⋮ |\n",
       "| Nicaragua        | 3.60 | 5.11 |  8.13 |   7 |  0.9180788 |\n",
       "| Niger            | 3.90 | 6.10 |  2.40 |  21 | -0.8721382 |\n",
       "| Nigeria          | 5.05 | 5.97 |  7.00 | 427 | -0.6370592 |\n",
       "| Oman             | 3.19 | 5.33 |  0.00 |   8 |  0.5202528 |\n",
       "| Panama           | 3.39 | 4.88 |  9.20 |  13 |  1.3339878 |\n",
       "| Papua New Guinea | 3.58 | 5.67 | 10.88 | 862 | -0.0945692 |\n",
       "| Paraguay         | 3.64 | 5.61 | 10.25 |  21 |  0.0139288 |\n",
       "| Peru             | 4.34 | 6.11 |  2.65 |  91 | -0.8902212 |\n",
       "| Philippines      | 4.80 | 5.48 | 10.34 | 168 |  0.2490078 |\n",
       "| Saudi Arabia     | 4.17 | 6.33 |  0.40 |   8 | -1.2880472 |\n",
       "| Senegal          | 3.88 | 5.29 |  3.58 |  42 |  0.5925848 |\n",
       "| Sierra Leone     | 3.63 | 4.86 |  8.22 |  23 |  1.3701538 |\n",
       "| Solomon Islands  | 3.52 | 4.46 | 12.00 |  66 |  2.0934737 |\n",
       "| Somalia          | 3.89 | 5.80 |  3.00 |  14 | -0.3296482 |\n",
       "| South Africa     | 4.56 | 6.09 |  6.05 |  32 | -0.8540552 |\n",
       "| Sri Lanka        | 4.24 | 4.82 |  9.59 |   7 |  1.4424857 |\n",
       "| Sudan            | 4.41 | 6.40 |  4.02 | 134 | -1.4146282 |\n",
       "| Suriname         | 2.63 | 5.21 | 12.00 |  17 |  0.7372488 |\n",
       "| Tanzania         | 4.45 | 5.98 |  7.02 | 131 | -0.6551422 |\n",
       "| Thailand         | 4.75 | 5.71 |  8.04 |  82 | -0.1669012 |\n",
       "| Togo             | 3.56 | 4.75 |  7.91 |  43 |  1.5690667 |\n",
       "| UAE              | 3.21 | 4.92 |  0.83 |   9 |  1.2616558 |\n",
       "| Uganda           | 4.29 | 5.37 | 10.14 |  43 |  0.4479208 |\n",
       "| Vanuatu          | 2.21 | 4.09 | 12.00 | 111 |  2.7625447 |\n",
       "| Venezuela        | 4.31 | 5.96 |  7.98 |  40 | -0.6189762 |\n",
       "| Vietnam          | 4.83 | 5.52 |  8.80 |  88 |  0.1766758 |\n",
       "| Yemen            | 4.09 | 5.72 |  0.00 |   6 | -0.1849842 |\n",
       "| Zaire            | 4.56 | 6.37 |  9.44 | 219 | -1.3603792 |\n",
       "| Zambia           | 3.94 | 5.88 |  5.43 |  38 | -0.4743122 |\n",
       "| Zimbabwe         | 4.00 | 5.59 |  5.29 |  18 |  0.0500948 |\n",
       "\n"
      ],
      "text/plain": [
       "   Country          Population Area MGS   Langs Area_c    \n",
       "1  Algeria          4.41       6.38  6.60  18   -1.3784622\n",
       "2  Angola           4.01       6.10  6.22  42   -0.8721382\n",
       "3  Australia        4.24       6.89  6.00 234   -2.3006951\n",
       "4  Bangladesh       5.07       5.16  7.40  37    0.8276638\n",
       "5  Benin            3.69       5.05  7.14  52    1.0265768\n",
       "6  Bolivia          3.88       6.04  6.92  38   -0.7636402\n",
       "7  Botswana         3.13       5.76  4.60  27   -0.2573162\n",
       "8  Brazil           5.19       6.93  9.71 209   -2.3730271\n",
       "9  Burkina Faso     3.97       5.44  5.17  75    0.3213398\n",
       "10 CAR              3.50       5.79  8.08  94   -0.3115652\n",
       "11 Cambodia         3.93       5.26  8.44  18    0.6468338\n",
       "12 Cameroon         4.09       5.68  9.17 275   -0.1126522\n",
       "13 Chad             3.76       6.11  4.00 126   -0.8902212\n",
       "14 Colombia         4.53       6.06 11.37  79   -0.7998062\n",
       "15 Congo            3.37       5.53  9.60  60    0.1585928\n",
       "16 Costa Rica       3.49       4.71  8.92  10    1.6413987\n",
       "17 Cote d'Ivoire    4.10       5.51  8.67  75    0.1947588\n",
       "18 Cuba             4.03       5.04  7.46   1    1.0446598\n",
       "19 Ecuador          4.04       5.45  8.14  22    0.3032568\n",
       "20 Egypt            4.74       6.00  0.89  11   -0.6913082\n",
       "21 Ethiopia         4.73       6.09  7.28 112   -0.8540552\n",
       "22 French Guiana    2.01       4.95 10.40  11    1.2074068\n",
       "23 Gabon            3.08       5.43  8.79  40    0.3394228\n",
       "24 Ghana            4.19       5.38  8.79  73    0.4298378\n",
       "25 Guatemala        3.98       5.04  9.31  52    1.0446598\n",
       "26 Guinea           3.77       5.39  7.38  29    0.4117548\n",
       "27 Guyana           2.90       5.33 12.00  14    0.5202528\n",
       "28 Honduras         3.72       5.05  8.54   9    1.0265768\n",
       "29 India            5.93       6.52  5.32 405   -1.6316241\n",
       "30 Indonesia        5.27       6.28 10.67 701   -1.1976322\n",
       "⋮  ⋮                ⋮          ⋮    ⋮     ⋮     ⋮         \n",
       "45 Nicaragua        3.60       5.11  8.13   7    0.9180788\n",
       "46 Niger            3.90       6.10  2.40  21   -0.8721382\n",
       "47 Nigeria          5.05       5.97  7.00 427   -0.6370592\n",
       "48 Oman             3.19       5.33  0.00   8    0.5202528\n",
       "49 Panama           3.39       4.88  9.20  13    1.3339878\n",
       "50 Papua New Guinea 3.58       5.67 10.88 862   -0.0945692\n",
       "51 Paraguay         3.64       5.61 10.25  21    0.0139288\n",
       "52 Peru             4.34       6.11  2.65  91   -0.8902212\n",
       "53 Philippines      4.80       5.48 10.34 168    0.2490078\n",
       "54 Saudi Arabia     4.17       6.33  0.40   8   -1.2880472\n",
       "55 Senegal          3.88       5.29  3.58  42    0.5925848\n",
       "56 Sierra Leone     3.63       4.86  8.22  23    1.3701538\n",
       "57 Solomon Islands  3.52       4.46 12.00  66    2.0934737\n",
       "58 Somalia          3.89       5.80  3.00  14   -0.3296482\n",
       "59 South Africa     4.56       6.09  6.05  32   -0.8540552\n",
       "60 Sri Lanka        4.24       4.82  9.59   7    1.4424857\n",
       "61 Sudan            4.41       6.40  4.02 134   -1.4146282\n",
       "62 Suriname         2.63       5.21 12.00  17    0.7372488\n",
       "63 Tanzania         4.45       5.98  7.02 131   -0.6551422\n",
       "64 Thailand         4.75       5.71  8.04  82   -0.1669012\n",
       "65 Togo             3.56       4.75  7.91  43    1.5690667\n",
       "66 UAE              3.21       4.92  0.83   9    1.2616558\n",
       "67 Uganda           4.29       5.37 10.14  43    0.4479208\n",
       "68 Vanuatu          2.21       4.09 12.00 111    2.7625447\n",
       "69 Venezuela        4.31       5.96  7.98  40   -0.6189762\n",
       "70 Vietnam          4.83       5.52  8.80  88    0.1766758\n",
       "71 Yemen            4.09       5.72  0.00   6   -0.1849842\n",
       "72 Zaire            4.56       6.37  9.44 219   -1.3603792\n",
       "73 Zambia           3.94       5.88  5.43  38   -0.4743122\n",
       "74 Zimbabwe         4.00       5.59  5.29  18    0.0500948"
      ]
     },
     "metadata": {},
     "output_type": "display_data"
    }
   ],
   "source": [
    "nettle"
   ]
  },
  {
   "cell_type": "code",
   "execution_count": 9,
   "metadata": {},
   "outputs": [
    {
     "data": {
      "text/plain": [
       "\n",
       "Call:\n",
       "lm(formula = Population ~ Area_c, data = nettle)\n",
       "\n",
       "Residuals:\n",
       "     Min       1Q   Median       3Q      Max \n",
       "-1.52203 -0.33093  0.05303  0.32404  1.39342 \n",
       "\n",
       "Coefficients:\n",
       "            Estimate Std. Error t value Pr(>|t|)    \n",
       "(Intercept)  3.99162    0.06481  61.593  < 2e-16 ***\n",
       "Area_c      -0.38064    0.06525  -5.834 1.43e-07 ***\n",
       "---\n",
       "Signif. codes:  0 ‘***’ 0.001 ‘**’ 0.01 ‘*’ 0.05 ‘.’ 0.1 ‘ ’ 1\n",
       "\n",
       "Residual standard error: 0.5575 on 72 degrees of freedom\n",
       "Multiple R-squared:  0.321,\tAdjusted R-squared:  0.3115 \n",
       "F-statistic: 34.03 on 1 and 72 DF,  p-value: 1.429e-07\n"
      ]
     },
     "metadata": {},
     "output_type": "display_data"
    }
   ],
   "source": [
    "model = lm(Population ~ Area_c, nettle)\n",
    "summary(model)"
   ]
  },
  {
   "cell_type": "markdown",
   "metadata": {},
   "source": [
    "### (b) \n",
    "Interpret the model estimates and the p-values"
   ]
  },
  {
   "cell_type": "markdown",
   "metadata": {},
   "source": [
    "The p-value is so low that the null hypothesis is much more likely to be true. \n",
    "\n"
   ]
  },
  {
   "cell_type": "markdown",
   "metadata": {},
   "source": [
    "### (c)\n",
    "Extract model predictions for `Area_c` and plot a scatter plot with the regression line and the respective 95% confidence interval."
   ]
  },
  {
   "cell_type": "code",
   "execution_count": 10,
   "metadata": {
    "tags": []
   },
   "outputs": [
    {
     "data": {
      "image/png": "[encoded data removed]",
      "text/plain": [
       "plot without title"
      ]
     },
     "metadata": {
      "image/png": {
       "height": 420,
       "width": 420
      }
     },
     "output_type": "display_data"
    }
   ],
   "source": [
    "ggplot(nettle, aes(Area_c, Population)) + \n",
    "  geom_point() +\n",
    "  geom_smooth(method='lm', formula=y~x)"
   ]
  },
  {
   "cell_type": "markdown",
   "metadata": {},
   "source": [
    "## Homework\n",
    "### (a)\n",
    "Take the similarity data from the walkthrough.\n",
    "Run a model that predicts `Distance` based on standardized `Phon`, `Sem` and their interaction."
   ]
  },
  {
   "cell_type": "code",
   "execution_count": 25,
   "metadata": {
    "tags": []
   },
   "outputs": [
    {
     "data": {
      "text/html": [
       "<table class=\"dataframe\">\n",
       "<caption>A tibble: 6 × 3</caption>\n",
       "<thead>\n",
       "\t<tr><th scope=col>Sem</th><th scope=col>Phon</th><th scope=col>Distance</th></tr>\n",
       "\t<tr><th scope=col>&lt;chr&gt;</th><th scope=col>&lt;chr&gt;</th><th scope=col>&lt;dbl&gt;</th></tr>\n",
       "</thead>\n",
       "<tbody>\n",
       "\t<tr><td>Different</td><td>Similar  </td><td> 76</td></tr>\n",
       "\t<tr><td>Different</td><td>Different</td><td>110</td></tr>\n",
       "\t<tr><td>Similar  </td><td>Similar  </td><td>214</td></tr>\n",
       "\t<tr><td>Different</td><td>Different</td><td> 41</td></tr>\n",
       "\t<tr><td>Different</td><td>Different</td><td> 78</td></tr>\n",
       "\t<tr><td>Different</td><td>Similar  </td><td> 87</td></tr>\n",
       "</tbody>\n",
       "</table>\n"
      ],
      "text/latex": [
       "A tibble: 6 × 3\n",
       "\\begin{tabular}{lll}\n",
       " Sem & Phon & Distance\\\\\n",
       " <chr> & <chr> & <dbl>\\\\\n",
       "\\hline\n",
       "\t Different & Similar   &  76\\\\\n",
       "\t Different & Different & 110\\\\\n",
       "\t Similar   & Similar   & 214\\\\\n",
       "\t Different & Different &  41\\\\\n",
       "\t Different & Different &  78\\\\\n",
       "\t Different & Similar   &  87\\\\\n",
       "\\end{tabular}\n"
      ],
      "text/markdown": [
       "\n",
       "A tibble: 6 × 3\n",
       "\n",
       "| Sem &lt;chr&gt; | Phon &lt;chr&gt; | Distance &lt;dbl&gt; |\n",
       "|---|---|---|\n",
       "| Different | Similar   |  76 |\n",
       "| Different | Different | 110 |\n",
       "| Similar   | Similar   | 214 |\n",
       "| Different | Different |  41 |\n",
       "| Different | Different |  78 |\n",
       "| Different | Similar   |  87 |\n",
       "\n"
      ],
      "text/plain": [
       "  Sem       Phon      Distance\n",
       "1 Different Similar    76     \n",
       "2 Different Different 110     \n",
       "3 Similar   Similar   214     \n",
       "4 Different Different  41     \n",
       "5 Different Different  78     \n",
       "6 Different Similar    87     "
      ]
     },
     "metadata": {},
     "output_type": "display_data"
    }
   ],
   "source": [
    "# Before we run any models, we must make sure that our dataset is clean\n",
    "sim = na.omit(sim)\n",
    "head(sim)"
   ]
  },
  {
   "cell_type": "code",
   "execution_count": 11,
   "metadata": {
    "tags": []
   },
   "outputs": [
    {
     "data": {
      "text/plain": [
       "\n",
       "Call:\n",
       "lm(formula = Distance ~ phon_similar + sem_similar, data = sim)\n",
       "\n",
       "Residuals:\n",
       "    Min      1Q  Median      3Q     Max \n",
       "-79.350 -26.453  -4.167  19.536 138.833 \n",
       "\n",
       "Coefficients:\n",
       "                 Estimate Std. Error t value Pr(>|t|)    \n",
       "(Intercept)        79.556      3.631  21.912   <2e-16 ***\n",
       "phon_similarTRUE    5.795      4.181   1.386   0.1667    \n",
       "sem_similarTRUE   -10.184      4.181  -2.435   0.0154 *  \n",
       "---\n",
       "Signif. codes:  0 ‘***’ 0.001 ‘**’ 0.01 ‘*’ 0.05 ‘.’ 0.1 ‘ ’ 1\n",
       "\n",
       "Residual standard error: 39.81 on 360 degrees of freedom\n",
       "Multiple R-squared:  0.02148,\tAdjusted R-squared:  0.01604 \n",
       "F-statistic: 3.951 on 2 and 360 DF,  p-value: 0.02008\n"
      ]
     },
     "metadata": {},
     "output_type": "display_data"
    }
   ],
   "source": [
    "# Using this predicate, we make \"one-hot\" vectors that can be averaged in order\n",
    "# to apply scaling. \n",
    "sem_similar = sim$Sem == \"Similar\"\n",
    "phon_similar = sim$Phon == \"Similar\"\n",
    "summary(lm(Distance ~ phon_similar + sem_similar, sim))"
   ]
  },
  {
   "cell_type": "code",
   "execution_count": 12,
   "metadata": {},
   "outputs": [
    {
     "data": {
      "text/plain": [
       "\n",
       "Call:\n",
       "lm(formula = Distance ~ sem_similar, data = sim)\n",
       "\n",
       "Residuals:\n",
       "    Min      1Q  Median      3Q     Max \n",
       "-79.561 -27.448  -4.561  18.439 141.665 \n",
       "\n",
       "Coefficients:\n",
       "                Estimate Std. Error t value Pr(>|t|)    \n",
       "(Intercept)       82.561      2.915  28.321   <2e-16 ***\n",
       "sem_similarTRUE  -10.226      4.187  -2.443   0.0151 *  \n",
       "---\n",
       "Signif. codes:  0 ‘***’ 0.001 ‘**’ 0.01 ‘*’ 0.05 ‘.’ 0.1 ‘ ’ 1\n",
       "\n",
       "Residual standard error: 39.87 on 361 degrees of freedom\n",
       "Multiple R-squared:  0.01626,\tAdjusted R-squared:  0.01353 \n",
       "F-statistic: 5.966 on 1 and 361 DF,  p-value: 0.01506\n"
      ]
     },
     "metadata": {},
     "output_type": "display_data"
    }
   ],
   "source": [
    "summary(lm(Distance ~ sem_similar, sim))"
   ]
  },
  {
   "cell_type": "code",
   "execution_count": 13,
   "metadata": {
    "tags": []
   },
   "outputs": [
    {
     "data": {
      "text/plain": [
       "\n",
       "Call:\n",
       "lm(formula = Distance ~ phon_similar_c + sem_similar_c, data = sim)\n",
       "\n",
       "Residuals:\n",
       "    Min      1Q  Median      3Q     Max \n",
       "-79.350 -26.453  -4.167  19.536 138.833 \n",
       "\n",
       "Coefficients:\n",
       "               Estimate Std. Error t value Pr(>|t|)    \n",
       "(Intercept)      77.603      2.090  37.136   <2e-16 ***\n",
       "phon_similar_c    5.795      4.181   1.386   0.1667    \n",
       "sem_similar_c   -10.184      4.181  -2.435   0.0154 *  \n",
       "---\n",
       "Signif. codes:  0 ‘***’ 0.001 ‘**’ 0.01 ‘*’ 0.05 ‘.’ 0.1 ‘ ’ 1\n",
       "\n",
       "Residual standard error: 39.81 on 360 degrees of freedom\n",
       "Multiple R-squared:  0.02148,\tAdjusted R-squared:  0.01604 \n",
       "F-statistic: 3.951 on 2 and 360 DF,  p-value: 0.02008\n"
      ]
     },
     "metadata": {},
     "output_type": "display_data"
    }
   ],
   "source": [
    "standardize = function(x) {\n",
    "    # Using the standard scaling formula\n",
    "    return (x - mean(x)) / sd(x)\n",
    "}\n",
    "\n",
    "phon_similar_c = standardize(phon_similar)\n",
    "sem_similar_c = standardize(sem_similar)\n",
    "summary(lm(Distance ~ phon_similar_c + sem_similar_c, sim))"
   ]
  },
  {
   "cell_type": "markdown",
   "metadata": {},
   "source": [
    "Now using interaction:"
   ]
  },
  {
   "cell_type": "code",
   "execution_count": 14,
   "metadata": {},
   "outputs": [
    {
     "data": {
      "text/plain": [
       "\n",
       "Call:\n",
       "lm(formula = Distance ~ phon_similar_c + sem_similar_c + interaction_c, \n",
       "    data = sim)\n",
       "\n",
       "Residuals:\n",
       "   Min     1Q Median     3Q    Max \n",
       "-80.42 -26.42  -4.40  19.60 139.99 \n",
       "\n",
       "Coefficients:\n",
       "               Estimate Std. Error t value Pr(>|t|)    \n",
       "(Intercept)      77.603      2.092  37.100   <2e-16 ***\n",
       "phon_similar_c    8.023      5.833   1.375    0.170    \n",
       "sem_similar_c    -7.819      6.010  -1.301    0.194    \n",
       "interaction_c    -4.593      8.375  -0.548    0.584    \n",
       "---\n",
       "Signif. codes:  0 ‘***’ 0.001 ‘**’ 0.01 ‘*’ 0.05 ‘.’ 0.1 ‘ ’ 1\n",
       "\n",
       "Residual standard error: 39.85 on 359 degrees of freedom\n",
       "Multiple R-squared:  0.0223,\tAdjusted R-squared:  0.01413 \n",
       "F-statistic: 2.729 on 3 and 359 DF,  p-value: 0.04386\n"
      ]
     },
     "metadata": {},
     "output_type": "display_data"
    }
   ],
   "source": [
    "# For the interaction of a categorical variable, we multiply the \n",
    "# first categorical variable with the other\n",
    "interaction = sem_similar * phon_similar\n",
    "interaction_c = standardize(interaction)\n",
    "\n",
    "model_scaled = lm(Distance ~ phon_similar_c + sem_similar_c + interaction_c, sim)\n",
    "summary(model_scaled)"
   ]
  },
  {
   "cell_type": "markdown",
   "metadata": {},
   "source": [
    "### (b)\n",
    "Interpret the model estimates and the p-values"
   ]
  },
  {
   "cell_type": "markdown",
   "metadata": {},
   "source": [
    "We have already looked at the coefficients from the walkthrough:\n",
    "\n",
    "\"We get a bunch of information. \n",
    "Now that we have learned about uncertainty and significance testing, we can interpret the whole model output. \n",
    "The model estimates that phonologically similar villages are drawn 5.795 units further away than phonologically different villages (the intercept). \n",
    "This difference is statistically not significant (p = 0.1667). \n",
    "So if the null hypothesis is true, i.e. phonological similarity has no impact on distance, then the obtained t-value (t = 1.386) or more extreme t-values are too likely for us to reject the null. \n",
    "Moreover, the model estimates that semantically similar villages are drawn 10.184 units closer than semantically different villages (the intercept). \n",
    "This difference is statistically significant (p = 0.0154). \n",
    "So if the null hypothesis is true, i.e. semantically similarity has no impact on distance, then the obtained t-value (t = -2.435) or more extreme t-values are unlikely enough for us to reject the null. \"\n",
    "\n",
    "So there is not much more to be said about phonological and semantic similarity.\n",
    "\n",
    "The interaction coefficient shows that when the villages are both semantically similar and phonologically similar, the estimator predicts the distance to be 4.59 units closer. However, the difference is not statistically significant (p = 0.58). t-values equal, or more extreme than 0.548 are too likely to occur to reject the null hypothesis."
   ]
  },
  {
   "cell_type": "markdown",
   "metadata": {},
   "source": [
    "### (c)\n",
    "Compare your results to the results by Winter & Matlock (2013) - Experiment 2a (see PDF in Files). Do you get the same results as them? If not why? "
   ]
  },
  {
   "cell_type": "markdown",
   "metadata": {},
   "source": [
    "The p-values for the two categorical predictors were identical to the the first model, excluding the interactions. \n",
    "For the second run, when including the interactions as the third variable, the p-value was also identical"
   ]
  },
  {
   "cell_type": "markdown",
   "metadata": {},
   "source": [
    "The f-statistics are derived categorically, and as we can see, we can find (almost) the same numbers when running a separate regression model for each categorical predictor. It might be because they look at the f-statistic from row 1 through 359"
   ]
  },
  {
   "cell_type": "code",
   "execution_count": 23,
   "metadata": {},
   "outputs": [
    {
     "data": {
      "text/plain": [
       "\n",
       "Call:\n",
       "lm(formula = Distance ~ phon_similar, data = sim)\n",
       "\n",
       "Residuals:\n",
       "   Min     1Q Median     3Q    Max \n",
       "-74.45 -26.45  -3.58  19.42 133.55 \n",
       "\n",
       "Coefficients:\n",
       "                 Estimate Std. Error t value Pr(>|t|)    \n",
       "(Intercept)        74.580      3.022  24.682   <2e-16 ***\n",
       "phon_similarTRUE    5.870      4.210   1.394    0.164    \n",
       "---\n",
       "Signif. codes:  0 ‘***’ 0.001 ‘**’ 0.01 ‘*’ 0.05 ‘.’ 0.1 ‘ ’ 1\n",
       "\n",
       "Residual standard error: 40.09 on 361 degrees of freedom\n",
       "Multiple R-squared:  0.005356,\tAdjusted R-squared:  0.002601 \n",
       "F-statistic: 1.944 on 1 and 361 DF,  p-value: 0.1641\n"
      ]
     },
     "metadata": {},
     "output_type": "display_data"
    }
   ],
   "source": [
    "summary(lm(Distance ~ phon_similar, sim))"
   ]
  },
  {
   "cell_type": "code",
   "execution_count": 22,
   "metadata": {},
   "outputs": [
    {
     "data": {
      "text/plain": [
       "\n",
       "Call:\n",
       "lm(formula = Distance ~ sem_similar, data = sim)\n",
       "\n",
       "Residuals:\n",
       "    Min      1Q  Median      3Q     Max \n",
       "-79.561 -27.448  -4.561  18.439 141.665 \n",
       "\n",
       "Coefficients:\n",
       "                Estimate Std. Error t value Pr(>|t|)    \n",
       "(Intercept)       82.561      2.915  28.321   <2e-16 ***\n",
       "sem_similarTRUE  -10.226      4.187  -2.443   0.0151 *  \n",
       "---\n",
       "Signif. codes:  0 ‘***’ 0.001 ‘**’ 0.01 ‘*’ 0.05 ‘.’ 0.1 ‘ ’ 1\n",
       "\n",
       "Residual standard error: 39.87 on 361 degrees of freedom\n",
       "Multiple R-squared:  0.01626,\tAdjusted R-squared:  0.01353 \n",
       "F-statistic: 5.966 on 1 and 361 DF,  p-value: 0.01506\n"
      ]
     },
     "metadata": {},
     "output_type": "display_data"
    }
   ],
   "source": [
    "summary(lm(Distance ~ sem_similar, sim))"
   ]
  },
  {
   "cell_type": "markdown",
   "metadata": {},
   "source": [
    "### (Bonus I)\n",
    "Extract model predictions for all combinations of Phon and Sem and plot the results and the respective 95% confidence intervals."
   ]
  },
  {
   "cell_type": "code",
   "execution_count": null,
   "metadata": {},
   "outputs": [],
   "source": []
  },
  {
   "cell_type": "markdown",
   "metadata": {},
   "source": [
    "### (BONUS II)\n",
    "Superimpose the model estimates on top of the actual data, plotted as points. "
   ]
  },
  {
   "cell_type": "code",
   "execution_count": 17,
   "metadata": {},
   "outputs": [],
   "source": [
    "# YOUR CODE HERE"
   ]
  }
 ],
 "metadata": {
  "kernelspec": {
   "display_name": "R",
   "language": "R",
   "name": "ir"
  },
  "language_info": {
   "codemirror_mode": "r",
   "file_extension": ".r",
   "mimetype": "text/x-r-source",
   "name": "R",
   "pygments_lexer": "r",
   "version": "3.6.3"
  }
 },
 "nbformat": 4,
 "nbformat_minor": 4
}
