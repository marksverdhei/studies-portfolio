{
 "cells": [
  {
   "cell_type": "markdown",
   "metadata": {},
   "source": [
    "# IN4080 - Assignment 3  \n",
    "Markus Sverdvik Heiervang - markuhei  \n",
    "\n",
    "***  "
   ]
  },
  {
   "cell_type": "markdown",
   "metadata": {},
   "source": [
    "## Part 1: chatbot  \n",
    "\n"
   ]
  },
  {
   "cell_type": "code",
   "execution_count": 1,
   "metadata": {},
   "outputs": [],
   "source": [
    "import os, random, gzip, json, re\n",
    "import tensorflow as tf\n",
    "import tensorflow.keras as keras\n",
    "import encoder_client\n",
    "import numpy as np\n",
    "import itertools\n",
    "import functools\n",
    "import operator\n",
    "\n",
    "# For serialization\n",
    "import pickle"
   ]
  },
  {
   "cell_type": "markdown",
   "metadata": {},
   "source": [
    "I did so many changes to the class that i thought it was just better to copy the entire class over to this notebook than to swap all the methods. I added optional serialization to save time, meaning that i only had to compute the embeddings once.  \n",
    "\n",
    "Another thing I had to add was random state/seed. When doing machine learning experiments, assuring reproducibility is really important. We do this by applying seeds to the random number generators of numpy and tensorflow. Keras' dense layers are by default initialized with random samples from the uniform distribution as weights."
   ]
  },
  {
   "cell_type": "code",
   "execution_count": 2,
   "metadata": {},
   "outputs": [],
   "source": [
    "DIALOGUE_FILE = \"data/en-comedy.txt.gz\"\n",
    "FIRST_NAMES = \"data/first_names.json\"\n",
    "MODEL_URI = \"https://nr.no/~plison/data/model.tar.gz\"\n",
    "\n",
    "class Chatbot:\n",
    "    \"\"\"A dual encoder model for a Retrieval chatbot\"\"\"\n",
    "\n",
    "    def __init__(self, dialogue_data=DIALOGUE_FILE, embedding_path=None, random_state=None):\n",
    "        \"\"\"Initialises a chatbot based on a Dual Encoder architecture, with\n",
    "        utterances encoded using the pre-trained ConveRT model\n",
    "        (https://arxiv.org/abs/1911.03688).\"\"\"\n",
    "\n",
    "        if random_state is not None:\n",
    "            np.random.seed(random_state)\n",
    "            tf.random.set_seed(random_state)\n",
    "\n",
    "        # Loads the ConveRT utterance encoder\n",
    "        self.client = encoder_client.EncoderClient(MODEL_URI)\n",
    "        if embedding_path and os.path.exists(embedding_path):\n",
    "            with open(embedding_path, \"rb\") as f:\n",
    "                self.pairs, self.responses, self.response_embeddings = pickle.load(f)\n",
    "        else:\n",
    "            # Extracts the (context, response) pairs\n",
    "            self.pairs = self._extract_pairs(dialogue_data)\n",
    "\n",
    "            # Compute the embeddings for the responses (takes some time to compute!)\n",
    "            self.responses = [response for _, response in self.pairs]\n",
    "            self.response_embeddings = self.client.encode_responses(self.responses)\n",
    "\n",
    "            if embedding_path:\n",
    "                with open(embedding_path, \"wb+\") as f:\n",
    "                    pickle.dump([self.pairs, self.responses, self.response_embeddings], f)\n",
    "\n",
    "\n",
    "    def _extract_pairs(self, dialogue_data, max_nb_pairs=100000):\n",
    "        \"\"\"Given a file containing dialogue data, extracts a list of relevant\n",
    "        (context,response) pairs, where both the context and response are\n",
    "        strings. The 'context' is here simply the first utterance (such as a question),\n",
    "        and the 'response' the following utterance (such as an answer).\n",
    "\n",
    "        The (context, response) pairs should satisfy the following critera:\n",
    "        - The two strings should be consecutive, and part of the same movie/TV series\n",
    "        - Pairs in which one string contains parentheses, brackets, colons, semi-colons\n",
    "          or double quotes should be discarded.\n",
    "        - Pairs in which one string is entirely in uppercase should be discarded\n",
    "        - Pairs in which one string contains more than 10 words should be discarded\n",
    "        - Pairs in which one string contains a first name should be discarded\n",
    "          (see the json file FIRST_NAMES to detect those).\n",
    "\n",
    "        You are of course free to add additional critera to increase the quality of your\n",
    "        (context,response) pairs. You should stop the extract once you have reached\n",
    "        max_nb_pairs.\n",
    "\n",
    "        \"\"\"\n",
    "        a = list(self._pair_gen(dialogue_data, max_nb_pairs))\n",
    "        return a\n",
    "\n",
    "\n",
    "    def _pair_gen(self, dialogue_data, max_nb_pairs, separator=b\"###\"):\n",
    "        \"\"\"Auxiliary generator function for _extract_pairs\n",
    "        \"\"\"\n",
    "\n",
    "        nb_pairs = 0\n",
    "        with gzip.open(dialogue_data) as reader:\n",
    "            if next(reader, None) is None: return\n",
    "            with open(\"data/first_names.json\") as name_file:\n",
    "                names = [bytes(i, encoding=\"UTF8\") for i in json.load(name_file)]\n",
    "            iterator, empty = next(reader, None), None\n",
    "            while iterator is not empty:\n",
    "                prev = iterator\n",
    "                for line in itertools.takewhile(lambda x: not x.startswith(separator), reader):\n",
    "                    valid_punctuation = all(c not in line for c in b\"()[]:;\\\"\")\n",
    "                    valid_case = not line.isupper()\n",
    "                    valid_length = len(line.split()) <= 10\n",
    "                    valid_name = all(name not in line for name in names)\n",
    "\n",
    "                    if valid_punctuation and valid_case and valid_length and valid_name:\n",
    "                        if prev is not None:\n",
    "                            yield prev, line\n",
    "                            nb_pairs += 1\n",
    "                            if nb_pairs >= max_nb_pairs: return\n",
    "                        prev = line\n",
    "                    else:\n",
    "                        prev = None\n",
    "\n",
    "                iterator = next(reader, None)\n",
    "\n",
    "\n",
    "    def get_response(self, user_utterance):\n",
    "        \"\"\"Extracts the context embedding for the user utterance, and then computes\n",
    "        the dot product of this embeddings with all the response embeddings (already\n",
    "        computed in self.response_embeddings). The response with the highest dot\n",
    "        product is then selected.\n",
    "\n",
    "        To get the context embedding for the user utterance, simply use the method\n",
    "        client.encode_contexts(...).\n",
    "\n",
    "        The method returns a string with the response of the chatbot.\"\"\"\n",
    "        context_embedding = self.client.encode_contexts([user_utterance])\n",
    "        argmax = np.argmax(self.response_embeddings @ context_embedding.T)\n",
    "        return self.responses[argmax].decode(\"UTF8\")\n",
    "\n",
    "\n",
    "    def fine_tune(self, epochs=10):\n",
    "        \"\"\"Fine-tunes the dual encoder model by computing a transformation (linear\n",
    "        transformation + non-linear ReLU activation) of the response embeddings,\n",
    "        optimised on the (context, response) pairs extracted for the dataset.\n",
    "        The method updates the response embeddings with the transformed values\"\"\"\n",
    "\n",
    "        # Extract the training data (with both positive and negative examples)\n",
    "        context_embeddings2, response_embeddings2, outputs = self._get_training_data()\n",
    "\n",
    "        # Creates the two input layers (for the two embeddings)\n",
    "        input1 = tf.keras.layers.Input((context_embeddings2.shape[1],))\n",
    "        input2 = tf.keras.layers.Input((response_embeddings2.shape[1],))\n",
    "\n",
    "        # Computes the transformation of the response embeddings\n",
    "        dense2 = tf.keras.layers.Dense(response_embeddings2.shape[1], activation=\"relu\")\n",
    "\n",
    "        # Computes the dot product, and pass through a sigmoid to get a probability\n",
    "        dotproduct = tf.keras.layers.Dot(axes=1)\n",
    "        sigmoid = tf.keras.layers.Activation(tf.keras.activations.sigmoid)\n",
    "\n",
    "        # Connects together all layers\n",
    "        output_prob = sigmoid(dotproduct([input1, dense2(input2)]))\n",
    "\n",
    "        # Creates a new model, specifying the inputs and output\n",
    "        model = tf.keras.Model([input1, input2], output_prob)\n",
    "        model.summary()\n",
    "\n",
    "        # Compile the model the \"Adam\" optimiser and a cross-entropy loss\n",
    "        model.compile(loss=\"binary_crossentropy\", optimizer=\"adam\")\n",
    "\n",
    "        # Train the model on 10 epochs\n",
    "        model.fit([context_embeddings2, response_embeddings2], outputs,\n",
    "                  batch_size=32,epochs=epochs)\n",
    "\n",
    "        # Once the model is trained, we simple transform the response embeddings using\n",
    "        # the transformation we have learned\n",
    "        embeddings_tensor = dense2(self.response_embeddings)\n",
    "        self.response_embeddings = tf.keras.backend.eval(embeddings_tensor)\n",
    "\n",
    "\n",
    "    def _get_training_data(self, context_embedding_path=None):\n",
    "        \"\"\"Constructs a dataset to fine-tune the dual encoder. The dataset should\n",
    "        contain both positive examples (that is, pairs of context and response embeddings\n",
    "        that do correspond to actual response pairs) and negative examples (pairs of context\n",
    "        and response embeddings that are selected at random and are not related).\n",
    "\n",
    "        More precisely, the method should return 3 outputs:\n",
    "        - one matrix of shape (2*len(self.pairs), 512) with context embeddings from the pairs\n",
    "        - one matrix of shape (2*len(self.pairs), 512) with response embeddings from the pairs\n",
    "        - one array of shape 2*len(self.pairs) with binary values\n",
    "\n",
    "        Half of the training examples should be positive (actual pair of embeddings) and half\n",
    "        should be negative (pair of embeddings selected at random), which is why the total length\n",
    "        of the training data is twice the number of (context, response) pairs. For positive examples,\n",
    "        the corresponding value in the output array should be 1, and 0 for negative examples.\n",
    "\n",
    "        The response embeddings have already been computed (in self.response_embeddings) so you\n",
    "        don't need to compute them again. But you need to compute the context embeddings for your\n",
    "        pairs using the method client.encode_contexts(contexts).\n",
    "\n",
    "        Note that the positive and negative examples should be shuffled (to avoid confusing the\n",
    "        machine learning model by first starting with only positive examples, then having only\n",
    "        negative examples).\n",
    "        \"\"\"\n",
    "        # N will be the size of ur pairs\n",
    "        k = len(self.pairs)\n",
    "        N = 2*k\n",
    "\n",
    "        if not hasattr(self, \"context_embeddings\"):\n",
    "            if context_embedding_path and os.path.exists(context_embedding_path):\n",
    "                with open(context_embedding_path, \"rb\") as f:\n",
    "                    self.contexts, self.context_embeddings = pickle.load(f)\n",
    "            else:\n",
    "                self.contexts = [c for c, _ in self.pairs]\n",
    "                self.context_embeddings = self.client.encode_responses(self.contexts)\n",
    "                if context_embedding_path:\n",
    "                    with open(context_embedding_path, \"wb+\") as f:\n",
    "                        pickle.dump((self.contexts, self.context_embeddings), f)\n",
    "                        print(\"Sucessfully wrote to\", context_embedding_path)\n",
    "\n",
    "        negative_responses = self.response_embeddings.copy()\n",
    "        np.random.shuffle(negative_responses)\n",
    "\n",
    "        context = np.concatenate((self.context_embeddings, self.context_embeddings))\n",
    "        response = np.concatenate((self.response_embeddings, negative_responses))\n",
    "        target = np.concatenate((np.ones(k), np.zeros(k)))\n",
    "\n",
    "        perm = np.random.permutation(N)\n",
    "\n",
    "        return context[perm], response[perm], target[perm]"
   ]
  },
  {
   "cell_type": "code",
   "execution_count": 3,
   "metadata": {
    "scrolled": true
   },
   "outputs": [
    {
     "name": "stderr",
     "output_type": "stream",
     "text": [
      "I1113 22:37:54.911129 3766 resolver.py:79] Using /tmp/tfhub_modules to cache modules.\n",
      "I1113 22:37:54.916354 3766 resolver.py:416] Downloading TF-Hub Module 'https://nr.no/~plison/data/model.tar.gz'.\n",
      "I1113 22:38:07.935929 3766 resolver.py:122] Downloaded https://nr.no/~plison/data/model.tar.gz, Total size: 152.02MB\n",
      "I1113 22:38:07.937726 3766 resolver.py:431] Downloaded TF-Hub Module 'https://nr.no/~plison/data/model.tar.gz'.\n"
     ]
    },
    {
     "name": "stdout",
     "output_type": "stream",
     "text": [
      "INFO:tensorflow:Saver not created because there are no variables in the graph to restore\n"
     ]
    },
    {
     "name": "stderr",
     "output_type": "stream",
     "text": [
      "I1113 22:38:10.786688 3766 saver.py:1512] Saver not created because there are no variables in the graph to restore\n"
     ]
    },
    {
     "name": "stdout",
     "output_type": "stream",
     "text": [
      "INFO:tensorflow:Saver not created because there are no variables in the graph to restore\n"
     ]
    },
    {
     "name": "stderr",
     "output_type": "stream",
     "text": [
      "I1113 22:38:12.092604 3766 saver.py:1512] Saver not created because there are no variables in the graph to restore\n"
     ]
    },
    {
     "name": "stdout",
     "output_type": "stream",
     "text": [
      "INFO:tensorflow:Saver not created because there are no variables in the graph to restore\n"
     ]
    },
    {
     "name": "stderr",
     "output_type": "stream",
     "text": [
      "I1113 22:38:13.416030 3766 saver.py:1512] Saver not created because there are no variables in the graph to restore\n"
     ]
    }
   ],
   "source": [
    "\n",
    "ep = \"serial_data.pkl\"\n",
    "\n",
    "cb = Chatbot(embedding_path=ep, random_state=42)"
   ]
  },
  {
   "cell_type": "code",
   "execution_count": 4,
   "metadata": {},
   "outputs": [],
   "source": [
    "def get_sample_responses(chatbot):\n",
    "    sample_context = [\n",
    "        \"Who are you?\",\n",
    "        \"Where are you?\",\n",
    "        \"How old are you?\",\n",
    "        \"What is better than chicken soup?\",\n",
    "        \"What is the name of USA's president?\",\n",
    "        \"What is the species of Mark Zuckerberg?\"\n",
    "    ]\n",
    "    \n",
    "    for c in sample_context:\n",
    "        r = chatbot.get_response(c)\n",
    "        print(\"\\nContext:\", c)\n",
    "        print(\"Response:\", r)"
   ]
  },
  {
   "cell_type": "code",
   "execution_count": 5,
   "metadata": {
    "scrolled": false
   },
   "outputs": [
    {
     "name": "stderr",
     "output_type": "stream",
     "text": [
      "I1113 22:38:29.215152 3766 encoder_client.py:196] Encoding 1 examples.\n",
      "I1113 22:38:31.557791 3766 encoder_client.py:213] Encoded 1 examples in 2.343 seconds\n",
      "I1113 22:38:31.603714 3766 encoder_client.py:196] Encoding 1 examples.\n",
      "I1113 22:38:31.656604 3766 encoder_client.py:213] Encoded 1 examples in 0.053 seconds\n",
      "I1113 22:38:31.687384 3766 encoder_client.py:196] Encoding 1 examples.\n",
      "I1113 22:38:31.726227 3766 encoder_client.py:213] Encoded 1 examples in 0.039 seconds\n",
      "I1113 22:38:31.763630 3766 encoder_client.py:196] Encoding 1 examples.\n",
      "I1113 22:38:31.800792 3766 encoder_client.py:213] Encoded 1 examples in 0.037 seconds\n"
     ]
    },
    {
     "name": "stdout",
     "output_type": "stream",
     "text": [
      "\n",
      "Context: Who are you?\n",
      "Response: I'll tell you who I am.\n",
      "\n",
      "\n",
      "Context: Where are you?\n",
      "Response: I'm at the spa.\n",
      "\n",
      "\n",
      "Context: How old are you?\n",
      "Response: I'm 15.\n",
      "\n"
     ]
    },
    {
     "name": "stderr",
     "output_type": "stream",
     "text": [
      "I1113 22:38:31.832256 3766 encoder_client.py:196] Encoding 1 examples.\n",
      "I1113 22:38:31.866463 3766 encoder_client.py:213] Encoded 1 examples in 0.034 seconds\n",
      "I1113 22:38:31.894149 3766 encoder_client.py:196] Encoding 1 examples.\n",
      "I1113 22:38:31.928511 3766 encoder_client.py:213] Encoded 1 examples in 0.034 seconds\n"
     ]
    },
    {
     "name": "stdout",
     "output_type": "stream",
     "text": [
      "\n",
      "Context: What is better than chicken soup?\n",
      "Response: Fish soup.\n",
      "\n",
      "\n",
      "Context: What is the name of USA's president?\n",
      "Response: The bank president.\n",
      "\n",
      "\n",
      "Context: What is the species of Mark Zuckerberg?\n",
      "Response: Reptile.\n",
      "\n"
     ]
    }
   ],
   "source": [
    "get_sample_responses(cb)"
   ]
  },
  {
   "cell_type": "markdown",
   "metadata": {},
   "source": [
    "Some interesing results;"
   ]
  },
  {
   "cell_type": "code",
   "execution_count": 6,
   "metadata": {},
   "outputs": [
    {
     "name": "stdout",
     "output_type": "stream",
     "text": [
      "INFO:tensorflow:Saver not created because there are no variables in the graph to restore\n"
     ]
    },
    {
     "name": "stderr",
     "output_type": "stream",
     "text": [
      "I1113 22:38:35.392872 3766 saver.py:1512] Saver not created because there are no variables in the graph to restore\n"
     ]
    },
    {
     "name": "stdout",
     "output_type": "stream",
     "text": [
      "INFO:tensorflow:Saver not created because there are no variables in the graph to restore\n"
     ]
    },
    {
     "name": "stderr",
     "output_type": "stream",
     "text": [
      "I1113 22:38:36.660498 3766 saver.py:1512] Saver not created because there are no variables in the graph to restore\n"
     ]
    },
    {
     "name": "stdout",
     "output_type": "stream",
     "text": [
      "INFO:tensorflow:Saver not created because there are no variables in the graph to restore\n"
     ]
    },
    {
     "name": "stderr",
     "output_type": "stream",
     "text": [
      "I1113 22:38:38.116065 3766 saver.py:1512] Saver not created because there are no variables in the graph to restore\n",
      "I1113 22:38:40.035598 3766 encoder_client.py:196] Encoding 78436 examples.\n",
      "I1113 22:39:00.072528 3766 encoder_client.py:201] Encoded 4544 / 78436  (5.8%)\n",
      "I1113 22:39:20.334538 3766 encoder_client.py:201] Encoded 9728 / 78436  (12.4%)\n",
      "I1113 22:39:40.652751 3766 encoder_client.py:201] Encoded 14016 / 78436  (17.9%)\n",
      "I1113 22:40:00.948886 3766 encoder_client.py:201] Encoded 18368 / 78436  (23.4%)\n",
      "I1113 22:40:21.112281 3766 encoder_client.py:201] Encoded 22400 / 78436  (28.6%)\n",
      "I1113 22:40:41.331428 3766 encoder_client.py:201] Encoded 26048 / 78436  (33.2%)\n",
      "I1113 22:41:01.560943 3766 encoder_client.py:201] Encoded 29760 / 78436  (37.9%)\n",
      "I1113 22:41:21.966398 3766 encoder_client.py:201] Encoded 33280 / 78436  (42.4%)\n",
      "I1113 22:41:41.991283 3766 encoder_client.py:201] Encoded 36480 / 78436  (46.5%)\n",
      "I1113 22:42:01.994060 3766 encoder_client.py:201] Encoded 39552 / 78436  (50.4%)\n",
      "I1113 22:42:22.183825 3766 encoder_client.py:201] Encoded 42688 / 78436  (54.4%)\n",
      "I1113 22:42:42.491022 3766 encoder_client.py:201] Encoded 45632 / 78436  (58.2%)\n",
      "I1113 22:43:02.885105 3766 encoder_client.py:201] Encoded 48576 / 78436  (61.9%)\n",
      "I1113 22:43:23.047617 3766 encoder_client.py:201] Encoded 51072 / 78436  (65.1%)\n",
      "I1113 22:43:43.493268 3766 encoder_client.py:201] Encoded 53696 / 78436  (68.5%)\n",
      "I1113 22:44:03.849766 3766 encoder_client.py:201] Encoded 56256 / 78436  (71.7%)\n",
      "I1113 22:44:23.887742 3766 encoder_client.py:201] Encoded 58752 / 78436  (74.9%)\n",
      "I1113 22:44:44.355905 3766 encoder_client.py:201] Encoded 61312 / 78436  (78.2%)\n",
      "I1113 22:45:04.533667 3766 encoder_client.py:201] Encoded 63680 / 78436  (81.2%)\n",
      "I1113 22:45:24.949263 3766 encoder_client.py:201] Encoded 65984 / 78436  (84.1%)\n",
      "I1113 22:45:45.169725 3766 encoder_client.py:201] Encoded 68224 / 78436  (87.0%)\n",
      "I1113 22:46:05.281170 3766 encoder_client.py:201] Encoded 70464 / 78436  (89.8%)\n",
      "I1113 22:46:25.314071 3766 encoder_client.py:201] Encoded 72512 / 78436  (92.4%)\n",
      "I1113 22:46:45.667826 3766 encoder_client.py:201] Encoded 74624 / 78436  (95.1%)\n",
      "I1113 22:47:05.899224 3766 encoder_client.py:201] Encoded 76544 / 78436  (97.6%)\n",
      "I1113 22:47:26.634722 3766 encoder_client.py:213] Encoded 78436 examples in 526.599 seconds\n"
     ]
    },
    {
     "name": "stdout",
     "output_type": "stream",
     "text": [
      "Sucessfully wrote to context_embeddings.pkl\n",
      "Model: \"functional_1\"\n",
      "__________________________________________________________________________________________________\n",
      "Layer (type)                    Output Shape         Param #     Connected to                     \n",
      "==================================================================================================\n",
      "input_2 (InputLayer)            [(None, 512)]        0                                            \n",
      "__________________________________________________________________________________________________\n",
      "input_1 (InputLayer)            [(None, 512)]        0                                            \n",
      "__________________________________________________________________________________________________\n",
      "dense (Dense)                   (None, 512)          262656      input_2[0][0]                    \n",
      "__________________________________________________________________________________________________\n",
      "dot (Dot)                       (None, 1)            0           input_1[0][0]                    \n",
      "                                                                 dense[0][0]                      \n",
      "__________________________________________________________________________________________________\n",
      "activation (Activation)         (None, 1)            0           dot[0][0]                        \n",
      "==================================================================================================\n",
      "Total params: 262,656\n",
      "Trainable params: 262,656\n",
      "Non-trainable params: 0\n",
      "__________________________________________________________________________________________________\n",
      "Train on 200000 samples\n",
      "Epoch 1/10\n",
      "200000/200000 [==============================] - 24s 120us/sample - loss: 0.6318\n",
      "Epoch 2/10\n",
      "200000/200000 [==============================] - 25s 126us/sample - loss: 0.5719\n",
      "Epoch 3/10\n",
      "200000/200000 [==============================] - 23s 114us/sample - loss: 0.5420\n",
      "Epoch 4/10\n",
      "200000/200000 [==============================] - 23s 116us/sample - loss: 0.5205\n",
      "Epoch 5/10\n",
      "200000/200000 [==============================] - 23s 116us/sample - loss: 0.5030\n",
      "Epoch 6/10\n",
      "200000/200000 [==============================] - 23s 115us/sample - loss: 0.4882\n",
      "Epoch 7/10\n",
      "200000/200000 [==============================] - 23s 116us/sample - loss: 0.4752\n",
      "Epoch 8/10\n",
      "200000/200000 [==============================] - 23s 115us/sample - loss: 0.4636\n",
      "Epoch 9/10\n",
      "200000/200000 [==============================] - 23s 115us/sample - loss: 0.4529\n",
      "Epoch 10/10\n",
      "200000/200000 [==============================] - 23s 115us/sample - loss: 0.4432\n"
     ]
    }
   ],
   "source": [
    "ft = Chatbot(embedding_path=\"serial_data.pkl\", random_state=42)\n",
    "ft._get_training_data(context_embedding_path=\"context_embeddings.pkl\")\n",
    "ft.fine_tune()"
   ]
  },
  {
   "cell_type": "code",
   "execution_count": 7,
   "metadata": {
    "scrolled": false
   },
   "outputs": [
    {
     "name": "stderr",
     "output_type": "stream",
     "text": [
      "I1113 22:51:31.233206 3766 encoder_client.py:196] Encoding 1 examples.\n",
      "I1113 22:51:32.199136 3766 encoder_client.py:213] Encoded 1 examples in 0.966 seconds\n",
      "I1113 22:51:32.220657 3766 encoder_client.py:196] Encoding 1 examples.\n",
      "I1113 22:51:32.248235 3766 encoder_client.py:213] Encoded 1 examples in 0.028 seconds\n",
      "I1113 22:51:32.277886 3766 encoder_client.py:196] Encoding 1 examples.\n",
      "I1113 22:51:32.298898 3766 encoder_client.py:213] Encoded 1 examples in 0.021 seconds\n",
      "I1113 22:51:32.338680 3766 encoder_client.py:196] Encoding 1 examples.\n",
      "I1113 22:51:32.377384 3766 encoder_client.py:213] Encoded 1 examples in 0.039 seconds\n",
      "I1113 22:51:32.405515 3766 encoder_client.py:196] Encoding 1 examples.\n"
     ]
    },
    {
     "name": "stdout",
     "output_type": "stream",
     "text": [
      "\n",
      "Context: Who are you?\n",
      "Response: I don't know who I am.\n",
      "\n",
      "\n",
      "Context: Where are you?\n",
      "Response: - Where is she?\n",
      "\n",
      "\n",
      "Context: How old are you?\n",
      "Response: -I don't want to talk to her right now.\n",
      "\n",
      "\n",
      "Context: What is better than chicken soup?\n",
      "Response: I'm making breakfast.\n",
      "\n"
     ]
    },
    {
     "name": "stderr",
     "output_type": "stream",
     "text": [
      "I1113 22:51:32.442628 3766 encoder_client.py:213] Encoded 1 examples in 0.037 seconds\n",
      "I1113 22:51:32.480080 3766 encoder_client.py:196] Encoding 1 examples.\n",
      "I1113 22:51:32.516567 3766 encoder_client.py:213] Encoded 1 examples in 0.036 seconds\n"
     ]
    },
    {
     "name": "stdout",
     "output_type": "stream",
     "text": [
      "\n",
      "Context: What is the name of USA's president?\n",
      "Response: I'm afraid he isn't here at the moment, miss.\n",
      "\n",
      "\n",
      "Context: What is the species of Mark Zuckerberg?\n",
      "Response: He's my ex-husband.\n",
      "\n"
     ]
    }
   ],
   "source": [
    "get_sample_responses(ft)"
   ]
  },
  {
   "cell_type": "markdown",
   "metadata": {},
   "source": [
    "Our results get slightly worse than before fine tuning. By looking at our results, it is apparent that the loss has not really converged, and is still a little too high. We can probably get a lower loss score without overfitting, by increasing the epochs "
   ]
  },
  {
   "cell_type": "code",
   "execution_count": 8,
   "metadata": {},
   "outputs": [
    {
     "name": "stdout",
     "output_type": "stream",
     "text": [
      "INFO:tensorflow:Saver not created because there are no variables in the graph to restore\n"
     ]
    },
    {
     "name": "stderr",
     "output_type": "stream",
     "text": [
      "I1113 22:51:35.908485 3766 saver.py:1512] Saver not created because there are no variables in the graph to restore\n"
     ]
    },
    {
     "name": "stdout",
     "output_type": "stream",
     "text": [
      "INFO:tensorflow:Saver not created because there are no variables in the graph to restore\n"
     ]
    },
    {
     "name": "stderr",
     "output_type": "stream",
     "text": [
      "I1113 22:51:38.097243 3766 saver.py:1512] Saver not created because there are no variables in the graph to restore\n"
     ]
    },
    {
     "name": "stdout",
     "output_type": "stream",
     "text": [
      "INFO:tensorflow:Saver not created because there are no variables in the graph to restore\n"
     ]
    },
    {
     "name": "stderr",
     "output_type": "stream",
     "text": [
      "I1113 22:51:39.674233 3766 saver.py:1512] Saver not created because there are no variables in the graph to restore\n"
     ]
    },
    {
     "name": "stdout",
     "output_type": "stream",
     "text": [
      "Model: \"functional_3\"\n",
      "__________________________________________________________________________________________________\n",
      "Layer (type)                    Output Shape         Param #     Connected to                     \n",
      "==================================================================================================\n",
      "input_4 (InputLayer)            [(None, 512)]        0                                            \n",
      "__________________________________________________________________________________________________\n",
      "input_3 (InputLayer)            [(None, 512)]        0                                            \n",
      "__________________________________________________________________________________________________\n",
      "dense_1 (Dense)                 (None, 512)          262656      input_4[0][0]                    \n",
      "__________________________________________________________________________________________________\n",
      "dot_1 (Dot)                     (None, 1)            0           input_3[0][0]                    \n",
      "                                                                 dense_1[0][0]                    \n",
      "__________________________________________________________________________________________________\n",
      "activation_1 (Activation)       (None, 1)            0           dot_1[0][0]                      \n",
      "==================================================================================================\n",
      "Total params: 262,656\n",
      "Trainable params: 262,656\n",
      "Non-trainable params: 0\n",
      "__________________________________________________________________________________________________\n",
      "Train on 200000 samples\n",
      "Epoch 1/20\n",
      "200000/200000 [==============================] - 22s 108us/sample - loss: 0.6313\n",
      "Epoch 2/20\n",
      "200000/200000 [==============================] - 22s 109us/sample - loss: 0.5713\n",
      "Epoch 3/20\n",
      "200000/200000 [==============================] - 22s 109us/sample - loss: 0.5415\n",
      "Epoch 4/20\n",
      "200000/200000 [==============================] - 22s 109us/sample - loss: 0.5199\n",
      "Epoch 5/20\n",
      "200000/200000 [==============================] - 22s 109us/sample - loss: 0.5026\n",
      "Epoch 6/20\n",
      "200000/200000 [==============================] - 22s 110us/sample - loss: 0.4878\n",
      "Epoch 7/20\n",
      "200000/200000 [==============================] - 22s 111us/sample - loss: 0.4749\n",
      "Epoch 8/20\n",
      "200000/200000 [==============================] - 22s 110us/sample - loss: 0.4633\n",
      "Epoch 9/20\n",
      "200000/200000 [==============================] - 22s 110us/sample - loss: 0.4527\n",
      "Epoch 10/20\n",
      "200000/200000 [==============================] - 22s 111us/sample - loss: 0.4430\n",
      "Epoch 11/20\n",
      "200000/200000 [==============================] - 22s 111us/sample - loss: 0.4341\n",
      "Epoch 12/20\n",
      "200000/200000 [==============================] - 22s 111us/sample - loss: 0.4257\n",
      "Epoch 13/20\n",
      "200000/200000 [==============================] - 22s 111us/sample - loss: 0.4178\n",
      "Epoch 14/20\n",
      "200000/200000 [==============================] - 22s 111us/sample - loss: 0.4105\n",
      "Epoch 15/20\n",
      "200000/200000 [==============================] - 22s 111us/sample - loss: 0.4036\n",
      "Epoch 16/20\n",
      "200000/200000 [==============================] - 22s 112us/sample - loss: 0.3969\n",
      "Epoch 17/20\n",
      "200000/200000 [==============================] - 22s 111us/sample - loss: 0.3906\n",
      "Epoch 18/20\n",
      "200000/200000 [==============================] - 22s 111us/sample - loss: 0.3847\n",
      "Epoch 19/20\n",
      "200000/200000 [==============================] - 22s 112us/sample - loss: 0.3789\n",
      "Epoch 20/20\n",
      "200000/200000 [==============================] - 22s 112us/sample - loss: 0.3734\n"
     ]
    }
   ],
   "source": [
    "ft2 = Chatbot(embedding_path=\"serial_data.pkl\", random_state=42)\n",
    "ft2._get_training_data(context_embedding_path=\"context_embeddings.pkl\")\n",
    "ft2.fine_tune(epochs=20)"
   ]
  },
  {
   "cell_type": "code",
   "execution_count": 9,
   "metadata": {},
   "outputs": [
    {
     "name": "stderr",
     "output_type": "stream",
     "text": [
      "I1113 22:59:13.260916 3766 encoder_client.py:196] Encoding 1 examples.\n",
      "I1113 22:59:14.313084 3766 encoder_client.py:213] Encoded 1 examples in 1.052 seconds\n"
     ]
    },
    {
     "data": {
      "text/plain": [
       "\"I'm making breakfast.\\n\""
      ]
     },
     "execution_count": 9,
     "metadata": {},
     "output_type": "execute_result"
    }
   ],
   "source": [
    "ft2.get_response(\"What is better than chicken soup?\")"
   ]
  },
  {
   "cell_type": "code",
   "execution_count": 10,
   "metadata": {},
   "outputs": [
    {
     "name": "stderr",
     "output_type": "stream",
     "text": [
      "I1113 22:59:14.373043 3766 encoder_client.py:196] Encoding 1 examples.\n",
      "I1113 22:59:14.398319 3766 encoder_client.py:213] Encoded 1 examples in 0.025 seconds\n",
      "I1113 22:59:14.423150 3766 encoder_client.py:196] Encoding 1 examples.\n",
      "I1113 22:59:14.448733 3766 encoder_client.py:213] Encoded 1 examples in 0.026 seconds\n",
      "I1113 22:59:14.473195 3766 encoder_client.py:196] Encoding 1 examples.\n",
      "I1113 22:59:14.507256 3766 encoder_client.py:213] Encoded 1 examples in 0.034 seconds\n",
      "I1113 22:59:14.552717 3766 encoder_client.py:196] Encoding 1 examples.\n",
      "I1113 22:59:14.590106 3766 encoder_client.py:213] Encoded 1 examples in 0.037 seconds\n"
     ]
    },
    {
     "name": "stdout",
     "output_type": "stream",
     "text": [
      "\n",
      "Context: Who are you?\n",
      "Response: I don't know who I am.\n",
      "\n",
      "\n",
      "Context: Where are you?\n",
      "Response: - Where is she?\n",
      "\n",
      "\n",
      "Context: How old are you?\n",
      "Response: - She's gone.\n",
      "\n",
      "\n",
      "Context: What is better than chicken soup?\n",
      "Response: I'm making breakfast.\n",
      "\n",
      "\n",
      "Context: What is the name of USA's president?\n",
      "Response: I don't know where she is.\n",
      "\n"
     ]
    },
    {
     "name": "stderr",
     "output_type": "stream",
     "text": [
      "I1113 22:59:14.620870 3766 encoder_client.py:196] Encoding 1 examples.\n",
      "I1113 22:59:14.664051 3766 encoder_client.py:213] Encoded 1 examples in 0.043 seconds\n"
     ]
    },
    {
     "name": "stdout",
     "output_type": "stream",
     "text": [
      "\n",
      "Context: What is the species of Mark Zuckerberg?\n",
      "Response: He's my ex-husband.\n",
      "\n"
     ]
    }
   ],
   "source": [
    "get_sample_responses(ft2)"
   ]
  },
  {
   "cell_type": "markdown",
   "metadata": {},
   "source": [
    "Though worth an attempt, the increase of epochs did not really seem to give better results. Doubling number of epochs gave a slightly lower loss, but no noticably improved results. \n",
    "If i were to investigate further, I would try fitting the finetuning layer even further, and perhaps with more parameters as well. It might also be the case that our dataset is a little noisy, where the examples of bad responses actually were good or vice versa. Perhaps it could be measured by using dot products between the sentences in the original encoder."
   ]
  },
  {
   "cell_type": "markdown",
   "metadata": {},
   "source": [
    "## Part 2: audio processing"
   ]
  },
  {
   "cell_type": "code",
   "execution_count": 11,
   "metadata": {},
   "outputs": [],
   "source": [
    "import numpy as np\n",
    "import scipy.io.wavfile\n",
    "import matplotlib.pyplot as plt\n",
    "fs, data = scipy.io.wavfile.read(\"data/excerpt.wav\")\n",
    "data = data.astype(np.int32)"
   ]
  },
  {
   "cell_type": "markdown",
   "metadata": {},
   "source": [
    "The fs constant describes the frequency of the audio file. As displayed below, this audio file has a frequency of 16kHz"
   ]
  },
  {
   "cell_type": "code",
   "execution_count": 48,
   "metadata": {},
   "outputs": [
    {
     "data": {
      "text/plain": [
       "16000"
      ]
     },
     "execution_count": 48,
     "metadata": {},
     "output_type": "execute_result"
    }
   ],
   "source": [
    "fs"
   ]
  },
  {
   "cell_type": "code",
   "execution_count": 12,
   "metadata": {},
   "outputs": [
    {
     "data": {
      "text/plain": [
       "[<matplotlib.lines.Line2D at 0x7fdcf069ded0>]"
      ]
     },
     "execution_count": 12,
     "metadata": {},
     "output_type": "execute_result"
    },
    {
     "data": {
      "image/png": "[encoded data removed]",
      "text/plain": [
       "<Figure size 432x288 with 1 Axes>"
      ]
     },
     "metadata": {
      "needs_background": "light"
     },
     "output_type": "display_data"
    }
   ],
   "source": [
    "plt.plot(data)"
   ]
  },
  {
   "cell_type": "markdown",
   "metadata": {},
   "source": [
    "We plot the first second of the data"
   ]
  },
  {
   "cell_type": "code",
   "execution_count": 25,
   "metadata": {},
   "outputs": [
    {
     "data": {
      "image/png": "[encoded data removed]",
      "text/plain": [
       "<Figure size 432x288 with 1 Axes>"
      ]
     },
     "metadata": {
      "needs_background": "light"
     },
     "output_type": "display_data"
    }
   ],
   "source": [
    "plt.specgram(data[:fs], Fs=fs)\n",
    "None"
   ]
  },
  {
   "cell_type": "markdown",
   "metadata": {},
   "source": [
    "The total energy of our audio is:"
   ]
  },
  {
   "cell_type": "code",
   "execution_count": 26,
   "metadata": {},
   "outputs": [
    {
     "data": {
      "text/plain": [
       "200416094535"
      ]
     },
     "execution_count": 26,
     "metadata": {},
     "output_type": "execute_result"
    }
   ],
   "source": [
    "energy = np.sum(data**2)\n",
    "energy"
   ]
  },
  {
   "cell_type": "markdown",
   "metadata": {},
   "source": [
    "assuming our clip is 16khz, 100 ms would equate to 160 values"
   ]
  },
  {
   "cell_type": "code",
   "execution_count": 27,
   "metadata": {},
   "outputs": [],
   "source": [
    "window_starts = np.arange(0, len(data)-320, 160)\n",
    "window_ends = np.arange(320, len(data), 160)\n"
   ]
  },
  {
   "cell_type": "code",
   "execution_count": 28,
   "metadata": {},
   "outputs": [],
   "source": [
    "windows = np.vstack((window_starts, window_ends)).T"
   ]
  },
  {
   "cell_type": "markdown",
   "metadata": {},
   "source": [
    "this could probably be vectorized, but i didnt find a clever way in time"
   ]
  },
  {
   "cell_type": "code",
   "execution_count": 29,
   "metadata": {},
   "outputs": [
    {
     "data": {
      "text/plain": [
       "array([157697425, 174021648,  98926905, ...,  93406128,  91924764,\n",
       "        66350261])"
      ]
     },
     "execution_count": 29,
     "metadata": {},
     "output_type": "execute_result"
    }
   ],
   "source": [
    "energies = np.array([np.sum(data[s:e]**2) for s, e in windows])\n",
    "energies"
   ]
  },
  {
   "cell_type": "code",
   "execution_count": 30,
   "metadata": {},
   "outputs": [
    {
     "data": {
      "text/plain": [
       "50167938.291061595"
      ]
     },
     "execution_count": 30,
     "metadata": {},
     "output_type": "execute_result"
    }
   ],
   "source": [
    "mean_e = energies.mean()\n",
    "mean_e"
   ]
  },
  {
   "cell_type": "code",
   "execution_count": 31,
   "metadata": {},
   "outputs": [],
   "source": [
    "frames_silent = energies <= mean_e / 10"
   ]
  },
  {
   "cell_type": "markdown",
   "metadata": {},
   "source": [
    "The red lines in the plot describes our detected silence"
   ]
  },
  {
   "cell_type": "code",
   "execution_count": 32,
   "metadata": {},
   "outputs": [
    {
     "data": {
      "image/png": "[encoded data removed]",
      "text/plain": [
       "<Figure size 432x288 with 1 Axes>"
      ]
     },
     "metadata": {
      "needs_background": "light"
     },
     "output_type": "display_data"
    }
   ],
   "source": [
    "plt.plot(data, zorder=0)\n",
    "for i, (s, e) in enumerate(windows):\n",
    "    current = data[s:e]\n",
    "    if frames_silent[i]:\n",
    "        plt.hlines(0, xmin=s, xmax=e, lw=3, color=\"r\", zorder=1)"
   ]
  },
  {
   "cell_type": "code",
   "execution_count": 33,
   "metadata": {},
   "outputs": [],
   "source": [
    "from functools import reduce\n",
    "window_size = len(energies)\n",
    "shifter = np.pad(energies, 5)\n",
    "left = [shifter[5-i:-i-5] for i in range(5, 0, -1)]\n",
    "mid = [shifter[5:-5]]\n",
    "right = [shifter[5+i:i-5] for i in range(1, 6)]\n"
   ]
  },
  {
   "cell_type": "code",
   "execution_count": 34,
   "metadata": {
    "scrolled": true
   },
   "outputs": [
    {
     "data": {
      "text/plain": [
       "(3923, 4880)"
      ]
     },
     "execution_count": 34,
     "metadata": {},
     "output_type": "execute_result"
    }
   ],
   "source": [
    "def get_5_nbs(arr):\n",
    "    shifter = np.pad(arr, 5)\n",
    "    left = [shifter[5-i:-i-5] for i in range(5, 0, -1)]\n",
    "    mid = [shifter[5:-5]]\n",
    "    right = [shifter[5+i:len(shifter)-(5-i)] for i in range(1, 6)]\n",
    "    return left + mid + right\n",
    "\n",
    "pred = lambda x: x <= mean_e/10\n",
    "\n",
    "frames_silent_better = reduce(operator.and_, map(pred, get_5_nbs(energies)))\n",
    "frames_silent_better.sum(), frames_silent.sum()"
   ]
  },
  {
   "cell_type": "markdown",
   "metadata": {},
   "source": [
    "This time, the silence is a little more sparsely distributed"
   ]
  },
  {
   "cell_type": "code",
   "execution_count": 35,
   "metadata": {
    "scrolled": true
   },
   "outputs": [
    {
     "data": {
      "image/png": "[encoded data removed]",
      "text/plain": [
       "<Figure size 432x288 with 1 Axes>"
      ]
     },
     "metadata": {
      "needs_background": "light"
     },
     "output_type": "display_data"
    }
   ],
   "source": [
    "plt.plot(data, zorder=0)\n",
    "for i, (s, e) in enumerate(windows):\n",
    "    current = data[s:e]\n",
    "    if frames_silent_better[i]:\n",
    "#         thickness = np.mean(current)/2\n",
    "        thickness = 3\n",
    "        plt.hlines(0, xmin=s, xmax=e, lw=thickness, color=\"r\", zorder=1)"
   ]
  },
  {
   "cell_type": "markdown",
   "metadata": {},
   "source": [
    "## Part 3: Talking elevator"
   ]
  },
  {
   "cell_type": "markdown",
   "metadata": {},
   "source": [
    "The system should be able to properly respond to the requirements mentioned in the task description.  \n",
    "In my implementation, all the employees happened to be at the same floor"
   ]
  },
  {
   "cell_type": "code",
   "execution_count": 51,
   "metadata": {},
   "outputs": [],
   "source": [
    "import random\n",
    "import re\n",
    "from elevator import TalkingElevator\n",
    "\n",
    "random.seed(42)\n",
    "def process(self, user_message, confidence_score):\n",
    "    \"\"\"Process the user inputs\"\"\"\n",
    "    if not hasattr(self, \"state\"):\n",
    "        self.state = \"init\"\n",
    "    \n",
    "    if not hasattr(self, \"threshold\"):\n",
    "        self.threshold = 0.7\n",
    "        \n",
    "    user_message = user_message.lower()    \n",
    "    if self.state == \"init\":\n",
    "        self.respond(\"Welcome to this voice activated elevator: The Intelevator. What is your destination floor?\")\n",
    "        self.state = \"select_floor\"\n",
    "        \n",
    "    elif confidence_score <= self.threshold:\n",
    "        repeat_responses = [\n",
    "            \"Sorry, I did not quite catch that. Could you repeat yourself?\",\n",
    "            \"I did not understand that. Care to repeat yourself?\", \n",
    "            \"Could you stop mumbling and speak a little more clearly? Can't understand you at all\"\n",
    "        ]\n",
    "        \n",
    "        self.respond(random.choice(repeat_responses))\n",
    "        \n",
    "    elif re.match(r\"goodbye|bye\", user_message):\n",
    "        self.respond(\"See you some other time.\")\n",
    "        self.state = \"init\"\n",
    "    elif re.match(r\"(stop|no)\", user_message):\n",
    "        self.urgent_stop = True\n",
    "        self.respond(\"Stopping elevator. Where would you like go?\")\n",
    "        self.state = \"select_floor\"\n",
    "    elif self.state == \"select_floor\":\n",
    "        result = re.findall(r\"((^|\\s)([0-9]|10)(\\s|$))\", user_message)\n",
    "        if result:\n",
    "            if len(result) == 1:\n",
    "                if type(result[0]) == tuple:\n",
    "                    floor = int(result[0][0])\n",
    "                else: \n",
    "                    floor = int(result[0])\n",
    "                if floor in range(11):\n",
    "                    self.respond(f\"Taking you to floor {floor}\")\n",
    "                    self.go_to(floor)\n",
    "                else:\n",
    "                    self.respond(\"There is no such floor. Please select a different floor\")\n",
    "            else:\n",
    "                self.respond(\"would you like to go to foor \" + \" or \".join(result) + \"?\")\n",
    "        elif re.findall(\"r(erik\\svelldal|lilja\\søverlid|pierre\\slison|jan\\store\\slønning|jeremy\\sbarnes)\", user_message):\n",
    "            self.respond(\"On the 4th floor. Do you wish to go there?\")\n",
    "            self.state = \"yesno\"\n",
    "        elif re.match(r\"up\", user_message):\n",
    "            if self.cur_floor < 10:\n",
    "                self.respond(\"Going up\")\n",
    "                self.go_to(self.cur_floor+1)\n",
    "            else:\n",
    "                self.respond(\"We're already at the top floor\")\n",
    "        elif re.match(r\"down\", user_message):\n",
    "            if self.cur_floor > 1:\n",
    "                self.respond(\"Going down\")\n",
    "                self.go_to(self.cur_floor-1)\n",
    "            else:\n",
    "                self.respond(\"We're already at the bottom floor\")\n",
    "        elif re.match(r\"which.*floor\", user_message):\n",
    "            self.respond(f\"We're on {self.cur_floor}\")\n",
    "        else:\n",
    "            self.respond(\"Please state the floor number which you'd like to go to\")\n",
    "            \n",
    "    elif self.state == \"yesno\":\n",
    "        if \"yes\" in user_message:\n",
    "            self.respond(\"Going to floor 4\")\n",
    "            self.state = \"select_floor\"\n",
    "        elif \"no\" in user_message:\n",
    "            self.respond(\"Ok. Where would you like to go\")\n",
    "            self.state = \"select_floor\"\n",
    "        else:\n",
    "            self.respond(\"Yes or no?\")\n",
    "    else:\n",
    "        self.respond(\"Which floor would you like to go to?\")\n",
    "        self.state = \"select_floor\"\n",
    "\n",
    "setattr(TalkingElevator, \"process\", process)"
   ]
  },
  {
   "cell_type": "code",
   "execution_count": 53,
   "metadata": {
    "scrolled": true
   },
   "outputs": [],
   "source": [
    "elevator = TalkingElevator()"
   ]
  }
 ],
 "metadata": {
  "kernelspec": {
   "display_name": "Python 3",
   "language": "python",
   "name": "python3"
  },
  "language_info": {
   "codemirror_mode": {
    "name": "ipython",
    "version": 3
   },
   "file_extension": ".py",
   "mimetype": "text/x-python",
   "name": "python",
   "nbconvert_exporter": "python",
   "pygments_lexer": "ipython3",
   "version": "3.7.5"
  }
 },
 "nbformat": 4,
 "nbformat_minor": 2
}
