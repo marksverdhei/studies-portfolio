{
 "cells": [
  {
   "cell_type": "markdown",
   "metadata": {},
   "source": [
    "# IN4080 2020, Mandatory assignment 1, part B"
   ]
  },
  {
   "cell_type": "markdown",
   "metadata": {},
   "source": [
    "### About the assignment\n",
    "**Your answer should be delivered in devilry no later than Friday, 18 September at 23:59**\n",
    "\n",
    "This is the second part of mandatory assignment 1. See part A for general requirements. You are supposed to answer both parts."
   ]
  },
  {
   "cell_type": "markdown",
   "metadata": {},
   "source": [
    "### Goal of part B\n",
    "In this part you will get experience with\n",
    "\n",
    "- setting up and running experiments\n",
    "- splitting your data into development and test data\n",
    "- *n*-fold cross-validation\n",
    "- models for text classification\n",
    "- Naive Bayes vs Logistic Regression\n",
    "- the scikit-learner toolkit\n",
    "- vectorization of categorical data\n",
    "\n",
    "As background for the current assignment you should work through two tutorials\n",
    "\n",
    "- Document classification from the NLTK book, Ch. 6. See exercise 3 below for a correction to the NLTK book.\n",
    "- The scikit-learn tutorial on text classification, http://scikit-learn.org/stable/tutorial/text_analytics/working_with_text_data.html all the way up to and including \"Evaluation of the performance of the test set\".\n",
    "\n",
    "If you have any questions regarding these two tutorials, we will be happy to answer them during the group/lab sessions."
   ]
  },
  {
   "cell_type": "markdown",
   "metadata": {},
   "source": [
    "## Ex 1 First classifier and vectorization (10 points)\n",
    "### 1a) Inititial classifier\n",
    "We will work interactively in python/ipython/Jupyter notebook. Start by importing the tools we will be using:"
   ]
  },
  {
   "cell_type": "code",
   "execution_count": 1,
   "metadata": {},
   "outputs": [],
   "source": [
    "import nltk\n",
    "import random\n",
    "import numpy as np\n",
    "import scipy as sp\n",
    "import sklearn\n",
    "from sklearn.feature_extraction.text import CountVectorizer\n",
    "from sklearn.feature_extraction import DictVectorizer\n",
    "from sklearn.naive_bayes import MultinomialNB\n",
    "from sklearn.naive_bayes import BernoulliNB\n",
    "from sklearn.linear_model import LogisticRegression"
   ]
  },
  {
   "cell_type": "markdown",
   "metadata": {},
   "source": [
    "As data we will use the Movie Reviews Corpus that comes with NLTK."
   ]
  },
  {
   "cell_type": "code",
   "execution_count": 2,
   "metadata": {},
   "outputs": [],
   "source": [
    "from nltk.corpus import movie_reviews"
   ]
  },
  {
   "cell_type": "markdown",
   "metadata": {},
   "source": [
    "We can import the documents similarly to how it is done in the NLTK book for the Bernoulli Naive Bayes, with one change. We there use the tokenized texts with the command\n",
    "\n",
    "- `movie_reviews.words(fileid)`\n",
    "\n",
    "Following the recipe from the scikit \"Working with text data\" page, we can instead use the raw documents which we can get from NLTK by\n",
    "\n",
    "- `movie_reviews.raw(fileid)`\n",
    "\n",
    "scikit will then tokenize for us as part of\n",
    "*count_vect.fit* (or *count_vect.fit_transform*)."
   ]
  },
  {
   "cell_type": "code",
   "execution_count": 1,
   "metadata": {},
   "outputs": [
    {
     "ename": "NameError",
     "evalue": "name 'movie_reviews' is not defined",
     "output_type": "error",
     "traceback": [
      "\u001b[0;31m---------------------------------------------------------------------------\u001b[0m",
      "\u001b[0;31mNameError\u001b[0m                                 Traceback (most recent call last)",
      "\u001b[0;32m<ipython-input-1-ab2982a07afd>\u001b[0m in \u001b[0;36m<module>\u001b[0;34m\u001b[0m\n\u001b[1;32m      1\u001b[0m \u001b[0;32mtry\u001b[0m\u001b[0;34m:\u001b[0m\u001b[0;34m\u001b[0m\u001b[0;34m\u001b[0m\u001b[0m\n\u001b[1;32m      2\u001b[0m     raw_movie_docs = [(movie_reviews.words(fileid), category) for\n\u001b[0;32m----> 3\u001b[0;31m                       \u001b[0mcategory\u001b[0m \u001b[0;32min\u001b[0m \u001b[0mmovie_reviews\u001b[0m\u001b[0;34m.\u001b[0m\u001b[0mcategories\u001b[0m\u001b[0;34m(\u001b[0m\u001b[0;34m)\u001b[0m \u001b[0;32mfor\u001b[0m \u001b[0mfileid\u001b[0m \u001b[0;32min\u001b[0m\u001b[0;34m\u001b[0m\u001b[0;34m\u001b[0m\u001b[0m\n\u001b[0m\u001b[1;32m      4\u001b[0m                       movie_reviews.fileids(category)]\n\u001b[1;32m      5\u001b[0m \u001b[0;32mexcept\u001b[0m \u001b[0mLookupError\u001b[0m\u001b[0;34m:\u001b[0m\u001b[0;34m\u001b[0m\u001b[0;34m\u001b[0m\u001b[0m\n",
      "\u001b[0;31mNameError\u001b[0m: name 'movie_reviews' is not defined"
     ]
    }
   ],
   "source": [
    "try:\n",
    "    raw_movie_docs = [(movie_reviews.raw(fileid), category) for\n",
    "                      category in movie_reviews.categories() for fileid in\n",
    "                      movie_reviews.fileids(category)]\n",
    "except LookupError:\n",
    "    nltk.download('movie_reviews')\n",
    "    raw_movie_docs = [(movie_reviews.raw(fileid), category) for\n",
    "                      category in movie_reviews.categories() for fileid in\n",
    "                      movie_reviews.fileids(category)]\n"
   ]
  },
  {
   "cell_type": "markdown",
   "metadata": {},
   "source": [
    "We will shuffle the data and split it into 200 documents for final testing (which we will not use for a while) and 1800 documents for development. Use your birth date as random seed."
   ]
  },
  {
   "cell_type": "code",
   "execution_count": 4,
   "metadata": {},
   "outputs": [],
   "source": [
    "random.seed(2405)\n",
    "random.shuffle(raw_movie_docs)\n",
    "movie_test = raw_movie_docs[:200]\n",
    "movie_dev  = raw_movie_docs[200:]"
   ]
  },
  {
   "cell_type": "markdown",
   "metadata": {},
   "source": [
    "Then split the development data into 1600 documents for training and 200 for development test set, call them *train_data* and *dev_test_data*. The *train_data* should now be a list of 1600 items, where each is a pair of a text represented as a string and a label. You should then split this *train_data* into two lists, each of 1600 elements, the first, *train_texts*, containing the texts (as strings) for each document, and the *train_target*, containing the corresponding 1600 labels. Do similarly to the *dev_test_data*."
   ]
  },
  {
   "cell_type": "code",
   "execution_count": 5,
   "metadata": {},
   "outputs": [
    {
     "data": {
      "text/plain": [
       "(1600, 200)"
      ]
     },
     "execution_count": 5,
     "metadata": {},
     "output_type": "execute_result"
    }
   ],
   "source": [
    "train_data, dev_test_data = movie_dev[200:], movie_dev[:200]\n",
    "len(train_data), len(dev_test_data)"
   ]
  },
  {
   "cell_type": "code",
   "execution_count": 6,
   "metadata": {},
   "outputs": [],
   "source": [
    "train_texts, train_target = map(list, zip(*train_data))\n",
    "dev_test_texts, dev_test_target = map(list, zip(*dev_test_data))"
   ]
  },
  {
   "cell_type": "markdown",
   "metadata": {},
   "source": [
    "It is then time to extract features from the text. We import"
   ]
  },
  {
   "cell_type": "code",
   "execution_count": 7,
   "metadata": {},
   "outputs": [],
   "source": [
    "from sklearn.feature_extraction.text import CountVectorizer"
   ]
  },
  {
   "cell_type": "markdown",
   "metadata": {},
   "source": [
    "We then make a CountVectorizer *v*. This first considers the whole set of training data, to determine which features to extract:"
   ]
  },
  {
   "cell_type": "code",
   "execution_count": 8,
   "metadata": {},
   "outputs": [
    {
     "data": {
      "text/plain": [
       "CountVectorizer(analyzer='word', binary=False, decode_error='strict',\n",
       "        dtype=<class 'numpy.int64'>, encoding='utf-8', input='content',\n",
       "        lowercase=True, max_df=1.0, max_features=None, min_df=1,\n",
       "        ngram_range=(1, 1), preprocessor=None, stop_words=None,\n",
       "        strip_accents=None, token_pattern='(?u)\\\\b\\\\w\\\\w+\\\\b',\n",
       "        tokenizer=None, vocabulary=None)"
      ]
     },
     "execution_count": 8,
     "metadata": {},
     "output_type": "execute_result"
    }
   ],
   "source": [
    "v = CountVectorizer()\n",
    "v.fit(train_texts)"
   ]
  },
  {
   "cell_type": "markdown",
   "metadata": {},
   "source": [
    "Then we use this vectorizer to extract features from the training data and the test data"
   ]
  },
  {
   "cell_type": "code",
   "execution_count": 9,
   "metadata": {},
   "outputs": [],
   "source": [
    "train_vectors = v.transform(train_texts)\n",
    "dev_test_vectors = v.transform(dev_test_texts)"
   ]
  },
  {
   "cell_type": "markdown",
   "metadata": {},
   "source": [
    "To understand what is going on, you may inspect the *train_vectors* a little more. "
   ]
  },
  {
   "cell_type": "markdown",
   "metadata": {},
   "source": [
    "We are now ready to train a classifier"
   ]
  },
  {
   "cell_type": "code",
   "execution_count": 10,
   "metadata": {},
   "outputs": [
    {
     "data": {
      "text/plain": [
       "MultinomialNB(alpha=1.0, class_prior=None, fit_prior=True)"
      ]
     },
     "execution_count": 10,
     "metadata": {},
     "output_type": "execute_result"
    }
   ],
   "source": [
    "clf = MultinomialNB()\n",
    "clf.fit(train_vectors, train_target)"
   ]
  },
  {
   "cell_type": "markdown",
   "metadata": {},
   "source": [
    "We can proceed and see how the classifier will classify one test document, e.g.\n",
    "```\n",
    "dev_test_texts[14]\n",
    "clf.predict(dev_test_vectors[14])\n",
    "```\n",
    "We can use the procedure to predict the results for all the test_data, by\n",
    "```\n",
    "clf.predict(dev_test_vectors)\n",
    "```"
   ]
  },
  {
   "cell_type": "markdown",
   "metadata": {},
   "source": [
    "We can use this for further evaluation (accuracy, recall, precision, etc.) by comparing to *dev_test_targets*. Alternatively, we can  get the accuracy directly by"
   ]
  },
  {
   "cell_type": "code",
   "execution_count": 11,
   "metadata": {},
   "outputs": [
    {
     "data": {
      "text/plain": [
       "0.81"
      ]
     },
     "execution_count": 11,
     "metadata": {},
     "output_type": "execute_result"
    }
   ],
   "source": [
    "clf.score(dev_test_vectors, dev_test_target)"
   ]
  },
  {
   "cell_type": "markdown",
   "metadata": {},
   "source": [
    "Congratulations! You have now made and tested a multinomial naive Bayes text classifier."
   ]
  },
  {
   "cell_type": "markdown",
   "metadata": {},
   "source": [
    "### 1b) Parameters of the vectorizer \n",
    "We have so far considered the standard parameters for the procedures from scikit-learn. These procedures have, however, many parameters. To get optimal results, we should adjust the parameters. We can use *train_data* for training various models and *dev_test_data* for testing and comparing them.\n"
   ]
  },
  {
   "cell_type": "markdown",
   "metadata": {},
   "source": [
    "To see the parameters for CountVectorizer we may use\n",
    "\n",
    "`help(CountVectorizer)`\n",
    "\n",
    "In ipython/Jupyter notebook we may alternatively use\n",
    "\n",
    "`CountVectorizer?`\n",
    "\n",
    "We observe that *CountVectorizer* case-folds by default. For a different corpus, it could be interesting to check the effect of this feature, but even  the *movie_reviews.raw()* is already in lower case, so that does not have  an effect here (You may check!) We could also have explored the effect of exchanging the default tokenizer included in CountVectorizer with other tokenizers.\n",
    "\n",
    "Another interesting feature is *binary*. Setting this to *True* implies only counting whether a word occurs in a document and not how many times it occurs. It could be interesting to see the effect of this feature. \n",
    "\n",
    "(Observe, by the way, that this is not the same as the Bernoulli model for text classfication. The Bernoulli model takes into consideration both the probability of being present for the present words, as well as the probability of not being present for the absent words. The binary multinomial model only considers the present words.)\n",
    "\n",
    "The feature *ngram_range=[1,1]* means we use tokens (=unigrams) only, [2,2] means using bigrams only, while [1,2] means both unigrams and bigrams, and so on.\n",
    "\n",
    "Run experiments where you let *binary* vary over [False, True] and *ngram_range* vary over [[1,1], [1,2], [1,3]] and report the accuracy with the 6 different settings in a 2x3 table.\n",
    "\n",
    "Which settings yield the best results?"
   ]
  },
  {
   "cell_type": "markdown",
   "metadata": {},
   "source": [
    "#### Deliveries: \n",
    "Code and results of running the code as described. Table. Answers to the questions."
   ]
  },
  {
   "cell_type": "code",
   "execution_count": 12,
   "metadata": {},
   "outputs": [
    {
     "data": {
      "text/plain": [
       "array([[0.81 , 0.815, 0.81 ],\n",
       "       [0.86 , 0.83 , 0.86 ]])"
      ]
     },
     "execution_count": 12,
     "metadata": {},
     "output_type": "execute_result"
    }
   ],
   "source": [
    "arr = np.zeros((2, 3))\n",
    "for p in False, True:\n",
    "    for i in range(1, 4):\n",
    "        v = CountVectorizer(binary=p, ngram_range=[1, i])\n",
    "        v.fit(train_texts)\n",
    "        train_vectors = v.transform(train_texts)\n",
    "        dev_test_vectors = v.transform(dev_test_texts)\n",
    "        \n",
    "        clf = MultinomialNB()\n",
    "        clf.fit(train_vectors, train_target)\n",
    "        \n",
    "        arr[int(p), i-1] = clf.score(dev_test_vectors, dev_test_target)\n",
    "        \n",
    "arr"
   ]
  },
  {
   "cell_type": "code",
   "execution_count": 13,
   "metadata": {},
   "outputs": [
    {
     "data": {
      "text/html": [
       "<div>\n",
       "<style scoped>\n",
       "    .dataframe tbody tr th:only-of-type {\n",
       "        vertical-align: middle;\n",
       "    }\n",
       "\n",
       "    .dataframe tbody tr th {\n",
       "        vertical-align: top;\n",
       "    }\n",
       "\n",
       "    .dataframe thead th {\n",
       "        text-align: right;\n",
       "    }\n",
       "</style>\n",
       "<table border=\"1\" class=\"dataframe\">\n",
       "  <thead>\n",
       "    <tr style=\"text-align: right;\">\n",
       "      <th></th>\n",
       "      <th>[1, 1]</th>\n",
       "      <th>[1, 2]</th>\n",
       "      <th>[1, 3]</th>\n",
       "    </tr>\n",
       "  </thead>\n",
       "  <tbody>\n",
       "    <tr>\n",
       "      <th>False</th>\n",
       "      <td>0.81</td>\n",
       "      <td>0.815</td>\n",
       "      <td>0.81</td>\n",
       "    </tr>\n",
       "    <tr>\n",
       "      <th>True</th>\n",
       "      <td>0.86</td>\n",
       "      <td>0.830</td>\n",
       "      <td>0.86</td>\n",
       "    </tr>\n",
       "  </tbody>\n",
       "</table>\n",
       "</div>"
      ],
      "text/plain": [
       "       [1, 1]  [1, 2]  [1, 3]\n",
       "False    0.81   0.815    0.81\n",
       "True     0.86   0.830    0.86"
      ]
     },
     "execution_count": 13,
     "metadata": {},
     "output_type": "execute_result"
    }
   ],
   "source": [
    "import pandas as pd\n",
    "pd.DataFrame(data=arr, index=[False, True], columns=[\"[1, 1]\", \"[1, 2]\", \"[1, 3]\"])"
   ]
  },
  {
   "cell_type": "markdown",
   "metadata": {},
   "source": [
    "## Ex 2 *n*-fold cross-validation (12 points)\n",
    "### 2a) \n",
    "Our *dev_test_data* contain only 200 items. That is a small number for a test set for a binary classifier. The numbers we report may depend to a large degree on the split between training and test data. To get more reliable numbers, we may use *n*-gram cross-validation. We can use the whole *dev_test_data* of 1800 items for this. To get round numbers, we decide to use 9-fold cross-validation, which will put 200 items in each test set.\n",
    "\n",
    "Use the best settings from exercise 1 and run a 9-fold cross-validation. Report the accuracy for each run, together with the mean and standard deviation of the 9 runs.\n",
    "\n",
    "In this exercise, you are requested to implement the routine for cross-validation yourself, and not aplly the scikit-learn function."
   ]
  },
  {
   "cell_type": "markdown",
   "metadata": {},
   "source": [
    "#### Deliveries: \n",
    "Code and results of running the code as described. Accuracy for each run, together with the mean and standard deviation of the accuracies for the 9 runs."
   ]
  },
  {
   "cell_type": "code",
   "execution_count": 14,
   "metadata": {},
   "outputs": [
    {
     "data": {
      "text/plain": [
       "1600"
      ]
     },
     "execution_count": 14,
     "metadata": {},
     "output_type": "execute_result"
    }
   ],
   "source": [
    "len(train_texts)"
   ]
  },
  {
   "cell_type": "code",
   "execution_count": 15,
   "metadata": {},
   "outputs": [],
   "source": [
    "class KFold:\n",
    "    def __init__(self, k: int):\n",
    "        self._k = k\n",
    "        \n",
    "    def split(self, features: np.ndarray) -> np.ndarray:\n",
    "        size = features.shape[0]\n",
    "        indices = np.arange(size)\n",
    "        test_size = size//self._k\n",
    "        \n",
    "        for i in range(self._k):\n",
    "            test_indices = indices[i*test_size:(1+i)*test_size]\n",
    "            # train_indices = indices[np.logical_not(test_indices)]\n",
    "            #  print(indices[:i*test_size])\n",
    "            #  print(indices[(i+1)*test_size:])\n",
    "            train_indices = np.concatenate((indices[:i*test_size], indices[(i+1)*test_size:]))\n",
    "            yield train_indices, test_indices\n",
    "\n",
    "kf = KFold(k=9)"
   ]
  },
  {
   "cell_type": "code",
   "execution_count": 16,
   "metadata": {},
   "outputs": [
    {
     "data": {
      "text/plain": [
       "(1800,)"
      ]
     },
     "execution_count": 16,
     "metadata": {},
     "output_type": "execute_result"
    }
   ],
   "source": [
    "# make indexing easier\n",
    "kf_features, kf_targets = np.array(train_texts + dev_test_texts), np.array(train_target + dev_test_target)\n",
    "kf_features.shape"
   ]
  },
  {
   "cell_type": "code",
   "execution_count": 17,
   "metadata": {},
   "outputs": [
    {
     "name": "stdout",
     "output_type": "stream",
     "text": [
      "Phase 0 0.885\n",
      "Phase 1 0.875\n",
      "Phase 2 0.835\n",
      "Phase 3 0.89\n",
      "Phase 4 0.87\n",
      "Phase 5 0.855\n",
      "Phase 6 0.87\n",
      "Phase 7 0.78\n",
      "Phase 8 0.86\n",
      "Mean: 0.8577777777777779\n",
      "stdev: 0.03154459903684086\n"
     ]
    }
   ],
   "source": [
    "accs = np.zeros(9)\n",
    "for i, (train_index, test_index) in enumerate(kf.split(kf_features)):\n",
    "    X_train_text, X_test_text = kf_features[train_index], kf_features[test_index]\n",
    "    Y_train, Y_test = kf_targets[train_index], kf_targets[test_index]\n",
    "    \n",
    "    v = CountVectorizer(binary=True, ngram_range=(1,3))\n",
    "    \n",
    "    v.fit(X_train_text)\n",
    "    X_train, X_test = v.transform(X_train_text), v.transform(X_test_text)\n",
    "    \n",
    "    nb = MultinomialNB()\n",
    "    \n",
    "    nb.fit(X_train, Y_train)\n",
    "    acc = nb.score(X_test, Y_test)\n",
    "    print(\"Phase\", i, acc)\n",
    "    accs[i] = acc\n",
    "print(\"Mean:\", accs.mean())\n",
    "print(\"stdev:\", accs.std())"
   ]
  },
  {
   "cell_type": "markdown",
   "metadata": {},
   "source": [
    "### 2b)\n",
    "The large variation we see between the results, raises a question regarding whether the optimal settings we found in exercise 1, would also be optimal for another split between training and test.\n",
    "\n",
    "To find out, we combine the 9-fold cross-validation with the various setting for CountVectorizer. For each of the 6 settings, run 9-fold cross-validation and calculate the mean accuracy. Report the results in a 2x3 table. Answer: Do you see the same as when you only used one test set?"
   ]
  },
  {
   "cell_type": "markdown",
   "metadata": {},
   "source": [
    "#### Deliveries: \n",
    "Code and results of running the code as described. Table. Answers to the questions."
   ]
  },
  {
   "cell_type": "code",
   "execution_count": 18,
   "metadata": {},
   "outputs": [
    {
     "name": "stdout",
     "output_type": "stream",
     "text": [
      "Testing, binary = False , ngram_range = [1, 1]\n",
      "Testing, binary = False , ngram_range = [1, 2]\n",
      "Testing, binary = False , ngram_range = [1, 3]\n",
      "Testing, binary = True , ngram_range = [1, 1]\n",
      "Testing, binary = True , ngram_range = [1, 2]\n",
      "Testing, binary = True , ngram_range = [1, 3]\n"
     ]
    },
    {
     "data": {
      "text/plain": [
       "array([[0.80611111, 0.82722222, 0.82277778],\n",
       "       [0.82611111, 0.85333333, 0.85777778]])"
      ]
     },
     "execution_count": 18,
     "metadata": {},
     "output_type": "execute_result"
    }
   ],
   "source": [
    "arr = np.zeros((2, 3))\n",
    "k = 9\n",
    "kf = KFold(k)\n",
    "for p in False, True:\n",
    "    for i in range(1, 4):\n",
    "        print(\"Testing, binary =\", p, \", ngram_range =\", [1, i])\n",
    "        for train_index, test_index in kf.split(kf_features):\n",
    "            X_train_text, X_test_text = kf_features[train_index], kf_features[test_index]\n",
    "            Y_train, Y_test = kf_targets[train_index], kf_targets[test_index]\n",
    "\n",
    "            v = CountVectorizer(binary=p, ngram_range=[1, i])\n",
    "\n",
    "            v.fit(X_train_text)\n",
    "            X_train, X_test = v.transform(X_train_text), v.transform(X_test_text)\n",
    "    \n",
    "            nb = MultinomialNB()\n",
    "            nb.fit(X_train, Y_train)\n",
    "            acc = nb.score(X_test, Y_test)\n",
    "            arr[int(p), i-1] += acc\n",
    "arr /= k\n",
    "arr"
   ]
  },
  {
   "cell_type": "markdown",
   "metadata": {},
   "source": [
    "## Ex 3  Logistic Regression (8 points)"
   ]
  },
  {
   "cell_type": "markdown",
   "metadata": {},
   "source": [
    "We know that Logistic Regression may produce better results than Naive Bayes. We will see what happens if we use Logistic Regression instead of Naive Bayes.\n",
    "We start with the same multinomial model for text classification as in exercises (1) and (2) above (i.e. we process the data the same way and use the same vectorizer), but exchange the learner with sciki-learn's LogisticRegression. Since logistic regression is slow to train, we restrict ourselves somewhat with respect to which experiments to run. \n",
    "We consider two settings for the CountVectorizer, the default setting and the setting which gave the best result with naive Bayes (though, this does not have to be the best setting for the logistic regression). For each of the two settings, run 9-fold cross-validation and calculate the mean accuracy. Compare the results in a 2x2 table where one axis is Naive Bayes vs. Logistic Regression and the other axis is default settings vs. earlier best settings for CountVectorizer. Write a few sentences where you discuss what you see from the table."
   ]
  },
  {
   "cell_type": "markdown",
   "metadata": {},
   "source": [
    "#### Deliveries: \n",
    "Code and results of running the code as described. The 2x2 table. Interpretation of the table."
   ]
  },
  {
   "cell_type": "code",
   "execution_count": 20,
   "metadata": {},
   "outputs": [
    {
     "data": {
      "text/plain": [
       "array([[0.80611111, 0.85333333],\n",
       "       [0.84611111, 0.87722222]])"
      ]
     },
     "execution_count": 20,
     "metadata": {},
     "output_type": "execute_result"
    }
   ],
   "source": [
    "arr = np.zeros((2,2))\n",
    "\n",
    "create_vs = CountVectorizer, lambda : CountVectorizer(binary=True, ngram_range=(1,2))\n",
    "\n",
    "logreg_params = {\"solver\": \"lbfgs\", \"max_iter\": 500}\n",
    "for i, create_clf in enumerate((MultinomialNB, lambda:LogisticRegression(**logreg_params))):\n",
    "    for j, create_v in enumerate(create_vs):\n",
    "        for train_index, test_index in kf.split(kf_features):\n",
    "            X_train_text, X_test_text = kf_features[train_index], kf_features[test_index]\n",
    "            Y_train, Y_test = kf_targets[train_index], kf_targets[test_index]\n",
    "            v = create_v()\n",
    "            v.fit(X_train_text)\n",
    "            X_train, X_test = v.transform(X_train_text), v.transform(X_test_text)\n",
    "\n",
    "            clf = create_clf()\n",
    "            clf.fit(X_train, Y_train)\n",
    "            acc = clf.score(X_test, Y_test)\n",
    "            arr[i, j] += acc\n",
    "            \n",
    "arr /= k\n",
    "arr"
   ]
  },
  {
   "cell_type": "code",
   "execution_count": 21,
   "metadata": {},
   "outputs": [
    {
     "data": {
      "text/html": [
       "<div>\n",
       "<style scoped>\n",
       "    .dataframe tbody tr th:only-of-type {\n",
       "        vertical-align: middle;\n",
       "    }\n",
       "\n",
       "    .dataframe tbody tr th {\n",
       "        vertical-align: top;\n",
       "    }\n",
       "\n",
       "    .dataframe thead th {\n",
       "        text-align: right;\n",
       "    }\n",
       "</style>\n",
       "<table border=\"1\" class=\"dataframe\">\n",
       "  <thead>\n",
       "    <tr style=\"text-align: right;\">\n",
       "      <th></th>\n",
       "      <th>default vectorizer</th>\n",
       "      <th>best vectorizer</th>\n",
       "    </tr>\n",
       "  </thead>\n",
       "  <tbody>\n",
       "    <tr>\n",
       "      <th>Multinomial NB</th>\n",
       "      <td>0.806111</td>\n",
       "      <td>0.853333</td>\n",
       "    </tr>\n",
       "    <tr>\n",
       "      <th>Logistic regression</th>\n",
       "      <td>0.846111</td>\n",
       "      <td>0.877222</td>\n",
       "    </tr>\n",
       "  </tbody>\n",
       "</table>\n",
       "</div>"
      ],
      "text/plain": [
       "                     default vectorizer  best vectorizer\n",
       "Multinomial NB                 0.806111         0.853333\n",
       "Logistic regression            0.846111         0.877222"
      ]
     },
     "execution_count": 21,
     "metadata": {},
     "output_type": "execute_result"
    }
   ],
   "source": [
    "pd.DataFrame(data=arr, index=[\"Multinomial NB\", \"Logistic regression\"], columns=[\"default vectorizer\", \"best vectorizer\"])"
   ]
  },
  {
   "cell_type": "markdown",
   "metadata": {},
   "source": [
    "## The end\n",
    "To fullfill a series of experiments, we would normally choose the best classifier after the development stage and test it on the final test set. But we think this suffice for this mandatory assignment. Moreover, we would like to run some more experiments in the future on the development data, before we contaminate them."
   ]
  }
 ],
 "metadata": {
  "kernelspec": {
   "display_name": "Python 3",
   "language": "python",
   "name": "python3"
  },
  "language_info": {
   "codemirror_mode": {
    "name": "ipython",
    "version": 3
   },
   "file_extension": ".py",
   "mimetype": "text/x-python",
   "name": "python",
   "nbconvert_exporter": "python",
   "pygments_lexer": "ipython3",
   "version": "3.7.5"
  }
 },
 "nbformat": 4,
 "nbformat_minor": 2
}
