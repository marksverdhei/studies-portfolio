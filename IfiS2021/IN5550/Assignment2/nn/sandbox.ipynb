{
 "cells": [
  {
   "cell_type": "markdown",
   "metadata": {},
   "source": [
    "# Sandbox  \n"
   ]
  },
  {
   "cell_type": "code",
   "execution_count": 1,
   "metadata": {},
   "outputs": [],
   "source": [
    "from data_utils import *\n",
    "from models import *\n",
    "from train import *"
   ]
  },
  {
   "cell_type": "code",
   "execution_count": 2,
   "metadata": {},
   "outputs": [
    {
     "name": "stdout",
     "output_type": "stream",
     "text": [
      "/home/markus/IfiS2021/IN5550/Assignment2/nn\n"
     ]
    }
   ],
   "source": [
    "!pwd"
   ]
  },
  {
   "cell_type": "code",
   "execution_count": 3,
   "metadata": {},
   "outputs": [],
   "source": [
    "X, y = load_and_pepare_data(\"../data/train_set.tsv\", raw=False)"
   ]
  },
  {
   "cell_type": "code",
   "execution_count": 4,
   "metadata": {},
   "outputs": [
    {
     "data": {
      "text/plain": [
       "(array(['a_DET fascinating_ADJ examination_NOUN of_ADP the_DET joyous_ADJ ,_PUNCT turbulent_ADJ self-discovery_NOUN make_VERB by_ADP a_DET proper_ADJ ,_PUNCT middle-aged_ADJ woman_NOUN ._PUNCT',\n",
       "        'it_PRON sound_VERB like_ADP another_ADJ clever_NOUN if_SCONJ pointless_ADJ excursion_NOUN into_ADP the_DET abyss_NOUN ,_PUNCT and_CCONJ that_PRON be_AUX very_ADV or_CCONJ less_ADV how_ADV it_PRON play_VERB out_ADV ._PUNCT',\n",
       "        'neat_ADV constructe_VERB thriller_ADV ._PUNCT', ...,\n",
       "        \"it_PRON would_AUX take_VERB a_DET complete_ADJ moron_NOUN to_PART foul_VERB up_ADV a_DET screen_ADJ adaptation_NOUN of_ADP oscar_PROPN wilde_ADP 's_PART classic_ADJ satire_NOUN ._PUNCT\",\n",
       "        'anyone_PRON who_PRON want_VERB to_PART start_VERB write_VERB screenplay_NOUN can_AUX just_ADV follow_VERB the_DET same_ADJ blueprint_NOUN from_ADP hundred_NOUN of_ADP other_ADJ film_NOUN ,_PUNCT sell_VERB it_PRON to_ADP the_DET high_ADJ bidder_NOUN and_CCONJ walk_VERB away_ADV without_ADP anyone_PRON truly_ADV know_VERB you_PRON identity_NOUN ._PUNCT',\n",
       "        'a_DET time_NOUN look_VERB back_ADV at_ADP civil_ADJ disobedience_NOUN ,_PUNCT anti-war_ADJ movement_NOUN and_CCONJ the_DET power_NOUN of_ADP strong_ADJ voice_NOUN ._PUNCT'],\n",
       "       dtype=object),\n",
       " tensor([[1.],\n",
       "         [0.],\n",
       "         [1.],\n",
       "         ...,\n",
       "         [0.],\n",
       "         [0.],\n",
       "         [1.]]))"
      ]
     },
     "execution_count": 4,
     "metadata": {},
     "output_type": "execute_result"
    }
   ],
   "source": [
    "X, y"
   ]
  },
  {
   "cell_type": "code",
   "execution_count": 5,
   "metadata": {},
   "outputs": [
    {
     "data": {
      "text/plain": [
       "array(['a_DET fascinating_ADJ examination_NOUN of_ADP the_DET joyous_ADJ ,_PUNCT turbulent_ADJ self-discovery_NOUN make_VERB by_ADP a_DET proper_ADJ ,_PUNCT middle-aged_ADJ woman_NOUN ._PUNCT',\n",
       "       'it_PRON sound_VERB like_ADP another_ADJ clever_NOUN if_SCONJ pointless_ADJ excursion_NOUN into_ADP the_DET abyss_NOUN ,_PUNCT and_CCONJ that_PRON be_AUX very_ADV or_CCONJ less_ADV how_ADV it_PRON play_VERB out_ADV ._PUNCT',\n",
       "       'neat_ADV constructe_VERB thriller_ADV ._PUNCT', ...,\n",
       "       \"it_PRON would_AUX take_VERB a_DET complete_ADJ moron_NOUN to_PART foul_VERB up_ADV a_DET screen_ADJ adaptation_NOUN of_ADP oscar_PROPN wilde_ADP 's_PART classic_ADJ satire_NOUN ._PUNCT\",\n",
       "       'anyone_PRON who_PRON want_VERB to_PART start_VERB write_VERB screenplay_NOUN can_AUX just_ADV follow_VERB the_DET same_ADJ blueprint_NOUN from_ADP hundred_NOUN of_ADP other_ADJ film_NOUN ,_PUNCT sell_VERB it_PRON to_ADP the_DET high_ADJ bidder_NOUN and_CCONJ walk_VERB away_ADV without_ADP anyone_PRON truly_ADV know_VERB you_PRON identity_NOUN ._PUNCT',\n",
       "       'a_DET time_NOUN look_VERB back_ADV at_ADP civil_ADJ disobedience_NOUN ,_PUNCT anti-war_ADJ movement_NOUN and_CCONJ the_DET power_NOUN of_ADP strong_ADJ voice_NOUN ._PUNCT'],\n",
       "      dtype=object)"
      ]
     },
     "execution_count": 5,
     "metadata": {},
     "output_type": "execute_result"
    }
   ],
   "source": [
    "X"
   ]
  },
  {
   "cell_type": "code",
   "execution_count": 6,
   "metadata": {},
   "outputs": [
    {
     "name": "stdout",
     "output_type": "stream",
     "text": [
      "algorithm {'command': None, 'id': 0, 'name': 'Gensim Continuous Skipgram', 'tool': 'Gensim', 'url': 'https://github.com/RaRe-Technologies/gensim', 'version': '3.8.1'}\n",
      "contents [{'filename': 'meta.json', 'format': 'json'}, {'filename': 'model.bin', 'format': 'data'}, {'filename': 'model.txt', 'format': 'text'}]\n",
      "corpus [{'NER': True, 'case preserved': True, 'description': 'English Wikipedia Dump of October 2019', 'id': 110, 'language': 'eng', 'lemmatized': True, 'public': True, 'stop words removal': 'functional PoS', 'tagger': 'UDPipe 1.2', 'tagset': 'UPoS', 'tokens': 3530685741, 'tool': 'https://github.com/RaRe-Technologies/gensim/blob/master/gensim/scripts/segment_wiki.py', 'url': 'https://dumps.wikimedia.org/'}]\n",
      "creators [{'email': 'andreku@ifi.uio.no', 'name': 'Andrey Kutuzov'}]\n",
      "dimensions 300\n",
      "handle http://vectors.nlpl.eu/repository/20/200.zip\n",
      "id 200\n",
      "iterations 10\n",
      "vocabulary size 249212\n",
      "window 3\n",
      "============\n"
     ]
    }
   ],
   "source": [
    "model = make_classifier(\"linear\", \"word2vec\", inputmethod=\"average\")"
   ]
  },
  {
   "cell_type": "code",
   "execution_count": 13,
   "metadata": {},
   "outputs": [],
   "source": [
    "T = torch.arange(5*6*7).reshape(5,6, 7)"
   ]
  },
  {
   "cell_type": "code",
   "execution_count": 14,
   "metadata": {},
   "outputs": [
    {
     "data": {
      "text/plain": [
       "tensor([[[  0,   1,   2,   3,   4,   5,   6],\n",
       "         [  7,   8,   9,  10,  11,  12,  13],\n",
       "         [ 14,  15,  16,  17,  18,  19,  20],\n",
       "         [ 21,  22,  23,  24,  25,  26,  27],\n",
       "         [ 28,  29,  30,  31,  32,  33,  34],\n",
       "         [ 35,  36,  37,  38,  39,  40,  41]],\n",
       "\n",
       "        [[ 42,  43,  44,  45,  46,  47,  48],\n",
       "         [ 49,  50,  51,  52,  53,  54,  55],\n",
       "         [ 56,  57,  58,  59,  60,  61,  62],\n",
       "         [ 63,  64,  65,  66,  67,  68,  69],\n",
       "         [ 70,  71,  72,  73,  74,  75,  76],\n",
       "         [ 77,  78,  79,  80,  81,  82,  83]],\n",
       "\n",
       "        [[ 84,  85,  86,  87,  88,  89,  90],\n",
       "         [ 91,  92,  93,  94,  95,  96,  97],\n",
       "         [ 98,  99, 100, 101, 102, 103, 104],\n",
       "         [105, 106, 107, 108, 109, 110, 111],\n",
       "         [112, 113, 114, 115, 116, 117, 118],\n",
       "         [119, 120, 121, 122, 123, 124, 125]],\n",
       "\n",
       "        [[126, 127, 128, 129, 130, 131, 132],\n",
       "         [133, 134, 135, 136, 137, 138, 139],\n",
       "         [140, 141, 142, 143, 144, 145, 146],\n",
       "         [147, 148, 149, 150, 151, 152, 153],\n",
       "         [154, 155, 156, 157, 158, 159, 160],\n",
       "         [161, 162, 163, 164, 165, 166, 167]],\n",
       "\n",
       "        [[168, 169, 170, 171, 172, 173, 174],\n",
       "         [175, 176, 177, 178, 179, 180, 181],\n",
       "         [182, 183, 184, 185, 186, 187, 188],\n",
       "         [189, 190, 191, 192, 193, 194, 195],\n",
       "         [196, 197, 198, 199, 200, 201, 202],\n",
       "         [203, 204, 205, 206, 207, 208, 209]]])"
      ]
     },
     "execution_count": 14,
     "metadata": {},
     "output_type": "execute_result"
    }
   ],
   "source": [
    "T"
   ]
  },
  {
   "cell_type": "code",
   "execution_count": 16,
   "metadata": {},
   "outputs": [
    {
     "data": {
      "text/plain": [
       "tensor([[ 35,  36,  37,  38,  39,  40,  41],\n",
       "        [ 77,  78,  79,  80,  81,  82,  83],\n",
       "        [119, 120, 121, 122, 123, 124, 125],\n",
       "        [161, 162, 163, 164, 165, 166, 167],\n",
       "        [203, 204, 205, 206, 207, 208, 209]])"
      ]
     },
     "execution_count": 16,
     "metadata": {},
     "output_type": "execute_result"
    }
   ],
   "source": [
    "T[:, -1]"
   ]
  }
 ],
 "metadata": {
  "kernelspec": {
   "display_name": "Python 3",
   "language": "python",
   "name": "python3"
  },
  "language_info": {
   "codemirror_mode": {
    "name": "ipython",
    "version": 3
   },
   "file_extension": ".py",
   "mimetype": "text/x-python",
   "name": "python",
   "nbconvert_exporter": "python",
   "pygments_lexer": "ipython3",
   "version": "3.8.5"
  }
 },
 "nbformat": 4,
 "nbformat_minor": 5
}
